{
 "cells": [
  {
   "cell_type": "markdown",
   "metadata": {},
   "source": [
    "### 寻找关键用户"
   ]
  },
  {
   "cell_type": "markdown",
   "metadata": {},
   "source": [
    "#### 初始数据\n",
    "- 用户用 `users` 列表存储。\n",
    "- 朋友关系用元组的形式存储：对应两人 `id` ，存储在列表中。"
   ]
  },
  {
   "cell_type": "code",
   "execution_count": 1,
   "metadata": {},
   "outputs": [],
   "source": [
    "users = [\n",
    "    {\"id\": 0, \"name\": \"Hero\"},\n",
    "    {\"id\": 1, \"name\": \"Dunn\"},\n",
    "    {\"id\": 2, \"name\": \"Sue\"},\n",
    "    {\"id\": 3, \"name\": \"Chi\"},\n",
    "    {\"id\": 4, \"name\": \"Thor\"},\n",
    "    {\"id\": 5, \"name\": \"Clive\"},\n",
    "    {\"id\": 6, \"name\": \"Hicks\"},\n",
    "    {\"id\": 7, \"name\": \"Devin\"},\n",
    "    {\"id\": 8, \"name\": \"Kate\"},\n",
    "    {\"id\": 9, \"name\": \"Klein\"}\n",
    "]\n",
    "\n",
    "friendship_pairs = [(0, 1), (0, 2), (1, 2), (1, 3), (2, 3), (3, 4),\n",
    "                    (4, 5), (5, 6), (5, 7), (6, 8), (7, 8), (8, 9)]"
   ]
  },
  {
   "cell_type": "markdown",
   "metadata": {},
   "source": [
    "用户关系网络可以画成图的形式：\n",
    "\n",
    "![image](https://github.com/X-lab2017/dase-2023-autumn/assets/50283262/b0331f38-df31-4969-bcbf-dd1492b20051)"
   ]
  },
  {
   "cell_type": "markdown",
   "metadata": {},
   "source": [
    "> **Tips** <br><br>\n",
    "> 也可以通过*邻接矩阵*的方法表示用户关系网络"
   ]
  },
  {
   "cell_type": "code",
   "execution_count": 2,
   "metadata": {},
   "outputs": [
    {
     "data": {
      "text/html": [
       "<div>\n",
       "<style scoped>\n",
       "    .dataframe tbody tr th:only-of-type {\n",
       "        vertical-align: middle;\n",
       "    }\n",
       "\n",
       "    .dataframe tbody tr th {\n",
       "        vertical-align: top;\n",
       "    }\n",
       "\n",
       "    .dataframe thead th {\n",
       "        text-align: right;\n",
       "    }\n",
       "</style>\n",
       "<table border=\"1\" class=\"dataframe\">\n",
       "  <thead>\n",
       "    <tr style=\"text-align: right;\">\n",
       "      <th></th>\n",
       "      <th>0</th>\n",
       "      <th>1</th>\n",
       "      <th>2</th>\n",
       "      <th>3</th>\n",
       "      <th>4</th>\n",
       "      <th>5</th>\n",
       "      <th>6</th>\n",
       "      <th>7</th>\n",
       "      <th>8</th>\n",
       "      <th>9</th>\n",
       "    </tr>\n",
       "  </thead>\n",
       "  <tbody>\n",
       "    <tr>\n",
       "      <th>0</th>\n",
       "      <td>0</td>\n",
       "      <td>1</td>\n",
       "      <td>1</td>\n",
       "      <td>0</td>\n",
       "      <td>0</td>\n",
       "      <td>0</td>\n",
       "      <td>0</td>\n",
       "      <td>0</td>\n",
       "      <td>0</td>\n",
       "      <td>0</td>\n",
       "    </tr>\n",
       "    <tr>\n",
       "      <th>1</th>\n",
       "      <td>1</td>\n",
       "      <td>0</td>\n",
       "      <td>1</td>\n",
       "      <td>1</td>\n",
       "      <td>0</td>\n",
       "      <td>0</td>\n",
       "      <td>0</td>\n",
       "      <td>0</td>\n",
       "      <td>0</td>\n",
       "      <td>0</td>\n",
       "    </tr>\n",
       "    <tr>\n",
       "      <th>2</th>\n",
       "      <td>1</td>\n",
       "      <td>1</td>\n",
       "      <td>0</td>\n",
       "      <td>1</td>\n",
       "      <td>0</td>\n",
       "      <td>0</td>\n",
       "      <td>0</td>\n",
       "      <td>0</td>\n",
       "      <td>0</td>\n",
       "      <td>0</td>\n",
       "    </tr>\n",
       "    <tr>\n",
       "      <th>3</th>\n",
       "      <td>0</td>\n",
       "      <td>1</td>\n",
       "      <td>1</td>\n",
       "      <td>0</td>\n",
       "      <td>1</td>\n",
       "      <td>0</td>\n",
       "      <td>0</td>\n",
       "      <td>0</td>\n",
       "      <td>0</td>\n",
       "      <td>0</td>\n",
       "    </tr>\n",
       "    <tr>\n",
       "      <th>4</th>\n",
       "      <td>0</td>\n",
       "      <td>0</td>\n",
       "      <td>0</td>\n",
       "      <td>1</td>\n",
       "      <td>0</td>\n",
       "      <td>1</td>\n",
       "      <td>0</td>\n",
       "      <td>0</td>\n",
       "      <td>0</td>\n",
       "      <td>0</td>\n",
       "    </tr>\n",
       "    <tr>\n",
       "      <th>5</th>\n",
       "      <td>0</td>\n",
       "      <td>0</td>\n",
       "      <td>0</td>\n",
       "      <td>0</td>\n",
       "      <td>1</td>\n",
       "      <td>0</td>\n",
       "      <td>1</td>\n",
       "      <td>1</td>\n",
       "      <td>0</td>\n",
       "      <td>0</td>\n",
       "    </tr>\n",
       "    <tr>\n",
       "      <th>6</th>\n",
       "      <td>0</td>\n",
       "      <td>0</td>\n",
       "      <td>0</td>\n",
       "      <td>0</td>\n",
       "      <td>0</td>\n",
       "      <td>1</td>\n",
       "      <td>0</td>\n",
       "      <td>0</td>\n",
       "      <td>1</td>\n",
       "      <td>0</td>\n",
       "    </tr>\n",
       "    <tr>\n",
       "      <th>7</th>\n",
       "      <td>0</td>\n",
       "      <td>0</td>\n",
       "      <td>0</td>\n",
       "      <td>0</td>\n",
       "      <td>0</td>\n",
       "      <td>1</td>\n",
       "      <td>0</td>\n",
       "      <td>0</td>\n",
       "      <td>1</td>\n",
       "      <td>0</td>\n",
       "    </tr>\n",
       "    <tr>\n",
       "      <th>8</th>\n",
       "      <td>0</td>\n",
       "      <td>0</td>\n",
       "      <td>0</td>\n",
       "      <td>0</td>\n",
       "      <td>0</td>\n",
       "      <td>0</td>\n",
       "      <td>1</td>\n",
       "      <td>1</td>\n",
       "      <td>0</td>\n",
       "      <td>1</td>\n",
       "    </tr>\n",
       "    <tr>\n",
       "      <th>9</th>\n",
       "      <td>0</td>\n",
       "      <td>0</td>\n",
       "      <td>0</td>\n",
       "      <td>0</td>\n",
       "      <td>0</td>\n",
       "      <td>0</td>\n",
       "      <td>0</td>\n",
       "      <td>0</td>\n",
       "      <td>1</td>\n",
       "      <td>0</td>\n",
       "    </tr>\n",
       "  </tbody>\n",
       "</table>\n",
       "</div>"
      ],
      "text/plain": [
       "   0  1  2  3  4  5  6  7  8  9\n",
       "0  0  1  1  0  0  0  0  0  0  0\n",
       "1  1  0  1  1  0  0  0  0  0  0\n",
       "2  1  1  0  1  0  0  0  0  0  0\n",
       "3  0  1  1  0  1  0  0  0  0  0\n",
       "4  0  0  0  1  0  1  0  0  0  0\n",
       "5  0  0  0  0  1  0  1  1  0  0\n",
       "6  0  0  0  0  0  1  0  0  1  0\n",
       "7  0  0  0  0  0  1  0  0  1  0\n",
       "8  0  0  0  0  0  0  1  1  0  1\n",
       "9  0  0  0  0  0  0  0  0  1  0"
      ]
     },
     "execution_count": 2,
     "metadata": {},
     "output_type": "execute_result"
    }
   ],
   "source": [
    "import pandas as pd\n",
    "\n",
    "friendship_pairs = [(0, 1), (0, 2), (1, 2), (1, 3), (2, 3), (3, 4),\n",
    "                    (4, 5), (5, 6), (5, 7), (6, 8), (7, 8), (8, 9)]\n",
    "\n",
    "# 找到节点的最大索引以确定矩阵的大小\n",
    "max_node = max(max(pair) for pair in friendship_pairs) + 1\n",
    "\n",
    "# 初始化邻接矩阵，全部置为0\n",
    "adjacency_matrix = [[0] * max_node for _ in range(max_node)]\n",
    "\n",
    "# 在邻接矩阵中标记存在的关系\n",
    "for pair in friendship_pairs:\n",
    "    node1, node2 = pair\n",
    "    adjacency_matrix[node1][node2] = 1\n",
    "    adjacency_matrix[node2][node1] = 1\n",
    "\n",
    "# 创建带有索引的 Pandas DataFrame\n",
    "df = pd.DataFrame(adjacency_matrix, index=range(\n",
    "    max_node), columns=range(max_node))\n",
    "\n",
    "# 打印 DataFrame\n",
    "df"
   ]
  },
  {
   "cell_type": "markdown",
   "metadata": {},
   "source": [
    "#### 用字典表示用户关系\n",
    "- friendship_pairs 的形式表示朋友关系不是最简单的表示方法。如果我想查询用户1的朋友，需要遍历所有的元组才能得到结果。"
   ]
  },
  {
   "cell_type": "code",
   "execution_count": 3,
   "metadata": {},
   "outputs": [
    {
     "data": {
      "text/plain": [
       "{0: [], 1: [], 2: [], 3: [], 4: [], 5: [], 6: [], 7: [], 8: [], 9: []}"
      ]
     },
     "execution_count": 3,
     "metadata": {},
     "output_type": "execute_result"
    }
   ],
   "source": [
    "# 初始化一个以用户id为键，以用户好友列表为值的字典\n",
    "friendships = {user[\"id\"]: [] for user in users}\n",
    "\n",
    "friendships"
   ]
  },
  {
   "cell_type": "code",
   "execution_count": 4,
   "metadata": {},
   "outputs": [
    {
     "data": {
      "text/plain": [
       "{0: [1, 2],\n",
       " 1: [0, 2, 3],\n",
       " 2: [0, 1, 3],\n",
       " 3: [1, 2, 4],\n",
       " 4: [3, 5],\n",
       " 5: [4, 6, 7],\n",
       " 6: [5, 8],\n",
       " 7: [5, 8],\n",
       " 8: [6, 7, 9],\n",
       " 9: [8]}"
      ]
     },
     "execution_count": 4,
     "metadata": {},
     "output_type": "execute_result"
    }
   ],
   "source": [
    "# 循环表示朋友关系的元组对，抽取每个元组对中的两个元素，将其分别添加到字典中对应的值列表中\n",
    "for i, j in friendship_pairs:\n",
    "    friendships[i].append(j)  # 将 j 添加为用户 i 的朋友\n",
    "    friendships[j].append(i)  # 将 i 添加为用户 j 的朋友\n",
    "\n",
    "friendships"
   ]
  },
  {
   "cell_type": "markdown",
   "metadata": {},
   "source": [
    "当拥有了 `friendships` 后，我们可以快速知道用户的朋友是谁，也可以想对应的统计量并且求出具体数值。"
   ]
  },
  {
   "cell_type": "markdown",
   "metadata": {},
   "source": [
    "#### 统计量场景1: 用户平均朋友数量"
   ]
  },
  {
   "cell_type": "code",
   "execution_count": 5,
   "metadata": {},
   "outputs": [
    {
     "data": {
      "text/plain": [
       "24"
      ]
     },
     "execution_count": 5,
     "metadata": {},
     "output_type": "execute_result"
    }
   ],
   "source": [
    "# 每个用户平均有多少个朋友?\n",
    "def number_of_friends(user):\n",
    "    \"\"\"这个用户有多少朋友?\"\"\"\n",
    "    user_id = user[\"id\"]\n",
    "    friend_ids = friendships[user_id]\n",
    "    return len(friend_ids)\n",
    "\n",
    "\n",
    "total_connections = sum(number_of_friends(user)\n",
    "                        for user in users)        # 24\n",
    "\n",
    "total_connections"
   ]
  },
  {
   "cell_type": "code",
   "execution_count": 6,
   "metadata": {},
   "outputs": [
    {
     "name": "stdout",
     "output_type": "stream",
     "text": [
      "10\n",
      "2.4\n"
     ]
    }
   ],
   "source": [
    "# 除以用户数量\n",
    "num_users = len(users)                            # 用户列表的长度\n",
    "avg_connections = total_connections / num_users   # 24 / 10 == 2.4\n",
    "\n",
    "print(num_users)\n",
    "print(avg_connections)"
   ]
  },
  {
   "cell_type": "markdown",
   "metadata": {},
   "source": [
    "#### 统计量场景2: 如何找到有最多朋友的用户"
   ]
  },
  {
   "cell_type": "markdown",
   "metadata": {},
   "source": [
    "直观的想法是 将用户朋友数量从多到少排序"
   ]
  },
  {
   "cell_type": "code",
   "execution_count": 7,
   "metadata": {},
   "outputs": [
    {
     "data": {
      "text/plain": [
       "[(1, 3),\n",
       " (2, 3),\n",
       " (3, 3),\n",
       " (5, 3),\n",
       " (8, 3),\n",
       " (0, 2),\n",
       " (4, 2),\n",
       " (6, 2),\n",
       " (7, 2),\n",
       " (9, 1)]"
      ]
     },
     "execution_count": 7,
     "metadata": {},
     "output_type": "execute_result"
    }
   ],
   "source": [
    "# 创建一个列表 (user_id, number_of_friends)\n",
    "num_friends_by_id = [(user[\"id\"], number_of_friends(user))\n",
    "                     for user in users]\n",
    "\n",
    "# 按照朋友数量进行排序\n",
    "num_friends_by_id.sort(                                \n",
    "    key=lambda id_and_friends: id_and_friends[1],      \n",
    "    reverse=True)                                   \n",
    "\n",
    "# Each pair is (user_id, num_friends):\n",
    "# [(1, 3), (2, 3), (3, 3), (5, 3), (8, 3),\n",
    "#  (0, 2), (4, 2), (6, 2), (7, 2), (9, 1)]\n",
    "\n",
    "num_friends_by_id"
   ]
  },
  {
   "cell_type": "markdown",
   "metadata": {},
   "source": [
    "#### 另一个角度思考关键用户：度中心性"
   ]
  },
  {
   "cell_type": "markdown",
   "metadata": {},
   "source": [
    "![image](https://github.com/X-lab2017/dase-2023-autumn/assets/50283262/b24fc233-d5f0-4063-84f8-8d87fe9d9251)"
   ]
  },
  {
   "cell_type": "markdown",
   "metadata": {},
   "source": [
    "- 1和4哪个更加重要呢？\n",
    "- 如果我结交了更优秀的人，是不是证明我也是相对优秀的人呢？"
   ]
  },
  {
   "cell_type": "markdown",
   "metadata": {},
   "source": [
    "### 如何认识新朋友？"
   ]
  },
  {
   "cell_type": "markdown",
   "metadata": {},
   "source": [
    "#### 发现朋友的朋友"
   ]
  },
  {
   "cell_type": "code",
   "execution_count": 8,
   "metadata": {},
   "outputs": [
    {
     "data": {
      "text/plain": [
       "[0, 2, 3, 0, 1, 3]"
      ]
     },
     "execution_count": 8,
     "metadata": {},
     "output_type": "execute_result"
    }
   ],
   "source": [
    "def foaf_ids_bad(user):\n",
    "    \"\"\"foaf 是\"friend of a friend\"的缩写 \"\"\"\n",
    "    return [foaf_id\n",
    "            for friend_id in friendships[user[\"id\"]]\n",
    "            for foaf_id in friendships[friend_id]]\n",
    "\n",
    "foaf_ids_bad(users[0]) # [0, 2, 3, 0, 1, 3]"
   ]
  },
  {
   "cell_type": "code",
   "execution_count": 9,
   "metadata": {},
   "outputs": [
    {
     "name": "stdout",
     "output_type": "stream",
     "text": [
      "[1, 2]\n",
      "[0, 2, 3]\n",
      "[0, 1, 3]\n"
     ]
    }
   ],
   "source": [
    "# 相当于是将以下的三个输出串在一起～\n",
    "print(friendships[0])  # [1, 2]\n",
    "print(friendships[1])  # [0, 2, 3]\n",
    "print(friendships[2])  # [0, 1, 3]"
   ]
  },
  {
   "cell_type": "markdown",
   "metadata": {},
   "source": [
    "发现这样的方式会出现 **自己** 或者出现已经是 **自己朋友的人** ，能否更加精简呢？"
   ]
  },
  {
   "cell_type": "markdown",
   "metadata": {},
   "source": [
    "#### 准确地寻找朋友的朋友"
   ]
  },
  {
   "cell_type": "code",
   "execution_count": 10,
   "metadata": {},
   "outputs": [
    {
     "name": "stdout",
     "output_type": "stream",
     "text": [
      "Counter({0: 2, 5: 1})\n"
     ]
    }
   ],
   "source": [
    "from collections import Counter                   # 需要导入 collections 模块\n",
    "\n",
    "\n",
    "def friends_of_friends(user):\n",
    "    user_id = user[\"id\"]\n",
    "    return Counter(\n",
    "        foaf_id\n",
    "        for friend_id in friendships[user_id]     # 对于我的每个朋友，\n",
    "        for foaf_id in friendships[friend_id]     # 计算他们的朋友，\n",
    "        if foaf_id != user_id                     # 如果这个人，不是我\n",
    "        and foaf_id not in friendships[user_id]   # 也不是我的朋友，那么就是我可以认识的人！\n",
    "    )\n",
    "\n",
    "\n",
    "print(friends_of_friends(users[3]))               # Counter({0: 2, 5: 1})\n",
    "\n",
    "# 这个结果表示 id 为 3 的用户与 id 为 0 的用户，有两个共同好友；而与 id 为 5 的用户，有一个共同好友。"
   ]
  },
  {
   "cell_type": "markdown",
   "metadata": {},
   "source": [
    "### 通过兴趣交朋友"
   ]
  },
  {
   "cell_type": "markdown",
   "metadata": {},
   "source": [
    "#### 初始数据\n",
    "- 每个元素都是成对的数据 (user_id,interest)"
   ]
  },
  {
   "cell_type": "code",
   "execution_count": 11,
   "metadata": {},
   "outputs": [],
   "source": [
    "interests = [\n",
    "    (0, \"Hadoop\"), (0, \"Big Data\"), (0, \"HBase\"), (0, \"Java\"),\n",
    "    (0, \"Spark\"), (0, \"Storm\"), (0, \"Cassandra\"),\n",
    "    (1, \"NoSQL\"), (1, \"MongoDB\"), (1, \"Cassandra\"), (1, \"HBase\"),\n",
    "    (1, \"Postgres\"), (2, \"Python\"), (2, \"scikit-learn\"), (2, \"scipy\"),\n",
    "    (2, \"numpy\"), (2, \"statsmodels\"), (2, \"pandas\"), (3, \"R\"), (3, \"Python\"),\n",
    "    (3, \"statistics\"), (3, \"regression\"), (3, \"probability\"),\n",
    "    (4, \"machine learning\"), (4, \"regression\"), (4, \"decision trees\"),\n",
    "    (4, \"libsvm\"), (5, \"Python\"), (5, \"R\"), (5, \"Java\"), (5, \"C++\"),\n",
    "    (5, \"Haskell\"), (5, \"programming languages\"), (6, \"statistics\"),\n",
    "    (6, \"probability\"), (6, \"mathematics\"), (6, \"theory\"),\n",
    "    (7, \"machine learning\"), (7, \"scikit-learn\"), (7, \"Mahout\"),\n",
    "    (7, \"neural networks\"), (8, \"neural networks\"), (8, \"deep learning\"),\n",
    "    (8, \"Big Data\"), (8, \"artificial intelligence\"), (9, \"Hadoop\"),\n",
    "    (9, \"Java\"), (9, \"MapReduce\"), (9, \"Big Data\")\n",
    "]"
   ]
  },
  {
   "cell_type": "markdown",
   "metadata": {},
   "source": [
    "![image](https://github.com/X-lab2017/dase-2023-autumn/assets/50283262/b24fc233-d5f0-4063-84f8-8d87fe9d9251)"
   ]
  },
  {
   "cell_type": "markdown",
   "metadata": {},
   "source": [
    "##### 简单概览\n",
    "- id 为 0 的人和 id 为 9 的人在朋友关系图里并没有关联，但是他们都对 Java 和大数据很感兴趣！"
   ]
  },
  {
   "cell_type": "markdown",
   "metadata": {},
   "source": [
    "#### 查找特定兴趣的人"
   ]
  },
  {
   "cell_type": "code",
   "execution_count": 12,
   "metadata": {},
   "outputs": [],
   "source": [
    "def data_scientists_who_like(target_interest):\n",
    "    \"\"\"找到有着某种特定兴趣的所有用户的 ids\"\"\"\n",
    "    return [user_id\n",
    "            for user_id, user_interest in interests\n",
    "            if user_interest == target_interest]\n",
    "\n",
    "# 这个方法的缺点是，每次都要遍历整个列表，这样会很慢。"
   ]
  },
  {
   "cell_type": "code",
   "execution_count": 13,
   "metadata": {},
   "outputs": [],
   "source": [
    "# 为了更快地找到与某种特定兴趣相同的用户，我们需要一个从兴趣到用户的反向映射（索引）。\n",
    "from collections import defaultdict\n",
    "\n",
    "# 键是兴趣，值是对这个兴趣感兴趣的用户 id 列表\n",
    "user_ids_by_interest = defaultdict(list)\n",
    "\n",
    "for user_id, interest in interests:\n",
    "    user_ids_by_interest[interest].append(user_id)\n",
    "\n",
    "# 键是用户 id，值是用户感兴趣的兴趣列表\n",
    "interests_by_user_id = defaultdict(list)\n",
    "\n",
    "for user_id, interest in interests:\n",
    "    interests_by_user_id[user_id].append(interest)"
   ]
  },
  {
   "cell_type": "code",
   "execution_count": 14,
   "metadata": {},
   "outputs": [
    {
     "data": {
      "text/plain": [
       "defaultdict(list,\n",
       "            {0: ['Hadoop',\n",
       "              'Big Data',\n",
       "              'HBase',\n",
       "              'Java',\n",
       "              'Spark',\n",
       "              'Storm',\n",
       "              'Cassandra'],\n",
       "             1: ['NoSQL', 'MongoDB', 'Cassandra', 'HBase', 'Postgres'],\n",
       "             2: ['Python',\n",
       "              'scikit-learn',\n",
       "              'scipy',\n",
       "              'numpy',\n",
       "              'statsmodels',\n",
       "              'pandas'],\n",
       "             3: ['R', 'Python', 'statistics', 'regression', 'probability'],\n",
       "             4: ['machine learning', 'regression', 'decision trees', 'libsvm'],\n",
       "             5: ['Python',\n",
       "              'R',\n",
       "              'Java',\n",
       "              'C++',\n",
       "              'Haskell',\n",
       "              'programming languages'],\n",
       "             6: ['statistics', 'probability', 'mathematics', 'theory'],\n",
       "             7: ['machine learning',\n",
       "              'scikit-learn',\n",
       "              'Mahout',\n",
       "              'neural networks'],\n",
       "             8: ['neural networks',\n",
       "              'deep learning',\n",
       "              'Big Data',\n",
       "              'artificial intelligence'],\n",
       "             9: ['Hadoop', 'Java', 'MapReduce', 'Big Data']})"
      ]
     },
     "execution_count": 14,
     "metadata": {},
     "output_type": "execute_result"
    }
   ],
   "source": [
    "interests_by_user_id"
   ]
  },
  {
   "cell_type": "code",
   "execution_count": 15,
   "metadata": {},
   "outputs": [
    {
     "data": {
      "text/plain": [
       "defaultdict(list,\n",
       "            {'Hadoop': [0, 9],\n",
       "             'Big Data': [0, 8, 9],\n",
       "             'HBase': [0, 1],\n",
       "             'Java': [0, 5, 9],\n",
       "             'Spark': [0],\n",
       "             'Storm': [0],\n",
       "             'Cassandra': [0, 1],\n",
       "             'NoSQL': [1],\n",
       "             'MongoDB': [1],\n",
       "             'Postgres': [1],\n",
       "             'Python': [2, 3, 5],\n",
       "             'scikit-learn': [2, 7],\n",
       "             'scipy': [2],\n",
       "             'numpy': [2],\n",
       "             'statsmodels': [2],\n",
       "             'pandas': [2],\n",
       "             'R': [3, 5],\n",
       "             'statistics': [3, 6],\n",
       "             'regression': [3, 4],\n",
       "             'probability': [3, 6],\n",
       "             'machine learning': [4, 7],\n",
       "             'decision trees': [4],\n",
       "             'libsvm': [4],\n",
       "             'C++': [5],\n",
       "             'Haskell': [5],\n",
       "             'programming languages': [5],\n",
       "             'mathematics': [6],\n",
       "             'theory': [6],\n",
       "             'Mahout': [7],\n",
       "             'neural networks': [7, 8],\n",
       "             'deep learning': [8],\n",
       "             'artificial intelligence': [8],\n",
       "             'MapReduce': [9]})"
      ]
     },
     "execution_count": 15,
     "metadata": {},
     "output_type": "execute_result"
    }
   ],
   "source": [
    "user_ids_by_interest"
   ]
  },
  {
   "cell_type": "markdown",
   "metadata": {},
   "source": [
    "因此就可以很容易找到与给定用户拥有最多共同兴趣的用户"
   ]
  },
  {
   "cell_type": "code",
   "execution_count": 16,
   "metadata": {},
   "outputs": [
    {
     "data": {
      "text/plain": [
       "Counter({9: 3, 1: 2, 8: 1, 5: 1})"
      ]
     },
     "execution_count": 16,
     "metadata": {},
     "output_type": "execute_result"
    }
   ],
   "source": [
    "def most_common_interests_with(user):\n",
    "    return Counter(\n",
    "        interested_user_id\n",
    "        for interest in interests_by_user_id[user[\"id\"]]\n",
    "        for interested_user_id in user_ids_by_interest[interest]\n",
    "        if interested_user_id != user[\"id\"]\n",
    "    )\n",
    "\n",
    "most_common_interests_with(users[0]) # Counter({9: 3, 1: 2, 8: 1, 5: 1})"
   ]
  },
  {
   "cell_type": "markdown",
   "metadata": {},
   "source": [
    "### 工资和工作年限"
   ]
  },
  {
   "cell_type": "markdown",
   "metadata": {},
   "source": [
    "#### 初始数据\n",
    "- 薪水和工作年限用元组对的形式表示"
   ]
  },
  {
   "cell_type": "code",
   "execution_count": 17,
   "metadata": {},
   "outputs": [],
   "source": [
    "salaries_and_tenures = [(83000, 8.7), (88000, 8.1),\n",
    "                        (48000, 0.7), (76000, 6),\n",
    "                        (69000, 6.5), (76000, 7.5),\n",
    "                        (60000, 2.5), (83000, 10),\n",
    "                        (48000, 1.9), (63000, 4.2)]"
   ]
  },
  {
   "cell_type": "markdown",
   "metadata": {},
   "source": [
    "可以通过散点图的形式大致看看数据的分布"
   ]
  },
  {
   "cell_type": "code",
   "execution_count": 18,
   "metadata": {},
   "outputs": [
    {
     "data": {
      "image/png": "[encoded data removed]",
      "text/plain": [
       "<Figure size 640x480 with 1 Axes>"
      ]
     },
     "metadata": {},
     "output_type": "display_data"
    }
   ],
   "source": [
    "import matplotlib.pyplot as plt\n",
    "\n",
    "# 提取薪资和工作年限\n",
    "salaries = [s for s, t in salaries_and_tenures]\n",
    "tenures = [t for s, t in salaries_and_tenures]\n",
    "\n",
    "# 创建散点图\n",
    "plt.scatter(tenures, salaries)\n",
    "\n",
    "# 设置图表标题和标签\n",
    "plt.title(\"Salary by Years Experience\")\n",
    "plt.xlabel(\"Years Experience\")\n",
    "plt.ylabel(\"Salary\")\n",
    "\n",
    "# 显示图表\n",
    "plt.show()"
   ]
  },
  {
   "cell_type": "markdown",
   "metadata": {},
   "source": [
    "结果似乎是呈现线性的关系"
   ]
  },
  {
   "cell_type": "markdown",
   "metadata": {},
   "source": [
    "#### 每个任期的平均工资工资"
   ]
  },
  {
   "cell_type": "code",
   "execution_count": 19,
   "metadata": {},
   "outputs": [
    {
     "data": {
      "text/plain": [
       "{8.7: 83000.0,\n",
       " 8.1: 88000.0,\n",
       " 0.7: 48000.0,\n",
       " 6: 76000.0,\n",
       " 6.5: 69000.0,\n",
       " 7.5: 76000.0,\n",
       " 2.5: 60000.0,\n",
       " 10: 83000.0,\n",
       " 1.9: 48000.0,\n",
       " 4.2: 63000.0}"
      ]
     },
     "execution_count": 19,
     "metadata": {},
     "output_type": "execute_result"
    }
   ],
   "source": [
    "# 键是工作年限，值是相应工资的列表\n",
    "salary_by_tenure = defaultdict(list)\n",
    "\n",
    "for salary, tenure in salaries_and_tenures:\n",
    "    salary_by_tenure[tenure].append(salary)\n",
    "\n",
    "# 键是工作年限，值是该年限对应的平均工资\n",
    "average_salary_by_tenure = {\n",
    "    tenure: sum(salaries) / len(salaries)\n",
    "    for tenure, salaries in salary_by_tenure.items()\n",
    "}\n",
    "\n",
    "average_salary_by_tenure"
   ]
  },
  {
   "cell_type": "markdown",
   "metadata": {},
   "source": [
    "似乎结果并没有说服力，观察数据会发现，任意两个用户的工作年限都不同"
   ]
  },
  {
   "cell_type": "markdown",
   "metadata": {},
   "source": [
    "#### 分组的平均工资"
   ]
  },
  {
   "cell_type": "code",
   "execution_count": 20,
   "metadata": {},
   "outputs": [],
   "source": [
    "def tenure_bucket(tenure):\n",
    "    if tenure < 2:\n",
    "        return \"less than two\"\n",
    "    elif tenure < 5:\n",
    "        return \"between two and five\"\n",
    "    else:\n",
    "        return \"more than five\""
   ]
  },
  {
   "cell_type": "code",
   "execution_count": 21,
   "metadata": {},
   "outputs": [
    {
     "name": "stdout",
     "output_type": "stream",
     "text": [
      "defaultdict(<class 'list'>, {'more than five': [83000, 88000, 76000, 69000, 76000, 83000], 'less than two': [48000, 48000], 'between two and five': [60000, 63000]})\n"
     ]
    },
    {
     "data": {
      "text/plain": [
       "{'more than five': 79166.66666666667,\n",
       " 'less than two': 48000.0,\n",
       " 'between two and five': 61500.0}"
      ]
     },
     "execution_count": 21,
     "metadata": {},
     "output_type": "execute_result"
    }
   ],
   "source": [
    "# 键是工作年限分的组，值是相应工资的列表\n",
    "salary_by_tenure_bucket = defaultdict(list)\n",
    "\n",
    "for salary, tenure in salaries_and_tenures:\n",
    "    bucket = tenure_bucket(tenure)\n",
    "    salary_by_tenure_bucket[bucket].append(salary)\n",
    "\n",
    "print(salary_by_tenure_bucket)\n",
    "\n",
    "# 键是工作年限分的组，值是该组对应的平均工资\n",
    "average_salary_by_bucket = {\n",
    "    tenure_bucket: sum(salaries) / len(salaries)\n",
    "    for tenure_bucket, salaries in salary_by_tenure_bucket.items()\n",
    "}\n",
    "\n",
    "average_salary_by_bucket"
   ]
  },
  {
   "cell_type": "markdown",
   "metadata": {},
   "source": [
    "### 付费账户"
   ]
  },
  {
   "cell_type": "markdown",
   "metadata": {},
   "source": [
    "某个工作经验和是否付费的关系如下所示"
   ]
  },
  {
   "cell_type": "markdown",
   "metadata": {},
   "source": [
    "| 工作经验 | 是否付费 | \n",
    "|---------|---------|\n",
    "| 0.7 | paid |\n",
    "| 1.9 | unpaid |\n",
    "| 2.5 | paid |\n",
    "| 4.2 | unpaid |\n",
    "| 6.0 | unpaid |\n",
    "| 6.5 | unpaid |\n",
    "| 7.5 | paid |\n",
    "| 8.1 | unpaid |\n",
    "| 8.7 | paid |\n",
    "| 10.0 | paid |"
   ]
  },
  {
   "cell_type": "code",
   "execution_count": 22,
   "metadata": {},
   "outputs": [],
   "source": [
    "def predict_paid_or_unpaid(years_experience):\n",
    "  if years_experience < 3.0:\n",
    "    return \"paid\"\n",
    "  elif years_experience < 8.5:\n",
    "    return \"unpaid\"\n",
    "  else:\n",
    "    return \"paid\""
   ]
  },
  {
   "cell_type": "markdown",
   "metadata": {},
   "source": [
    "### 感兴趣的主题 （词频统计）"
   ]
  },
  {
   "cell_type": "markdown",
   "metadata": {},
   "source": [
    "#### 初始数据"
   ]
  },
  {
   "cell_type": "code",
   "execution_count": 23,
   "metadata": {},
   "outputs": [],
   "source": [
    "interests = [\n",
    "    (0, \"Hadoop\"), (0, \"Big Data\"), (0, \"HBase\"), (0, \"Java\"),\n",
    "    (0, \"Spark\"), (0, \"Storm\"), (0, \"Cassandra\"),\n",
    "    (1, \"NoSQL\"), (1, \"MongoDB\"), (1, \"Cassandra\"), (1, \"HBase\"),\n",
    "    (1, \"Postgres\"), (2, \"Python\"), (2, \"scikit-learn\"), (2, \"scipy\"),\n",
    "    (2, \"numpy\"), (2, \"statsmodels\"), (2, \"pandas\"), (3, \"R\"), (3, \"Python\"),\n",
    "    (3, \"statistics\"), (3, \"regression\"), (3, \"probability\"),\n",
    "    (4, \"machine learning\"), (4, \"regression\"), (4, \"decision trees\"),\n",
    "    (4, \"libsvm\"), (5, \"Python\"), (5, \"R\"), (5, \"Java\"), (5, \"C++\"),\n",
    "    (5, \"Haskell\"), (5, \"programming languages\"), (6, \"statistics\"),\n",
    "    (6, \"probability\"), (6, \"mathematics\"), (6, \"theory\"),\n",
    "    (7, \"machine learning\"), (7, \"scikit-learn\"), (7, \"Mahout\"),\n",
    "    (7, \"neural networks\"), (8, \"neural networks\"), (8, \"deep learning\"),\n",
    "    (8, \"Big Data\"), (8, \"artificial intelligence\"), (9, \"Hadoop\"),\n",
    "    (9, \"Java\"), (9, \"MapReduce\"), (9, \"Big Data\")\n",
    "]"
   ]
  },
  {
   "cell_type": "markdown",
   "metadata": {},
   "source": [
    "找到最受欢迎的兴趣的一种简单的方法就是计算兴趣词汇的个数：\n",
    "\n",
    "1. 将每个字符小写\n",
    "2. 将其切分为单词\n",
    "3. 计数"
   ]
  },
  {
   "cell_type": "code",
   "execution_count": 51,
   "metadata": {},
   "outputs": [
    {
     "name": "stdout",
     "output_type": "stream",
     "text": [
      "big 3\n",
      "data 3\n",
      "java 3\n",
      "python 3\n",
      "learning 3\n",
      "hadoop 2\n",
      "hbase 2\n",
      "cassandra 2\n",
      "scikit-learn 2\n",
      "r 2\n",
      "statistics 2\n",
      "regression 2\n",
      "probability 2\n",
      "machine 2\n",
      "neural 2\n",
      "networks 2\n"
     ]
    }
   ],
   "source": [
    "words_and_counts = Counter(word\n",
    "                           for user, interest in interests\n",
    "                           for word in interest.lower().split())\n",
    "\n",
    "for word, count in words_and_counts.most_common():\n",
    "    if count > 1:\n",
    "        print(word, count)"
   ]
  },
  {
   "cell_type": "markdown",
   "metadata": {},
   "source": [
    "### 数据思维案例：求Pi值"
   ]
  },
  {
   "cell_type": "markdown",
   "metadata": {},
   "source": [
    "#### 蒙特卡洛法 模拟求Pi值"
   ]
  },
  {
   "cell_type": "code",
   "execution_count": 25,
   "metadata": {},
   "outputs": [
    {
     "name": "stdout",
     "output_type": "stream",
     "text": [
      "Estimated pi: 3.14139988\n"
     ]
    }
   ],
   "source": [
    "import random\n",
    "\n",
    "def monte_carlo_pi(num_samples):\n",
    "    inside_circle = 0\n",
    "\n",
    "    for _ in range(num_samples):\n",
    "        x = random.uniform(-1, 1)\n",
    "        y = random.uniform(-1, 1)\n",
    "        distance = x**2 + y**2\n",
    "\n",
    "        if distance <= 1:\n",
    "            inside_circle += 1\n",
    "\n",
    "    estimated_pi = (inside_circle / num_samples) * 4\n",
    "    return estimated_pi\n",
    "\n",
    "num_samples = 100000000  # 设置模拟点的数量\n",
    "pi_estimate = monte_carlo_pi(num_samples)\n",
    "print(f\"Estimated pi: {pi_estimate}\")"
   ]
  },
  {
   "cell_type": "markdown",
   "metadata": {},
   "source": [
    "> **Tips** <br><br>\n",
    "> 可以通过蒙特卡洛方法求积分\n",
    "\n",
    "![image](https://github.com/X-lab2017/open-digger/assets/50283262/65d83137-f63a-442c-8d5b-14ccd728a39f)\n"
   ]
  },
  {
   "cell_type": "markdown",
   "metadata": {},
   "source": [
    "#### 利用 matplotlib 展示"
   ]
  },
  {
   "cell_type": "code",
   "execution_count": 26,
   "metadata": {},
   "outputs": [
    {
     "name": "stdout",
     "output_type": "stream",
     "text": [
      "Estimated pi: 3.1496\n"
     ]
    },
    {
     "data": {
      "image/png": "[encoded data removed]",
      "text/plain": [
       "<Figure size 800x800 with 1 Axes>"
      ]
     },
     "metadata": {},
     "output_type": "display_data"
    }
   ],
   "source": [
    "import random\n",
    "import matplotlib.pyplot as plt\n",
    "\n",
    "\n",
    "def monte_carlo_pi(num_samples):\n",
    "    inside_circle = 0\n",
    "    x_inside = []\n",
    "    y_inside = []\n",
    "    x_outside = []\n",
    "    y_outside = []\n",
    "\n",
    "    for _ in range(num_samples):\n",
    "        x = random.uniform(-1, 1)\n",
    "        y = random.uniform(-1, 1)\n",
    "        distance = x**2 + y**2\n",
    "\n",
    "        if distance <= 1:\n",
    "            inside_circle += 1\n",
    "            x_inside.append(x)\n",
    "            y_inside.append(y)\n",
    "        else:\n",
    "            x_outside.append(x)\n",
    "            y_outside.append(y)\n",
    "\n",
    "    estimated_pi = (inside_circle / num_samples) * 4\n",
    "    return estimated_pi, x_inside, y_inside, x_outside, y_outside\n",
    "\n",
    "\n",
    "def plot_monte_carlo_pi(x_inside, y_inside, x_outside, y_outside):\n",
    "    plt.figure(figsize=(8, 8))\n",
    "    plt.scatter(x_inside, y_inside, color='blue', s=1, label='Inside Circle')\n",
    "    plt.scatter(x_outside, y_outside, color='red', s=1, label='Outside Circle')\n",
    "\n",
    "    plt.title('Monte Carlo Estimation of Pi')\n",
    "    plt.xlabel('x')\n",
    "    plt.ylabel('y')\n",
    "    plt.legend()\n",
    "\n",
    "    plt.show()\n",
    "\n",
    "\n",
    "\n",
    "num_samples = 10000  # 设置模拟点的数量\n",
    "pi_estimate, x_inside, y_inside, x_outside, y_outside = monte_carlo_pi(\n",
    "        num_samples)\n",
    "\n",
    "print(f\"Estimated pi: {pi_estimate}\")\n",
    "\n",
    "plot_monte_carlo_pi(x_inside, y_inside, x_outside, y_outside)"
   ]
  },
  {
   "cell_type": "markdown",
   "metadata": {},
   "source": [
    "### 扩展库实践"
   ]
  },
  {
   "cell_type": "markdown",
   "metadata": {},
   "source": [
    "#### Numpy"
   ]
  },
  {
   "cell_type": "markdown",
   "metadata": {},
   "source": [
    "NumPy(Numerical Python) 是 Python 语言的一个扩展程序库，支持大量的维度数组与矩阵运算，此外也针对数组运算提供大量的数学函数库。\n",
    "\n",
    "NumPy 的前身 Numeric 最早是由 Jim Hugunin 与其它协作者共同开发，2005 年，Travis Oliphant 在 Numeric 中结合了另一个同性质的程序库 Numarray 的特色，并加入了其它扩展而开发了 NumPy。NumPy 为开放源代码并且由许多协作者共同维护开发。\n",
    "\n",
    "NumPy 是一个运行速度非常快的数学库，主要用于数组计算，包含：\n",
    "\n",
    "- 一个强大的N维数组对象 ndarray\n",
    "- 广播功能函数\n",
    "- 整合 C/C++/Fortran 代码的工具\n",
    "- 线性代数、傅里叶变换、随机数生成等功能"
   ]
  },
  {
   "cell_type": "markdown",
   "metadata": {},
   "source": [
    "`pip install numpy` 安装扩展库"
   ]
  },
  {
   "cell_type": "code",
   "execution_count": 27,
   "metadata": {},
   "outputs": [],
   "source": [
    "import numpy as np"
   ]
  },
  {
   "cell_type": "markdown",
   "metadata": {},
   "source": [
    "##### 创建 NumPy 数组"
   ]
  },
  {
   "cell_type": "markdown",
   "metadata": {},
   "source": [
    "创建一维数组"
   ]
  },
  {
   "cell_type": "code",
   "execution_count": 28,
   "metadata": {},
   "outputs": [
    {
     "name": "stdout",
     "output_type": "stream",
     "text": [
      "[1 2 3 4 5]\n"
     ]
    }
   ],
   "source": [
    "# 通过列表创建一维数组\n",
    "arr_1d = np.array([1, 2, 3, 4, 5])\n",
    "print(arr_1d)"
   ]
  },
  {
   "cell_type": "markdown",
   "metadata": {},
   "source": [
    "创建二维数组"
   ]
  },
  {
   "cell_type": "code",
   "execution_count": 29,
   "metadata": {},
   "outputs": [
    {
     "name": "stdout",
     "output_type": "stream",
     "text": [
      "[[1 2 3]\n",
      " [4 5 6]\n",
      " [7 8 9]]\n"
     ]
    }
   ],
   "source": [
    "# 通过嵌套列表创建二维数组\n",
    "arr_2d = np.array([[1, 2, 3], [4, 5, 6], [7, 8, 9]])\n",
    "print(arr_2d)"
   ]
  },
  {
   "cell_type": "markdown",
   "metadata": {},
   "source": [
    "##### 数组属性"
   ]
  },
  {
   "cell_type": "code",
   "execution_count": 30,
   "metadata": {},
   "outputs": [
    {
     "name": "stdout",
     "output_type": "stream",
     "text": [
      "数组维度: 2\n",
      "数组形状: (3, 3)\n",
      "数组元素总个数: 9\n",
      "数组元素数据类型: int64\n"
     ]
    }
   ],
   "source": [
    "# 数组维度\n",
    "print(\"数组维度:\", arr_2d.ndim)\n",
    "\n",
    "# 数组形状\n",
    "print(\"数组形状:\", arr_2d.shape)\n",
    "\n",
    "# 数组元素总个数\n",
    "print(\"数组元素总个数:\", arr_2d.size)\n",
    "\n",
    "# 数组元素数据类型\n",
    "print(\"数组元素数据类型:\", arr_2d.dtype)"
   ]
  },
  {
   "cell_type": "markdown",
   "metadata": {},
   "source": [
    "##### 数组操作"
   ]
  },
  {
   "cell_type": "markdown",
   "metadata": {},
   "source": [
    "数学运算"
   ]
  },
  {
   "cell_type": "code",
   "execution_count": 31,
   "metadata": {},
   "outputs": [
    {
     "name": "stdout",
     "output_type": "stream",
     "text": [
      "数组加法: [11 12 13 14 15]\n",
      "数组乘法: [ 2  4  6  8 10]\n"
     ]
    }
   ],
   "source": [
    "# 数组加法\n",
    "arr_sum = arr_1d + 10\n",
    "print(\"数组加法:\", arr_sum)\n",
    "\n",
    "# 数组乘法\n",
    "arr_prod = arr_1d * 2\n",
    "print(\"数组乘法:\", arr_prod)"
   ]
  },
  {
   "cell_type": "markdown",
   "metadata": {},
   "source": [
    "索引和切片"
   ]
  },
  {
   "cell_type": "code",
   "execution_count": 32,
   "metadata": {},
   "outputs": [
    {
     "name": "stdout",
     "output_type": "stream",
     "text": [
      "第一个元素: 1\n",
      "前三个元素: [1 2 3]\n"
     ]
    }
   ],
   "source": [
    "# 获取数组元素\n",
    "print(\"第一个元素:\", arr_1d[0])\n",
    "\n",
    "# 切片操作\n",
    "print(\"前三个元素:\", arr_1d[:3])"
   ]
  },
  {
   "cell_type": "markdown",
   "metadata": {},
   "source": [
    "转置"
   ]
  },
  {
   "cell_type": "code",
   "execution_count": 33,
   "metadata": {},
   "outputs": [
    {
     "name": "stdout",
     "output_type": "stream",
     "text": [
      "转置前的数组:\n",
      " [[1 2 3]\n",
      " [4 5 6]]\n",
      "转置后的数组:\n",
      " [[1 4]\n",
      " [2 5]\n",
      " [3 6]]\n"
     ]
    }
   ],
   "source": [
    "arr = np.array([[1, 2, 3], [4, 5, 6]])\n",
    "arr_transposed = arr.T\n",
    "print(\"转置前的数组:\\n\", arr)\n",
    "print(\"转置后的数组:\\n\", arr_transposed)"
   ]
  },
  {
   "cell_type": "markdown",
   "metadata": {},
   "source": [
    "##### 线性代数"
   ]
  },
  {
   "cell_type": "markdown",
   "metadata": {},
   "source": [
    "矩阵乘法"
   ]
  },
  {
   "cell_type": "code",
   "execution_count": 34,
   "metadata": {},
   "outputs": [
    {
     "name": "stdout",
     "output_type": "stream",
     "text": [
      "矩阵乘法结果:\n",
      " [[19 22]\n",
      " [43 50]]\n"
     ]
    }
   ],
   "source": [
    "matrix_a = np.array([[1, 2], [3, 4]])\n",
    "matrix_b = np.array([[5, 6], [7, 8]])\n",
    "matrix_product = np.dot(matrix_a, matrix_b)\n",
    "print(\"矩阵乘法结果:\\n\", matrix_product)"
   ]
  },
  {
   "cell_type": "markdown",
   "metadata": {},
   "source": [
    "行列式与逆矩阵"
   ]
  },
  {
   "cell_type": "code",
   "execution_count": 35,
   "metadata": {},
   "outputs": [
    {
     "name": "stdout",
     "output_type": "stream",
     "text": [
      "矩阵行列式: -2.0000000000000004\n",
      "矩阵的逆:\n",
      " [[-2.   1. ]\n",
      " [ 1.5 -0.5]]\n"
     ]
    }
   ],
   "source": [
    "# 行列式\n",
    "det = np.linalg.det(matrix_a)\n",
    "print(\"矩阵行列式:\", det)\n",
    "\n",
    "# 逆矩阵\n",
    "inv_matrix_a = np.linalg.inv(matrix_a)\n",
    "print(\"矩阵的逆:\\n\", inv_matrix_a)"
   ]
  },
  {
   "cell_type": "markdown",
   "metadata": {},
   "source": [
    "##### NumPy 函数"
   ]
  },
  {
   "cell_type": "markdown",
   "metadata": {},
   "source": [
    "linspace"
   ]
  },
  {
   "cell_type": "code",
   "execution_count": 36,
   "metadata": {},
   "outputs": [
    {
     "name": "stdout",
     "output_type": "stream",
     "text": [
      "linspace生成的数组: [0.   0.25 0.5  0.75 1.  ]\n"
     ]
    }
   ],
   "source": [
    "# 在指定范围内生成等间隔的数字\n",
    "arr_linspace = np.linspace(0, 1, 5)\n",
    "print(\"linspace生成的数组:\", arr_linspace)"
   ]
  },
  {
   "cell_type": "markdown",
   "metadata": {},
   "source": [
    "zores 和 ones"
   ]
  },
  {
   "cell_type": "code",
   "execution_count": 37,
   "metadata": {},
   "outputs": [
    {
     "name": "stdout",
     "output_type": "stream",
     "text": [
      "全零数组: [[0. 0. 0.]\n",
      " [0. 0. 0.]]\n",
      "全一数组: [[1. 1.]\n",
      " [1. 1.]\n",
      " [1. 1.]]\n"
     ]
    }
   ],
   "source": [
    "# 创建全零数组\n",
    "arr_zeros = np.zeros((2, 3))\n",
    "print(\"全零数组:\", arr_zeros)\n",
    "\n",
    "# 创建全一数组\n",
    "arr_ones = np.ones((3, 2))\n",
    "print(\"全一数组:\", arr_ones)"
   ]
  },
  {
   "cell_type": "markdown",
   "metadata": {},
   "source": [
    "#### Pandas"
   ]
  },
  {
   "cell_type": "markdown",
   "metadata": {},
   "source": [
    "![image](https://github.com/X-lab2017/dase-2023-autumn/assets/50283262/fe41a4e6-b509-4a7b-9643-4713338422b2)\n",
    "\n",
    "Pandas 是 Python 语言的一个扩展程序库，用于数据分析。Pandas 是一个开放源码、BSD 许可的库，提供高性能、易于使用的数据结构和数据分析工具。Pandas 名字衍生自术语 \"panel data\"（面板数据）和 \"Python data analysis\"（Python 数据分析）。Pandas 一个强大的分析结构化数据的工具集，基础是 Numpy（提供高性能的矩阵运算）。Pandas 可以从各种文件格式比如 CSV、JSON、SQL、Microsoft Excel 导入数据。Pandas 可以对各种数据进行运算操作，比如归并、再成形、选择，还有数据清洗和数据加工特征。Pandas 广泛应用在学术、金融、统计学等各个数据分析领域。"
   ]
  },
  {
   "cell_type": "markdown",
   "metadata": {},
   "source": [
    "`pip install pandas` 安装扩展库"
   ]
  },
  {
   "cell_type": "code",
   "execution_count": 38,
   "metadata": {},
   "outputs": [],
   "source": [
    "import pandas as pd"
   ]
  },
  {
   "cell_type": "markdown",
   "metadata": {},
   "source": [
    "##### 创建 Pandas Series"
   ]
  },
  {
   "cell_type": "markdown",
   "metadata": {},
   "source": [
    "通过列表创建 Series"
   ]
  },
  {
   "cell_type": "code",
   "execution_count": 39,
   "metadata": {},
   "outputs": [
    {
     "name": "stdout",
     "output_type": "stream",
     "text": [
      "0    1\n",
      "1    2\n",
      "2    3\n",
      "3    4\n",
      "4    5\n",
      "dtype: int64\n"
     ]
    }
   ],
   "source": [
    "# 创建一个简单的 Series\n",
    "data = [1, 2, 3, 4, 5]\n",
    "series = pd.Series(data)\n",
    "print(series)"
   ]
  },
  {
   "cell_type": "markdown",
   "metadata": {},
   "source": [
    "制定索引"
   ]
  },
  {
   "cell_type": "code",
   "execution_count": 40,
   "metadata": {},
   "outputs": [
    {
     "name": "stdout",
     "output_type": "stream",
     "text": [
      "a    1\n",
      "b    2\n",
      "c    3\n",
      "d    4\n",
      "e    5\n",
      "dtype: int64\n"
     ]
    }
   ],
   "source": [
    "# 指定索引的 Series\n",
    "data = [1, 2, 3, 4, 5]\n",
    "index = ['a', 'b', 'c', 'd', 'e']\n",
    "series = pd.Series(data, index=index)\n",
    "print(series)"
   ]
  },
  {
   "cell_type": "markdown",
   "metadata": {},
   "source": [
    "##### 创建 Pandas DataFrame"
   ]
  },
  {
   "cell_type": "markdown",
   "metadata": {},
   "source": [
    "通过字典创建 DataFrame"
   ]
  },
  {
   "cell_type": "code",
   "execution_count": 41,
   "metadata": {},
   "outputs": [
    {
     "data": {
      "text/html": [
       "<div>\n",
       "<style scoped>\n",
       "    .dataframe tbody tr th:only-of-type {\n",
       "        vertical-align: middle;\n",
       "    }\n",
       "\n",
       "    .dataframe tbody tr th {\n",
       "        vertical-align: top;\n",
       "    }\n",
       "\n",
       "    .dataframe thead th {\n",
       "        text-align: right;\n",
       "    }\n",
       "</style>\n",
       "<table border=\"1\" class=\"dataframe\">\n",
       "  <thead>\n",
       "    <tr style=\"text-align: right;\">\n",
       "      <th></th>\n",
       "      <th>Name</th>\n",
       "      <th>Age</th>\n",
       "      <th>City</th>\n",
       "    </tr>\n",
       "  </thead>\n",
       "  <tbody>\n",
       "    <tr>\n",
       "      <th>0</th>\n",
       "      <td>Alice</td>\n",
       "      <td>25</td>\n",
       "      <td>New York</td>\n",
       "    </tr>\n",
       "    <tr>\n",
       "      <th>1</th>\n",
       "      <td>Bob</td>\n",
       "      <td>30</td>\n",
       "      <td>San Francisco</td>\n",
       "    </tr>\n",
       "    <tr>\n",
       "      <th>2</th>\n",
       "      <td>Charlie</td>\n",
       "      <td>35</td>\n",
       "      <td>Los Angeles</td>\n",
       "    </tr>\n",
       "  </tbody>\n",
       "</table>\n",
       "</div>"
      ],
      "text/plain": [
       "      Name  Age           City\n",
       "0    Alice   25       New York\n",
       "1      Bob   30  San Francisco\n",
       "2  Charlie   35    Los Angeles"
      ]
     },
     "execution_count": 41,
     "metadata": {},
     "output_type": "execute_result"
    }
   ],
   "source": [
    "# 创建一个简单的 DataFrame\n",
    "data = {'Name': ['Alice', 'Bob', 'Charlie'],\n",
    "        'Age': [25, 30, 35],\n",
    "        'City': ['New York', 'San Francisco', 'Los Angeles']}\n",
    "df = pd.DataFrame(data)\n",
    "df"
   ]
  },
  {
   "cell_type": "markdown",
   "metadata": {},
   "source": [
    "指定行和列索引"
   ]
  },
  {
   "cell_type": "code",
   "execution_count": 42,
   "metadata": {},
   "outputs": [
    {
     "data": {
      "text/html": [
       "<div>\n",
       "<style scoped>\n",
       "    .dataframe tbody tr th:only-of-type {\n",
       "        vertical-align: middle;\n",
       "    }\n",
       "\n",
       "    .dataframe tbody tr th {\n",
       "        vertical-align: top;\n",
       "    }\n",
       "\n",
       "    .dataframe thead th {\n",
       "        text-align: right;\n",
       "    }\n",
       "</style>\n",
       "<table border=\"1\" class=\"dataframe\">\n",
       "  <thead>\n",
       "    <tr style=\"text-align: right;\">\n",
       "      <th></th>\n",
       "      <th>Name</th>\n",
       "      <th>Age</th>\n",
       "      <th>City</th>\n",
       "    </tr>\n",
       "  </thead>\n",
       "  <tbody>\n",
       "    <tr>\n",
       "      <th>person_1</th>\n",
       "      <td>Alice</td>\n",
       "      <td>25</td>\n",
       "      <td>New York</td>\n",
       "    </tr>\n",
       "    <tr>\n",
       "      <th>person_2</th>\n",
       "      <td>Bob</td>\n",
       "      <td>30</td>\n",
       "      <td>San Francisco</td>\n",
       "    </tr>\n",
       "    <tr>\n",
       "      <th>person_3</th>\n",
       "      <td>Charlie</td>\n",
       "      <td>35</td>\n",
       "      <td>Los Angeles</td>\n",
       "    </tr>\n",
       "  </tbody>\n",
       "</table>\n",
       "</div>"
      ],
      "text/plain": [
       "             Name  Age           City\n",
       "person_1    Alice   25       New York\n",
       "person_2      Bob   30  San Francisco\n",
       "person_3  Charlie   35    Los Angeles"
      ]
     },
     "execution_count": 42,
     "metadata": {},
     "output_type": "execute_result"
    }
   ],
   "source": [
    "# 指定行和列索引的 DataFrame\n",
    "data = {'Name': ['Alice', 'Bob', 'Charlie'],\n",
    "        'Age': [25, 30, 35],\n",
    "        'City': ['New York', 'San Francisco', 'Los Angeles']}\n",
    "index = ['person_1', 'person_2', 'person_3']\n",
    "df = pd.DataFrame(data, index=index)\n",
    "df"
   ]
  },
  {
   "cell_type": "markdown",
   "metadata": {},
   "source": [
    "##### 数据检索和操作"
   ]
  },
  {
   "cell_type": "markdown",
   "metadata": {},
   "source": [
    "获取列"
   ]
  },
  {
   "cell_type": "code",
   "execution_count": 43,
   "metadata": {},
   "outputs": [
    {
     "name": "stdout",
     "output_type": "stream",
     "text": [
      "person_1      Alice\n",
      "person_2        Bob\n",
      "person_3    Charlie\n",
      "Name: Name, dtype: object\n"
     ]
    }
   ],
   "source": [
    "# 获取特定列\n",
    "name_column = df['Name']\n",
    "print(name_column)"
   ]
  },
  {
   "cell_type": "markdown",
   "metadata": {},
   "source": [
    "筛选数据"
   ]
  },
  {
   "cell_type": "code",
   "execution_count": 52,
   "metadata": {},
   "outputs": [
    {
     "data": {
      "text/plain": [
       "person_1     True\n",
       "person_2    False\n",
       "person_3    False\n",
       "Name: Age, dtype: bool"
      ]
     },
     "execution_count": 52,
     "metadata": {},
     "output_type": "execute_result"
    }
   ],
   "source": [
    "df['Age'] < 30"
   ]
  },
  {
   "cell_type": "code",
   "execution_count": 44,
   "metadata": {},
   "outputs": [
    {
     "name": "stdout",
     "output_type": "stream",
     "text": [
      "年龄小于30的人:\n",
      "            Name  Age      City\n",
      "person_1  Alice   25  New York\n"
     ]
    }
   ],
   "source": [
    "# 根据条件筛选数据\n",
    "young_people = df[df['Age'] < 30]\n",
    "print(\"年龄小于30的人:\\n\", young_people)"
   ]
  },
  {
   "cell_type": "markdown",
   "metadata": {},
   "source": [
    "##### 统计信息和摘要"
   ]
  },
  {
   "cell_type": "code",
   "execution_count": 45,
   "metadata": {},
   "outputs": [
    {
     "name": "stdout",
     "output_type": "stream",
     "text": [
      "数据摘要:\n",
      "         Age\n",
      "count   3.0\n",
      "mean   30.0\n",
      "std     5.0\n",
      "min    25.0\n",
      "25%    27.5\n",
      "50%    30.0\n",
      "75%    32.5\n",
      "max    35.0\n"
     ]
    }
   ],
   "source": [
    "# 显示统计信息和摘要\n",
    "summary = df.describe()\n",
    "print(\"数据摘要:\\n\", summary)"
   ]
  },
  {
   "cell_type": "markdown",
   "metadata": {},
   "source": [
    "#### Matplotlib"
   ]
  },
  {
   "cell_type": "markdown",
   "metadata": {},
   "source": [
    "`pip install matplotlib` 安装扩展库"
   ]
  },
  {
   "cell_type": "markdown",
   "metadata": {},
   "source": [
    "##### 线图"
   ]
  },
  {
   "cell_type": "code",
   "execution_count": 46,
   "metadata": {},
   "outputs": [
    {
     "data": {
      "image/png": "[encoded data removed]",
      "text/plain": [
       "<Figure size 640x480 with 1 Axes>"
      ]
     },
     "metadata": {},
     "output_type": "display_data"
    }
   ],
   "source": [
    "from matplotlib import pyplot as plt\n",
    "\n",
    "years = [1950, 1960, 1970, 1980, 1990, 2000, 2010]\n",
    "gdp = [300.2, 543.3, 1075.9, 2862.5, 5979.6, 10289.7, 14958.3]\n",
    "\n",
    "# 创建一个线图，x轴是年份，y轴是gdp\n",
    "plt.plot(years, gdp, color='green', marker='o', linestyle='solid')\n",
    "\n",
    "# 添加一个标题\n",
    "plt.title(\"Nominal GDP\")\n",
    "\n",
    "# 为y轴添加标记\n",
    "plt.ylabel(\"Billions of $\")\n",
    "plt.show()"
   ]
  },
  {
   "cell_type": "markdown",
   "metadata": {},
   "source": [
    "##### 条形图"
   ]
  },
  {
   "cell_type": "markdown",
   "metadata": {},
   "source": [
    "当需要展示某些离散项目集合中的数量是如何变化时，条形图是一个不错的选择。"
   ]
  },
  {
   "cell_type": "code",
   "execution_count": 47,
   "metadata": {},
   "outputs": [
    {
     "data": {
      "image/png": "[encoded data removed]",
      "text/plain": [
       "<Figure size 640x480 with 1 Axes>"
      ]
     },
     "metadata": {},
     "output_type": "display_data"
    }
   ],
   "source": [
    "movies = [\"Annie Hall\", \"Ben-Hur\", \"Casablanca\", \"Gandhi\", \"West Side Story\"]\n",
    "num_oscars = [5, 11, 3, 8, 10]\n",
    "\n",
    "# 在左侧 x 坐标 [0, 1, 2, 3, 4] 上，绘制高度为 [num_oscars] 的条形图\n",
    "plt.bar(range(len(movies)), num_oscars)\n",
    "\n",
    "plt.title(\"My Favorite Movies\")     # 添加标题\n",
    "plt.ylabel(\"# of Academy Awards\")   # 添加y轴标签\n",
    "\n",
    "# 在 x 轴上标记电影的名字\n",
    "plt.xticks(range(len(movies)), movies)\n",
    "\n",
    "plt.show()"
   ]
  },
  {
   "cell_type": "markdown",
   "metadata": {},
   "source": [
    "条形图也可以用来绘制大量数值直方图，以便直观地探索值的分布情况。"
   ]
  },
  {
   "cell_type": "code",
   "execution_count": 55,
   "metadata": {},
   "outputs": [
    {
     "data": {
      "image/png": "[encoded data removed]",
      "text/plain": [
       "<Figure size 640x480 with 1 Axes>"
      ]
     },
     "metadata": {},
     "output_type": "display_data"
    }
   ],
   "source": [
    "from collections import Counter\n",
    "\n",
    "grades = [83, 95, 91, 87, 70, 0, 85, 82, 100, 67, 73, 77, 0]\n",
    "\n",
    "# 将成绩按十位数分桶，但将 100 放在 90 位数中\n",
    "# Counter 类会将一个列表转换为字典，键是列表中的元素，值是该元素在列表中出现的次数。\n",
    "histogram = Counter(min(grade // 10 * 10, 90) for grade in grades)\n",
    "\n",
    "plt.bar([x + 5 for x in histogram.keys()],  # 将条形图向右移动 5 个单位\n",
    "        histogram.values(),                 # 给每个条形图正确的高度\n",
    "        10,                                 # 给每个条形图正确的宽度\n",
    "        edgecolor=(0, 0, 0))                # 为每个条形图添加黑色边框\n",
    "\n",
    "plt.axis([-5, 105, 0, 5])                   # x-axis from -5 to 105, \n",
    "                                            # y-axis from 0 to 5\n",
    "\n",
    "plt.xticks([10 * i for i in range(11)])     # x-axis labels at 0, 10, ..., 100\n",
    "plt.xlabel(\"Decile\")\n",
    "plt.ylabel(\"# of Students\")\n",
    "plt.title(\"Distribution of Exam 1 Grades\")\n",
    "plt.show()"
   ]
  },
  {
   "cell_type": "markdown",
   "metadata": {},
   "source": [
    "##### 散点图"
   ]
  },
  {
   "cell_type": "markdown",
   "metadata": {},
   "source": [
    "散点图是可视化两个成对数据集之间关系的不错的选择。"
   ]
  },
  {
   "cell_type": "code",
   "execution_count": 49,
   "metadata": {},
   "outputs": [
    {
     "data": {
      "image/png": "[encoded data removed]",
      "text/plain": [
       "<Figure size 640x480 with 1 Axes>"
      ]
     },
     "metadata": {},
     "output_type": "display_data"
    }
   ],
   "source": [
    "friends = [70,  65,  72,  63,  71,  64,  60,  64,  67]\n",
    "minutes = [175, 170, 205, 120, 220, 130, 105, 145, 190]\n",
    "labels = ['a', 'b', 'c', 'd', 'e', 'f', 'g', 'h', 'i']\n",
    "\n",
    "plt.scatter(friends, minutes)\n",
    "\n",
    "# 给每个点加标签\n",
    "for label, friend_count, minute_count in zip(labels, friends, minutes):\n",
    "    plt.annotate(label,\n",
    "                 # 把标签放在对应的点上\n",
    "                 xy=(friend_count, minute_count),\n",
    "                 xytext=(5, -5),                  # 标识符略微偏离\n",
    "                 textcoords='offset points')\n",
    "\n",
    "plt.title(\"Daily Minutes vs. Number of Friends\")\n",
    "plt.xlabel(\"# of friends\")\n",
    "plt.ylabel(\"daily minutes spent on the site\")\n",
    "plt.show()"
   ]
  }
 ],
 "metadata": {
  "kernelspec": {
   "display_name": "Python 3",
   "language": "python",
   "name": "python3"
  },
  "language_info": {
   "codemirror_mode": {
    "name": "ipython",
    "version": 3
   },
   "file_extension": ".py",
   "mimetype": "text/x-python",
   "name": "python",
   "nbconvert_exporter": "python",
   "pygments_lexer": "ipython3",
   "version": "3.11.5"
  }
 },
 "nbformat": 4,
 "nbformat_minor": 2
}
