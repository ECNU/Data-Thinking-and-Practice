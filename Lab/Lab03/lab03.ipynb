{
 "cells": [
  {
   "cell_type": "markdown",
   "metadata": {},
   "source": [
    "## 获取数据"
   ]
  },
  {
   "cell_type": "markdown",
   "metadata": {},
   "source": [
    "获取数据主要有以下几种方法：\n",
    "1. 手工输入\n",
    "2. 读取文件\n",
    "3. 网络爬虫\n",
    "4. API请求"
   ]
  },
  {
   "cell_type": "markdown",
   "metadata": {},
   "source": [
    "### 读取文件"
   ]
  },
  {
   "cell_type": "markdown",
   "metadata": {},
   "source": [
    "可以显式地用代码读取文件。Python使得处理文件变得非常简单。"
   ]
  },
  {
   "cell_type": "markdown",
   "metadata": {},
   "source": [
    "#### 文本文件的基础"
   ]
  },
  {
   "cell_type": "markdown",
   "metadata": {},
   "source": [
    "在with模块中使用open获取文件对象："
   ]
  },
  {
   "cell_type": "code",
   "execution_count": 1,
   "metadata": {},
   "outputs": [
    {
     "name": "stdout",
     "output_type": "stream",
     "text": [
      "Hello, World!\n",
      "Appending more text.\n"
     ]
    }
   ],
   "source": [
    "# 读取文件\n",
    "with open('./data/example.txt', 'r') as file:\n",
    "    content = file.read()\n",
    "    print(content)"
   ]
  },
  {
   "cell_type": "code",
   "execution_count": 2,
   "metadata": {},
   "outputs": [],
   "source": [
    "# 写入文件\n",
    "with open('./data/example.txt', 'w') as file:\n",
    "    file.write('Hello, World!')"
   ]
  },
  {
   "cell_type": "code",
   "execution_count": 3,
   "metadata": {},
   "outputs": [],
   "source": [
    "# 追加内容到文件\n",
    "with open('./data/example.txt', 'a') as file:\n",
    "    file.write('\\nAppending more text.')"
   ]
  },
  {
   "cell_type": "markdown",
   "metadata": {},
   "source": [
    "file的方法示例（请比较以下两个代码块中的lines的输出为什么不一样？）"
   ]
  },
  {
   "cell_type": "code",
   "execution_count": 4,
   "metadata": {},
   "outputs": [
    {
     "name": "stdout",
     "output_type": "stream",
     "text": [
      "Hello, World!\n",
      "\n",
      "lines is: ['Appending more text.']\n"
     ]
    }
   ],
   "source": [
    "with open('./data/example.txt', 'r') as file:\n",
    "    line = file.readline()  # 读取一行内容\n",
    "    print(line)\n",
    "    \n",
    "    lines = file.readlines()  # 读取所有行到列表中\n",
    "    print('lines is:',lines)"
   ]
  },
  {
   "cell_type": "code",
   "execution_count": 5,
   "metadata": {},
   "outputs": [
    {
     "name": "stdout",
     "output_type": "stream",
     "text": [
      "lines is: ['Hello, World!\\n', 'Appending more text.']\n"
     ]
    }
   ],
   "source": [
    "with open('./data/example.txt', 'r') as file:\n",
    "    lines = file.readlines()  # 读取所有行到列表中\n",
    "    print('lines is:',lines)"
   ]
  },
  {
   "cell_type": "markdown",
   "metadata": {},
   "source": [
    ">tips:文件在被打开后，就会有个指针，读写操作都是基于这个指针进行的。"
   ]
  },
  {
   "cell_type": "markdown",
   "metadata": {},
   "source": [
    "#### 限制的文件"
   ]
  },
  {
   "cell_type": "markdown",
   "metadata": {},
   "source": [
    "**CSV**、**JSON** 和 **XML** 是三种常见的数据交换格式，用于在不同系统之间传递和存储数据。\n",
    "\n",
    "1. **CSV（Comma-Separated Values）**：\n",
    "\n",
    "- 描述： CSV 是一种文本文件格式，用于存储表格数据。每行表示一条记录，字段之间使用逗号或其他分隔符进行分隔。\n",
    "- 特点： CSV 文件简单、易于理解和创建。它常用于电子表格软件中，如Microsoft Excel和Google Sheets。\n",
    "- 例子：\n",
    "\n",
    "```csv\n",
    "Name, Age, City\n",
    "John, 25, New York\n",
    "Jane, 30, London\n",
    "```\n",
    "\n",
    "2. **JSON（JavaScript Object Notation）**：\n",
    "\n",
    "- 描述： JSON 是一种轻量级的数据交换格式，易于人阅读和编写。它使用键值对表示数据，支持数组和对象。\n",
    "- 特点： JSON 是一种灵活、通用的数据格式，常用于 Web 开发中的 API 数据交互。易于解析和生成。\n",
    "- 例子：\n",
    "```json\n",
    "{\n",
    "  \"name\": \"John\",\n",
    "  \"age\": 25,\n",
    "  \"city\": \"New York\"\n",
    "}\n",
    "```\n",
    "\n",
    "3. **XML（eXtensible Markup Language）**：\n",
    "\n",
    "- 描述： XML 是一种可扩展标记语言，用于描述数据的结构。它使用标签来标识数据元素，支持嵌套和属性。\n",
    "- 特点： XML 具有强大的结构化能力，适用于表示复杂数据结构。常用于配置文件、文档存储以及一些Web服务中。\n",
    "- 例子：\n",
    "```xml\n",
    "<person>\n",
    "  <name>John</name>\n",
    "  <age>25</age>\n",
    "  <city>New York</city>\n",
    "</person>\n",
    "```\n",
    "\n",
    "这三种格式在不同的场景中有不同的用途。CSV 适合简单的表格数据，JSON 适用于结构化数据和API通信，而 XML 则适用于需要更严格结构化和元数据的应用。"
   ]
  },
  {
   "cell_type": "markdown",
   "metadata": {},
   "source": [
    "##### CSV"
   ]
  },
  {
   "cell_type": "markdown",
   "metadata": {},
   "source": [
    "在Python中，可以使用内置的 csv 模块来读取和处理 CSV 文件。"
   ]
  },
  {
   "cell_type": "code",
   "execution_count": 6,
   "metadata": {},
   "outputs": [
    {
     "name": "stdout",
     "output_type": "stream",
     "text": [
      "表头: ['Name', ' Age', ' City']\n",
      "姓名: John, 年龄: 25, 城市:  New York\n",
      "姓名: Jane, 年龄: 30, 城市:  London\n",
      "姓名: Bob, 年龄: 22, 城市:  Paris\n"
     ]
    }
   ],
   "source": [
    "# 读取并展示数据\n",
    "import csv\n",
    "\n",
    "# 打开CSV文件\n",
    "with open('./data/csv_example.csv', 'r') as csvfile:\n",
    "    # 创建CSV读取器\n",
    "    csvreader = csv.reader(csvfile)\n",
    "\n",
    "    # 读取表头\n",
    "    header = next(csvreader)\n",
    "    print(\"表头:\", header)\n",
    "\n",
    "    # 读取数据行并进行处理\n",
    "    for row in csvreader:\n",
    "        name, age, city = row\n",
    "        age = int(age)  # 将年龄转换为整数\n",
    "        print(f\"姓名: {name}, 年龄: {age}, 城市: {city}\")"
   ]
  },
  {
   "cell_type": "code",
   "execution_count": 7,
   "metadata": {},
   "outputs": [
    {
     "name": "stdout",
     "output_type": "stream",
     "text": [
      "['Name', ' Age', ' City']\n",
      "['John', ' 25', ' New York']\n",
      "['Jane', ' 30', ' London']\n",
      "['Bob', ' 22', ' Paris']\n",
      "['Alice', '28', 'San Francisco']\n"
     ]
    }
   ],
   "source": [
    "# 向CSV文件写入数据\n",
    "import csv\n",
    "\n",
    "# 打开CSV文件，使用'a'模式以追加方式写入\n",
    "with open('./data/csv_example.csv', 'a', newline='') as csvfile:\n",
    "    # 创建CSV写入器\n",
    "    csvwriter = csv.writer(csvfile)\n",
    "\n",
    "    # 新的行数据\n",
    "    new_row = ['Alice', 28, 'San Francisco']\n",
    "\n",
    "    # 写入新的行\n",
    "    csvwriter.writerow(new_row)\n",
    "\n",
    "# 打开CSV文件，使用'r'模式以读取方式验证是否写入成功\n",
    "with open('./data/csv_example.csv', 'r') as csvfile:\n",
    "    csvreader = csv.reader(csvfile)\n",
    "\n",
    "    for row in csvreader:\n",
    "        print(row)"
   ]
  },
  {
   "cell_type": "markdown",
   "metadata": {},
   "source": [
    "##### JSON"
   ]
  },
  {
   "cell_type": "markdown",
   "metadata": {},
   "source": [
    "在Python中，可以使用内置的 json 模块来读取JSON文件。"
   ]
  },
  {
   "cell_type": "code",
   "execution_count": 8,
   "metadata": {},
   "outputs": [
    {
     "name": "stdout",
     "output_type": "stream",
     "text": [
      "姓名: John\n",
      "年龄: 25\n",
      "城市: New York\n"
     ]
    }
   ],
   "source": [
    "import json\n",
    "\n",
    "# 打开JSON文件\n",
    "with open('./data/json_example.json', 'r') as jsonfile:\n",
    "    # 读取JSON数据\n",
    "    data = json.load(jsonfile)\n",
    "\n",
    "# 打印读取的数据\n",
    "print(\"姓名:\", data[\"name\"])\n",
    "print(\"年龄:\", data[\"age\"])\n",
    "print(\"城市:\", data[\"city\"])"
   ]
  },
  {
   "cell_type": "markdown",
   "metadata": {},
   "source": [
    "### 网络抓取"
   ]
  },
  {
   "cell_type": "markdown",
   "metadata": {},
   "source": [
    "#### HTML 和解析方法"
   ]
  },
  {
   "cell_type": "markdown",
   "metadata": {},
   "source": [
    "HTML（Hypertext Markup Language）是一种用于创建和设计网页结构的标记语言。它由一系列标签（tag）组成，每个标签用于定义文档中的不同元素，如文本、图像、链接等。HTML文件以.html为扩展名。"
   ]
  },
  {
   "cell_type": "markdown",
   "metadata": {},
   "source": [
    "```html\n",
    "<!doctype html>\n",
    "<html lang=\"en-US\">\n",
    "<head>\n",
    "    <title>Getting Data</title>\n",
    "    <meta charset=\"utf-8\">\n",
    "</head>\n",
    "<body>\n",
    "    <h1>Getting Data</h1>\n",
    "    <div class=\"explanation\">\n",
    "        This is an explanation.\n",
    "    </div>\n",
    "    <div class=\"comment\">\n",
    "        This is a comment.\n",
    "    </div>\n",
    "    <div class=\"content\">\n",
    "        <p id=\"p1\">This is the first paragraph.</p>\n",
    "        <p class=\"important\">This is the second paragraph.</p>\n",
    "    </div>\n",
    "    <div class=\"signature\">\n",
    "        <span id=\"name\">Joel</span>\n",
    "        <span id=\"twitter\">@joelgrus</span>\n",
    "        <span id=\"email\">joelgrus-at-gmail</span>\n",
    "    </div>\n",
    "</body>\n",
    "</html>\n",
    "```"
   ]
  },
  {
   "cell_type": "markdown",
   "metadata": {},
   "source": [
    "为了从 HTML 中获取数据，我们需要 Beautiful Soup 库，它将网页上的各种元素构建成树结构，并提供了简单接口来访问他们。还需要使用 Requests 库，这是一种比 Python 内置方法更好的 HTTP 请求方式。Python 内置的 HTML 解析器是比较严格的，这意味着它并不能很好地处理没有很好结构的 HTML。因此，我们还需要安装 html5lib 解析器。"
   ]
  },
  {
   "cell_type": "markdown",
   "metadata": {},
   "source": [
    "```bash\n",
    "pip install beautifulsoup4 requests html5lib\n",
    "```"
   ]
  },
  {
   "cell_type": "code",
   "execution_count": 9,
   "metadata": {},
   "outputs": [
    {
     "name": "stdout",
     "output_type": "stream",
     "text": [
      "html: <!doctype html>\n",
      "<html lang=\"en-US\">\n",
      "<head>\n",
      "    <title>Getting Data</title>\n",
      "    <meta charset=\"utf-8\">\n",
      "</head>\n",
      "<body>\n",
      "    <h1>Getting Data</h1>\n",
      "    <div class=\"explanation\">\n",
      "        This is an explanation.\n",
      "    </div>\n",
      "    <div class=\"comment\">\n",
      "        This is a comment.\n",
      "    </div>\n",
      "    <div class=\"content\">\n",
      "        <p id=\"p1\">This is the first paragraph.</p>\n",
      "        <p class=\"important\">This is the second paragraph.</p>\n",
      "    </div>\n",
      "    <div class=\"signature\">\n",
      "        <span id=\"name\">Joel</span>\n",
      "        <span id=\"twitter\">@joelgrus</span>\n",
      "        <span id=\"email\">joelgrus-at-gmail</span>\n",
      "    </div>\n",
      "</body>\n",
      "</html>\n",
      "\n"
     ]
    }
   ],
   "source": [
    "from bs4 import BeautifulSoup\n",
    "import requests\n",
    "\n",
    "url = (\"https://raw.githubusercontent.com/joelgrus/data/master/getting-data.html\")\n",
    "\n",
    "# 获取HTML文档\n",
    "html = requests.get(url).text\n",
    "print('html:',html)"
   ]
  },
  {
   "cell_type": "markdown",
   "metadata": {},
   "source": [
    "#### Beautiful Soup 用法"
   ]
  },
  {
   "cell_type": "code",
   "execution_count": 10,
   "metadata": {},
   "outputs": [
    {
     "name": "stdout",
     "output_type": "stream",
     "text": [
      "soup: <!DOCTYPE html>\n",
      "<html lang=\"en-US\">\n",
      " <head>\n",
      "  <title>\n",
      "   Getting Data\n",
      "  </title>\n",
      "  <meta charset=\"utf-8\"/>\n",
      " </head>\n",
      " <body>\n",
      "  <h1>\n",
      "   Getting Data\n",
      "  </h1>\n",
      "  <div class=\"explanation\">\n",
      "   This is an explanation.\n",
      "  </div>\n",
      "  <div class=\"comment\">\n",
      "   This is a comment.\n",
      "  </div>\n",
      "  <div class=\"content\">\n",
      "   <p id=\"p1\">\n",
      "    This is the first paragraph.\n",
      "   </p>\n",
      "   <p class=\"important\">\n",
      "    This is the second paragraph.\n",
      "   </p>\n",
      "  </div>\n",
      "  <div class=\"signature\">\n",
      "   <span id=\"name\">\n",
      "    Joel\n",
      "   </span>\n",
      "   <span id=\"twitter\">\n",
      "    @joelgrus\n",
      "   </span>\n",
      "   <span id=\"email\">\n",
      "    joelgrus-at-gmail\n",
      "   </span>\n",
      "  </div>\n",
      " </body>\n",
      "</html>\n",
      "\n"
     ]
    }
   ],
   "source": [
    "# 创建BeautifulSoup对象\n",
    "soup = BeautifulSoup(html, 'html5lib')\n",
    "# soup.prettify()  格式化输出\n",
    "print('soup:', soup.prettify())"
   ]
  },
  {
   "cell_type": "markdown",
   "metadata": {},
   "source": [
    "通过 find()方法获取第一个标签"
   ]
  },
  {
   "cell_type": "code",
   "execution_count": 11,
   "metadata": {},
   "outputs": [
    {
     "name": "stdout",
     "output_type": "stream",
     "text": [
      "first_paragraph: <p id=\"p1\">This is the first paragraph.</p>\n"
     ]
    }
   ],
   "source": [
    "# 获取第一个<p>标签\n",
    "first_paragraph = soup.find('p')\n",
    "print('first_paragraph:', first_paragraph)"
   ]
  },
  {
   "cell_type": "markdown",
   "metadata": {},
   "source": [
    "通过 text 方法获取标签内部文本数据"
   ]
  },
  {
   "cell_type": "code",
   "execution_count": 12,
   "metadata": {},
   "outputs": [
    {
     "name": "stdout",
     "output_type": "stream",
     "text": [
      "first_paragraph_text: This is the first paragraph.\n"
     ]
    }
   ],
   "source": [
    "# 获取第一个<p>标签的文本内容\n",
    "first_paragraph_text = soup.p.text\n",
    "print('first_paragraph_text:', first_paragraph_text)"
   ]
  },
  {
   "cell_type": "code",
   "execution_count": 13,
   "metadata": {},
   "outputs": [
    {
     "name": "stdout",
     "output_type": "stream",
     "text": [
      "first_paragraph_words: ['This', 'is', 'the', 'first', 'paragraph.']\n"
     ]
    }
   ],
   "source": [
    "# 获取第一个<p>标签的文本内容的单词列表\n",
    "first_paragraph_words = soup.p.text.split()\n",
    "print('first_paragraph_words:', first_paragraph_words)"
   ]
  },
  {
   "cell_type": "code",
   "execution_count": 14,
   "metadata": {},
   "outputs": [
    {
     "name": "stdout",
     "output_type": "stream",
     "text": [
      "first_paragraph_id: p1\n",
      "first_paragraph_id2: p1\n"
     ]
    }
   ],
   "source": [
    "# 获取标签的id属性 通过字典的方式获取\n",
    "first_paragraph_id = soup.p['id']       \n",
    "print('first_paragraph_id:', first_paragraph_id)\n",
    "\n",
    "# 获取标签的id属性 通过get方法获取\n",
    "first_paragraph_id2 = soup.p.get('id')  \n",
    "print('first_paragraph_id2:', first_paragraph_id2)"
   ]
  },
  {
   "cell_type": "markdown",
   "metadata": {},
   "source": [
    "通过 find_all() 方法获取所有标签"
   ]
  },
  {
   "cell_type": "code",
   "execution_count": 15,
   "metadata": {},
   "outputs": [
    {
     "name": "stdout",
     "output_type": "stream",
     "text": [
      "all_paragraphs: [<p id=\"p1\">This is the first paragraph.</p>, <p class=\"important\">This is the second paragraph.</p>]\n",
      "paragraphs_with_ids: [<p id=\"p1\">This is the first paragraph.</p>]\n"
     ]
    }
   ],
   "source": [
    "# 获取所有的<p>标签\n",
    "all_paragraphs = soup.find_all('p')  # 用soup('p') 也可以\n",
    "print('all_paragraphs:', all_paragraphs)\n",
    "\n",
    "# 仅返回有id属性的<p>标签\n",
    "paragraphs_with_ids = [p for p in soup('p') if p.get('id')]\n",
    "print('paragraphs_with_ids:', paragraphs_with_ids)"
   ]
  },
  {
   "cell_type": "markdown",
   "metadata": {},
   "source": [
    "也可以通过 class 来寻找标签"
   ]
  },
  {
   "cell_type": "code",
   "execution_count": 16,
   "metadata": {},
   "outputs": [
    {
     "name": "stdout",
     "output_type": "stream",
     "text": [
      "important_paragraphs: [<p class=\"important\">This is the second paragraph.</p>]\n",
      "important_paragraphs2: [<p class=\"important\">This is the second paragraph.</p>]\n",
      "important_paragraphs3: [<p class=\"important\">This is the second paragraph.</p>]\n"
     ]
    }
   ],
   "source": [
    "# 通过 class 获取标签\n",
    "important_paragraphs = soup('p', {'class': 'important'})\n",
    "print('important_paragraphs:', important_paragraphs)\n",
    "\n",
    "# 通过 class 获取标签\n",
    "important_paragraphs2 = soup('p', 'important')\n",
    "print('important_paragraphs2:', important_paragraphs2)\n",
    "\n",
    "# 通过 class 获取标签\n",
    "important_paragraphs3 = [p for p in soup('p')\n",
    "                         if 'important' in p.get('class', [])]\n",
    "print('important_paragraphs3:', important_paragraphs3)"
   ]
  },
  {
   "cell_type": "code",
   "execution_count": 17,
   "metadata": {},
   "outputs": [
    {
     "name": "stdout",
     "output_type": "stream",
     "text": [
      "spans_inside_divs: [<span id=\"name\">Joel</span>, <span id=\"twitter\">@joelgrus</span>, <span id=\"email\">joelgrus-at-gmail</span>]\n"
     ]
    }
   ],
   "source": [
    "# 可以进行一些更加复杂的查询，比如查找某个<div>元素中的每个<span>元素\n",
    "spans_inside_divs = [span\n",
    "                     for div in soup('div')     # 对页面上的每个<div>元素\n",
    "                     for span in div('span')]   # 找到其中的每个<span>元素\n",
    "print('spans_inside_divs:', spans_inside_divs)"
   ]
  },
  {
   "cell_type": "markdown",
   "metadata": {},
   "source": [
    "### 使用API"
   ]
  },
  {
   "cell_type": "markdown",
   "metadata": {},
   "source": [
    "通过API（Application Programming Interface）收集数据是数据科学中常见的任务，它允许用户从不同的数据源获取结构化数据。\n",
    "\n",
    "API是一组定义了不同软件组件之间如何交互的规则和协议。它允许应用程序或服务之间进行通信，以获取数据、执行操作或访问功能。API通常以 **JSON** 或 **XML** 格式返回数据。\n",
    "\n",
    "数据可以来自各种各样的数据源，包括社交媒体平台（如Twitter、Facebook）、云服务（如AWS、Google Cloud）、数据提供商（如天气数据、金融数据）、政府机构（如气象局、统计局）等。"
   ]
  },
  {
   "cell_type": "markdown",
   "metadata": {},
   "source": [
    "https://api.github.com/repos/X-lab2017/dase-2023-autumn/stargazers"
   ]
  },
  {
   "cell_type": "markdown",
   "metadata": {},
   "source": [
    "#### API 收集数据的步骤"
   ]
  },
  {
   "cell_type": "markdown",
   "metadata": {},
   "source": [
    "\n",
    "\n",
    "1. **寻找合适的API**：\n",
    "首先，你需要确定你想要获取数据的源头，然后查找是否有可用的API。通常，数据提供者会提供文档，其中包含了API的细节，如请求的URL、参数、授权方式等。\n",
    "\n",
    "2. **获取API密钥**：\n",
    "许多API要求你提供一个API密钥（API Key）或访问令牌（Access Token）以进行身份验证和授权。你需要注册并获得这些密钥或令牌，以便能够使用API。\n",
    "\n",
    "3. **发送API请求**：\n",
    "使用HTTP请求（通常是GET或POST请求），向API的特定终端点（URL）发送请求。这些请求可能包括参数，以指定你所需的数据或操作。\n",
    "\n",
    "4. **处理API响应**：\n",
    "一旦API响应返回，你需要解析它以提取所需的数据。通常，API响应以JSON或XML格式返回数据。你可以使用Python的库（如requests）来发送请求和处理响应。\n",
    "\n",
    "5. **存储数据**：\n",
    "最后，你可以选择将数据存储在合适的地方，如本地文件、数据库或云存储中，以供后续分析和使用。\n"
   ]
  },
  {
   "cell_type": "markdown",
   "metadata": {},
   "source": [
    "#### 通过 GitHub API 获取数据"
   ]
  },
  {
   "cell_type": "markdown",
   "metadata": {},
   "source": [
    "1. **未经身份验证的请求**：\n",
    "- 在未经身份验证的请求中，你可以向GitHub API发送HTTP请求，但不提供任何身份验证信息，例如个人访问令牌或用户名和密码。这种方式通常适用于一些公共的、只读的API终端点，允许你获取一些公开数据，例如公开仓库的信息。\n",
    "2. **通过个人token的请求**：\n",
    "- 通过个人访问令牌进行请求需要提供一个有效的个人访问令牌（Token），这个Token将你的身份与请求关联起来，并允许你访问更多的API功能，包括创建、更新、删除资源以及访问私有仓库的数据等。个人访问令牌是一种安全的方式，以便于GitHub识别和跟踪你的API活动。"
   ]
  },
  {
   "cell_type": "markdown",
   "metadata": {},
   "source": [
    "##### 未经身份验证的请求"
   ]
  },
  {
   "cell_type": "markdown",
   "metadata": {},
   "source": [
    "向GitHub的一个仓库的 \"dase-2023-autumn\" 终端点发送了一个未经身份验证的请求，获取了该仓库的星标用户列表。由于该请求没有提供身份验证信息，因此只能获取公开可见的数据。"
   ]
  },
  {
   "cell_type": "code",
   "execution_count": 18,
   "metadata": {},
   "outputs": [
    {
     "name": "stdout",
     "output_type": "stream",
     "text": [
      "Stargazers数据已保存到 stargazers.json\n"
     ]
    }
   ],
   "source": [
    "import json\n",
    "import requests\n",
    "\n",
    "# 未经身份验证的请求，不包含 ?access_token=xxx 查询字符串\n",
    "url = \"https://api.github.com/repos/X-lab2017/dase-2023-autumn/stargazers\"\n",
    "response = requests.get(url)\n",
    "\n",
    "# 检查响应状态码，200表示成功\n",
    "if response.status_code == 200:\n",
    "    # 解析JSON数据\n",
    "    stargazers_data = response.json()\n",
    "\n",
    "    # 指定本地JSON文件路径\n",
    "    file_path = \"stargazers.json\"\n",
    "\n",
    "    # 将数据写入JSON文件\n",
    "    with open(file_path, 'w', encoding='utf-8') as json_file:\n",
    "        json.dump(stargazers_data, json_file, ensure_ascii=False, indent=2)\n",
    "\n",
    "    print(f\"Stargazers数据已保存到 {file_path}\")\n",
    "else:\n",
    "    print(\"请求失败\")"
   ]
  },
  {
   "cell_type": "markdown",
   "metadata": {},
   "source": [
    "##### 通过个人token的请求"
   ]
  },
  {
   "cell_type": "markdown",
   "metadata": {},
   "source": [
    "**获取个人token步骤**\n",
    "\n",
    "1. 点击 Settings\n",
    "\n",
    "![01-1](https://github.com/X-lab2017/OpenTEA101/assets/50283262/082abb39-b9a0-4d5f-8f3a-dd5c59fb7015)\n",
    "\n",
    "2. 点击 Develop settings \n",
    "\n",
    "![01-2](https://github.com/X-lab2017/OpenTEA101/assets/50283262/fca6aa7f-97fd-44fd-b000-8c9999eeb3ef)\n",
    "\n",
    "3. 点击 Personal access tokens -> Tokens (classic) ,点击右上角 Generate new token\n",
    "\n",
    "![01-3](https://github.com/X-lab2017/OpenTEA101/assets/50283262/2ba632c8-7d1c-4106-80de-865c15b12e54)\n",
    "\n",
    "4. 在生成token界面可以设置这个token的注解、时限、功能范围\n",
    "\n",
    "![01-4](https://github.com/X-lab2017/OpenTEA101/assets/50283262/284e68c4-a693-40bf-99c1-afd76bfebd1c)\n",
    "\n",
    "5. 如图所示，token就生成完毕了，可以将其复制使用～\n",
    "\n",
    "![01-5](https://github.com/X-lab2017/OpenTEA101/assets/50283262/ca9fd3ae-ab43-4604-850a-b8a5be3f8881)"
   ]
  },
  {
   "cell_type": "markdown",
   "metadata": {},
   "source": [
    "##### 查询个人仓库信息"
   ]
  },
  {
   "cell_type": "code",
   "execution_count": 19,
   "metadata": {},
   "outputs": [
    {
     "name": "stdout",
     "output_type": "stream",
     "text": [
      "AccelerateDevOps\n",
      "andyhuang18.github.io\n",
      "ChatDev\n",
      "cocogoat\n",
      "dase-practice-course\n",
      "DaseDevOps\n",
      "data-science-from-scratch\n",
      "Data-Thinking-and-Practice\n",
      "ECNU-FedTree-Challenge\n",
      "excelize\n",
      "G6VP\n",
      "genshin-data\n",
      "gi-assets-xlab\n",
      "hypertrons-crx\n",
      "intro_ds\n",
      "latex-translation\n",
      "Mining-the-Social-Web-3rd-Edition\n",
      "od-api\n",
      "open-digger\n",
      "open-leaderboard\n",
      "OpenTEA101\n",
      "oss101\n",
      "psweb\n",
      "statistical-learning-method-solutions-manual\n",
      "Study-Floder\n",
      "wop\n",
      "xlab-website\n"
     ]
    }
   ],
   "source": [
    "import requests\n",
    "\n",
    "# 请替换为你自己的个人访问令牌\n",
    "token = 'token'\n",
    "\n",
    "# 构建API请求的URL\n",
    "url = 'https://api.github.com/user/repos'\n",
    "\n",
    "# 添加个人访问令牌到请求头部\n",
    "headers = {\n",
    "    'Authorization': f'token {token}'\n",
    "}\n",
    "\n",
    "# 发送GET请求\n",
    "response = requests.get(url, headers=headers)\n",
    "\n",
    "# 检查响应是否成功\n",
    "if response.status_code == 200:\n",
    "    # 解析响应的JSON数据\n",
    "    repos = response.json()\n",
    "\n",
    "    # 打印仓库名\n",
    "    for repo in repos:\n",
    "        print(repo['name'])\n",
    "else:\n",
    "    print(f\"API请求失败,状态码: {response.status_code}\")"
   ]
  },
  {
   "cell_type": "markdown",
   "metadata": {},
   "source": [
    "#### PyGithub"
   ]
  },
  {
   "cell_type": "markdown",
   "metadata": {},
   "source": [
    "PyGithub 是一个用于与GitHub进行交互的Python库，它提供了对GitHub API的高级封装，使得在Python应用程序中更容易地访问和操作GitHub上的仓库、问题、拉取请求、用户、组织等资源。PyGithub 构建在GitHub REST API之上，为开发人员提供了强大的工具来管理和自动化GitHub上的各种操作。具体操作方式可以查阅：https://pygithub.readthedocs.io/en/latest/index.html\n",
    "\n",
    "以下是一个简单的示例，演示如何使用 PyGithub 获取当前用户的GitHub仓库列表："
   ]
  },
  {
   "cell_type": "code",
   "execution_count": 20,
   "metadata": {},
   "outputs": [
    {
     "name": "stdout",
     "output_type": "stream",
     "text": [
      "AccelerateDevOps\n",
      "andyhuang18.github.io\n",
      "ChatDev\n",
      "cocogoat\n",
      "dase-practice-course\n",
      "DaseDevOps\n",
      "data-science-from-scratch\n",
      "Data-Thinking-and-Practice\n",
      "ECNU-FedTree-Challenge\n",
      "excelize\n",
      "G6VP\n",
      "genshin-data\n",
      "gi-assets-xlab\n",
      "hypertrons-crx\n",
      "intro_ds\n",
      "latex-translation\n",
      "Mining-the-Social-Web-3rd-Edition\n",
      "od-api\n",
      "open-digger\n",
      "open-leaderboard\n",
      "OpenTEA101\n",
      "oss101\n",
      "psweb\n",
      "statistical-learning-method-solutions-manual\n",
      "Study-Floder\n",
      "wop\n",
      "xlab-website\n"
     ]
    }
   ],
   "source": [
    "from github import Github\n",
    "\n",
    "# 创建 Github 对象，需要提供个人访问令牌\n",
    "g = Github(\"token\")\n",
    "\n",
    "# 获取当前用户\n",
    "user = g.get_user()\n",
    "\n",
    "# 列出当前用户的所有仓库\n",
    "for repo in user.get_repos():\n",
    "    print(repo.name)"
   ]
  },
  {
   "cell_type": "markdown",
   "metadata": {},
   "source": [
    "以下是通过PyGithub查询X-lab2017组织下的所有仓库信息："
   ]
  },
  {
   "cell_type": "code",
   "execution_count": 21,
   "metadata": {},
   "outputs": [
    {
     "name": "stdout",
     "output_type": "stream",
     "text": [
      "git\n",
      "x-lab-paper_co-read\n",
      "pp_cc\n",
      "Deep-Learning-with-TensorFlow\n",
      "DaSE_lab\n",
      "TensorFlow-Getting-Started\n",
      "go-study-guide\n",
      "minicourse-k8s\n",
      "github-graphql-client\n",
      "data-cat\n",
      "github-analysis-report-2019\n",
      "grimoirelab-elk\n",
      "grimoirelab-sigils\n",
      "grimoirelab-sirmordred\n",
      "X-lab2017.github.io\n",
      "sirmordred\n",
      "grimoirelab-elk-gitee\n",
      "xlab-website\n",
      "github-push-action\n",
      "grimoirelab\n",
      "open-digger\n",
      "OSSDevGov2021\n",
      "CCSADP\n",
      "open-digger-website\n",
      "chinese_decade_open_source_insight_report\n",
      "open-galaxy\n",
      "open-galaxy-backend\n",
      "open-research\n",
      "open-digger-jupyterlab-nodejs\n",
      "22-Spring-OSDD\n",
      "openrank-neo4j-gds\n",
      "open-perf\n",
      "open-wonderland\n",
      "hypertrons-crx\n",
      "open-leaderboard\n",
      "open-lecture\n",
      "open-certified\n",
      "DaseDevops\n",
      ".github\n",
      "OSSDevGov2022\n",
      "DesignThinking-LeanStartup\n",
      "DaSE101\n",
      "2022-SocialComputing\n",
      "X-lab-website\n",
      "oss101-awesome-list\n",
      "WIP-feedback\n",
      "HOSAS\n",
      "docker-cli\n",
      "OpenBench\n",
      "open-tag\n",
      "open-tag-web\n",
      "od-api\n",
      "oss101\n",
      "open-dashboard\n",
      "AccelerateDevOps\n",
      "AccelerateDevOps-1\n",
      "scripts-for-xlab-ospo-dashboard\n",
      "gi-assets-xlab\n",
      "open-digger-cli\n",
      "G6VP\n",
      "dase-2023-autumn\n",
      "ds-2023-autumn\n",
      "open-widgets\n",
      "OpenTEA101\n",
      "ICSE-OpenRank-material\n",
      "MSR-2024-npm-OpenRank-material\n"
     ]
    }
   ],
   "source": [
    "from github import Github\n",
    "\n",
    "# 替换为你的个人访问令牌\n",
    "token = 'token'\n",
    "\n",
    "# 替换为你要查询的组织名称\n",
    "organization_name = 'X-lab2017'\n",
    "\n",
    "# 创建 Github 对象并进行身份验证\n",
    "g = Github(token)\n",
    "\n",
    "# 获取组织对象\n",
    "org = g.get_organization(organization_name)\n",
    "\n",
    "# 获取组织的所有仓库\n",
    "repos = org.get_repos()\n",
    "\n",
    "# 遍历并打印组织的所有仓库名称\n",
    "for repo in repos:\n",
    "    print(repo.name)"
   ]
  },
  {
   "cell_type": "markdown",
   "metadata": {},
   "source": [
    "### 练习"
   ]
  },
  {
   "cell_type": "markdown",
   "metadata": {},
   "source": [
    "通过学习PyGithub文档，利用GitHub API，首先生成个人的token，查询自己所有关注者的仓库的数据，将其存到本地。"
   ]
  }
 ],
 "metadata": {
  "kernelspec": {
   "display_name": "Python 3",
   "language": "python",
   "name": "python3"
  },
  "language_info": {
   "codemirror_mode": {
    "name": "ipython",
    "version": 3
   },
   "file_extension": ".py",
   "mimetype": "text/x-python",
   "name": "python",
   "nbconvert_exporter": "python",
   "pygments_lexer": "ipython3",
   "version": "3.11.5"
  }
 },
 "nbformat": 4,
 "nbformat_minor": 2
}
