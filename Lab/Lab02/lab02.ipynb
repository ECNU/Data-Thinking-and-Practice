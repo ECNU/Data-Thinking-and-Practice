{
 "cells": [
  {
   "cell_type": "markdown",
   "metadata": {},
   "source": [
    "## 线性代数"
   ]
  },
  {
   "cell_type": "markdown",
   "metadata": {},
   "source": [
    "### 向量"
   ]
  },
  {
   "cell_type": "markdown",
   "metadata": {},
   "source": [
    "可以用 NumPy 库，它是一个包含各种算数运算的高性能数组库"
   ]
  },
  {
   "cell_type": "markdown",
   "metadata": {},
   "source": [
    "```python\n",
    "import numpy as np\n",
    "```"
   ]
  },
  {
   "cell_type": "markdown",
   "metadata": {},
   "source": [
    "#### 向量的表示"
   ]
  },
  {
   "cell_type": "code",
   "execution_count": 171,
   "metadata": {},
   "outputs": [
    {
     "name": "stdout",
     "output_type": "stream",
     "text": [
      "Vector: [1 2 3 4 5]\n"
     ]
    }
   ],
   "source": [
    "import numpy as np\n",
    "\n",
    "# 创建一个向量(以列表的形式)\n",
    "vector = np.array([1, 2, 3, 4, 5])\n",
    "\n",
    "print(\"Vector:\", vector)"
   ]
  },
  {
   "cell_type": "markdown",
   "metadata": {},
   "source": [
    "#### 向量加法/减法"
   ]
  },
  {
   "cell_type": "markdown",
   "metadata": {},
   "source": [
    "向量以分量方式相加相减，因此我们需要两者长度相同。\n",
    "\n",
    "- 在 NumPy 中，可以使用 numpy.add() 函数或者 + 运算符来进行向量的加法操作\n",
    "- 在 NumPy 中，可以使用 numpy.subtract() 函数或者 - 运算符来进行向量的减法操作"
   ]
  },
  {
   "cell_type": "code",
   "execution_count": 172,
   "metadata": {},
   "outputs": [
    {
     "name": "stdout",
     "output_type": "stream",
     "text": [
      "Vector 1: [1 2 3]\n",
      "Vector 2: [4 5 6]\n",
      "Result (add function): [5 7 9]\n",
      "Result (operator): [5 7 9]\n"
     ]
    }
   ],
   "source": [
    "import numpy as np\n",
    "\n",
    "vector1 = np.array([1, 2, 3])\n",
    "vector2 = np.array([4, 5, 6])\n",
    "\n",
    "# 使用 numpy.add() 函数\n",
    "result_add = np.add(vector1, vector2)\n",
    "\n",
    "# 使用 + 运算符\n",
    "result_operator = vector1 + vector2\n",
    "\n",
    "print(\"Vector 1:\", vector1)\n",
    "print(\"Vector 2:\", vector2)\n",
    "print(\"Result (add function):\", result_add)\n",
    "print(\"Result (operator):\", result_operator)"
   ]
  },
  {
   "cell_type": "code",
   "execution_count": 173,
   "metadata": {},
   "outputs": [
    {
     "name": "stdout",
     "output_type": "stream",
     "text": [
      "Vector 1: [1 2 3]\n",
      "Vector 2: [4 5 6]\n",
      "Result (subtract function): [-3 -3 -3]\n",
      "Result (operator): [-3 -3 -3]\n"
     ]
    }
   ],
   "source": [
    "import numpy as np\n",
    "\n",
    "vector1 = np.array([1, 2, 3])\n",
    "vector2 = np.array([4, 5, 6])\n",
    "\n",
    "# 使用 numpy.subtract() 函数\n",
    "result_subtract = np.subtract(vector1, vector2)\n",
    "\n",
    "# 使用 - 运算符\n",
    "result_operator = vector1 - vector2\n",
    "\n",
    "print(\"Vector 1:\", vector1)\n",
    "print(\"Vector 2:\", vector2)\n",
    "print(\"Result (subtract function):\", result_subtract)\n",
    "print(\"Result (operator):\", result_operator)"
   ]
  },
  {
   "cell_type": "markdown",
   "metadata": {},
   "source": [
    "#### 向量与标量乘法"
   ]
  },
  {
   "cell_type": "markdown",
   "metadata": {},
   "source": [
    "需要将每个元素乘以标量\n",
    "\n",
    "在 NumPy 中，可以使用 numpy.multiply() 函数或者 * 运算符来进行向量与标量的相乘操作"
   ]
  },
  {
   "cell_type": "code",
   "execution_count": 174,
   "metadata": {},
   "outputs": [
    {
     "name": "stdout",
     "output_type": "stream",
     "text": [
      "Vector: [1 2 3]\n",
      "Scalar: 2\n",
      "Result (multiply function): [2 4 6]\n",
      "Result (operator): [2 4 6]\n"
     ]
    }
   ],
   "source": [
    "import numpy as np\n",
    "\n",
    "vector = np.array([1, 2, 3])\n",
    "\n",
    "scalar = 2\n",
    "\n",
    "# 使用 numpy.multiply() 函数\n",
    "result_multiply = np.multiply(vector, scalar)\n",
    "\n",
    "# 使用 * 运算符\n",
    "result_operator = vector * scalar\n",
    "\n",
    "print(\"Vector:\", vector)\n",
    "print(\"Scalar:\", scalar)\n",
    "print(\"Result (multiply function):\", result_multiply)\n",
    "print(\"Result (operator):\", result_operator)"
   ]
  },
  {
   "cell_type": "markdown",
   "metadata": {},
   "source": [
    "#### 向量点积"
   ]
  },
  {
   "cell_type": "markdown",
   "metadata": {},
   "source": [
    "对应分量相乘后相加\n",
    "\n",
    "在 NumPy 中，可以使用 numpy.dot() 函数或者 @ 运算符来计算两个向量的点积"
   ]
  },
  {
   "cell_type": "code",
   "execution_count": 175,
   "metadata": {},
   "outputs": [
    {
     "name": "stdout",
     "output_type": "stream",
     "text": [
      "Vector 1: [1 2 3]\n",
      "Vector 2: [4 5 6]\n",
      "Dot Product (dot function): 32\n",
      "Dot Product (operator): 32\n"
     ]
    }
   ],
   "source": [
    "import numpy as np\n",
    "\n",
    "vector1 = np.array([1, 2, 3])\n",
    "vector2 = np.array([4, 5, 6])\n",
    "\n",
    "# 使用 numpy.dot() 函数\n",
    "dot_product_function = np.dot(vector1, vector2)\n",
    "\n",
    "# 使用 @ 运算符\n",
    "dot_product_operator = vector1 @ vector2\n",
    "\n",
    "# 打印结果\n",
    "print(\"Vector 1:\", vector1)\n",
    "print(\"Vector 2:\", vector2)\n",
    "print(\"Dot Product (dot function):\", dot_product_function)\n",
    "print(\"Dot Product (operator):\", dot_product_operator)"
   ]
  },
  {
   "cell_type": "markdown",
   "metadata": {},
   "source": [
    "#### 向量的模"
   ]
  },
  {
   "cell_type": "markdown",
   "metadata": {},
   "source": [
    "在 NumPy 中，可以使用 numpy.linalg.norm() 函数来计算向量的模（或长度）。"
   ]
  },
  {
   "cell_type": "code",
   "execution_count": 176,
   "metadata": {},
   "outputs": [
    {
     "name": "stdout",
     "output_type": "stream",
     "text": [
      "Vector: [3 4]\n",
      "Vector Norm: 5.0\n"
     ]
    }
   ],
   "source": [
    "import numpy as np\n",
    "\n",
    "vector = np.array([3, 4])\n",
    "\n",
    "# 使用 numpy.linalg.norm() 函数\n",
    "vector_norm = np.linalg.norm(vector)\n",
    "\n",
    "print(\"Vector:\", vector)\n",
    "print(\"Vector Norm:\", vector_norm)"
   ]
  },
  {
   "cell_type": "markdown",
   "metadata": {},
   "source": [
    "### 矩阵"
   ]
  },
  {
   "cell_type": "markdown",
   "metadata": {},
   "source": [
    "**矩阵**（martrx）是二维的数集合。我们将矩阵表示为列表的列表，其内部的每个列表大小相同，表示矩阵的一**行**。如果A是矩阵，则A[i][j]是第*i*行第*j*列中的元素。根据惯例，通常用**大写字母**表示矩阵。"
   ]
  },
  {
   "cell_type": "markdown",
   "metadata": {},
   "source": [
    "#### 矩阵表示"
   ]
  },
  {
   "cell_type": "markdown",
   "metadata": {},
   "source": [
    "在 NumPy 中，可以使用 numpy.array 函数，将**嵌套数组**作为输入来表示矩阵"
   ]
  },
  {
   "cell_type": "code",
   "execution_count": 177,
   "metadata": {},
   "outputs": [
    {
     "name": "stdout",
     "output_type": "stream",
     "text": [
      "Matrix:\n",
      "[[1 2 3]\n",
      " [4 5 6]\n",
      " [7 8 9]]\n"
     ]
    }
   ],
   "source": [
    "import numpy as np\n",
    "\n",
    "matrix = np.array([[1, 2, 3],\n",
    "                   [4, 5, 6],\n",
    "                   [7, 8, 9]])\n",
    "\n",
    "print(\"Matrix:\")\n",
    "print(matrix)"
   ]
  },
  {
   "cell_type": "markdown",
   "metadata": {},
   "source": [
    "也可以使用 numpy.matrix 类来创建矩阵"
   ]
  },
  {
   "cell_type": "code",
   "execution_count": 178,
   "metadata": {},
   "outputs": [
    {
     "name": "stdout",
     "output_type": "stream",
     "text": [
      "Matrix:\n",
      "[[1 2 3]\n",
      " [4 5 6]\n",
      " [7 8 9]]\n"
     ]
    }
   ],
   "source": [
    "import numpy as np\n",
    "\n",
    "matrix = np.matrix([[1, 2, 3],\n",
    "                    [4, 5, 6],\n",
    "                    [7, 8, 9]])\n",
    "\n",
    "print(\"Matrix:\")\n",
    "print(matrix)"
   ]
  },
  {
   "cell_type": "markdown",
   "metadata": {},
   "source": [
    "#### 矩阵乘法"
   ]
  },
  {
   "cell_type": "markdown",
   "metadata": {},
   "source": [
    "在 NumPy 中，你可以使用 numpy.dot() 函数、numpy.matmul() 函数，或者 @ 运算符来表示矩阵的乘法"
   ]
  },
  {
   "cell_type": "code",
   "execution_count": 179,
   "metadata": {},
   "outputs": [
    {
     "name": "stdout",
     "output_type": "stream",
     "text": [
      "Matrix 1:\n",
      "[[1 2 3]\n",
      " [4 5 6]\n",
      " [7 8 9]]\n",
      "Matrix 2:\n",
      "[[9 8 7]\n",
      " [6 5 4]\n",
      " [3 2 1]]\n",
      "Result (dot function):\n",
      "[[ 30  24  18]\n",
      " [ 84  69  54]\n",
      " [138 114  90]]\n",
      "Result (matmul function):\n",
      "[[ 30  24  18]\n",
      " [ 84  69  54]\n",
      " [138 114  90]]\n",
      "Result (operator):\n",
      "[[ 30  24  18]\n",
      " [ 84  69  54]\n",
      " [138 114  90]]\n"
     ]
    }
   ],
   "source": [
    "import numpy as np\n",
    "\n",
    "# 创建两个矩阵\n",
    "matrix1 = np.array([[1, 2, 3],\n",
    "                    [4, 5, 6],\n",
    "                    [7, 8, 9]])\n",
    "\n",
    "matrix2 = np.array([[9, 8, 7],\n",
    "                    [6, 5, 4],\n",
    "                    [3, 2, 1]])\n",
    "\n",
    "# 使用 numpy.dot() 函数\n",
    "result_dot = np.dot(matrix1, matrix2)\n",
    "\n",
    "# 使用 numpy.matmul() 函数\n",
    "result_matmul = np.matmul(matrix1, matrix2)\n",
    "\n",
    "# 使用 @ 运算符\n",
    "result_operator = matrix1 @ matrix2\n",
    "\n",
    "print(\"Matrix 1:\")\n",
    "print(matrix1)\n",
    "\n",
    "print(\"Matrix 2:\")\n",
    "print(matrix2)\n",
    "\n",
    "print(\"Result (dot function):\")\n",
    "print(result_dot)\n",
    "\n",
    "print(\"Result (matmul function):\")\n",
    "print(result_matmul)\n",
    "\n",
    "print(\"Result (operator):\")\n",
    "print(result_operator)"
   ]
  },
  {
   "cell_type": "markdown",
   "metadata": {},
   "source": [
    "#### 邻接矩阵"
   ]
  },
  {
   "cell_type": "markdown",
   "metadata": {},
   "source": [
    "矩阵可以用于表示二元关系。在 Lab01 中，朋友关系用数据对(i,j)的形式表示。另一种表示方法是创建矩阵A，如果用户i和j是朋友关系，则元素A[i][j]为1，否则为0"
   ]
  },
  {
   "cell_type": "markdown",
   "metadata": {},
   "source": [
    "``` python\n",
    "friendships = [(0, 1), (0, 2), (1, 2), (1, 3), (2, 3), (3, 4),\n",
    "               (4, 5), (5, 6), (5, 7), (6, 8), (7, 8), (8, 9)]\n",
    "```\n"
   ]
  },
  {
   "cell_type": "markdown",
   "metadata": {},
   "source": [
    "```python\n",
    "#            user 0  1  2  3  4  5  6  7  8  9\n",
    "#\n",
    "friend_matrix = [[0, 1, 1, 0, 0, 0, 0, 0, 0, 0],  # user 0\n",
    "                 [1, 0, 1, 1, 0, 0, 0, 0, 0, 0],  # user 1\n",
    "                 [1, 1, 0, 1, 0, 0, 0, 0, 0, 0],  # user 2\n",
    "                 [0, 1, 1, 0, 1, 0, 0, 0, 0, 0],  # user 3\n",
    "                 [0, 0, 0, 1, 0, 1, 0, 0, 0, 0],  # user 4\n",
    "                 [0, 0, 0, 0, 1, 0, 1, 1, 0, 0],  # user 5\n",
    "                 [0, 0, 0, 0, 0, 1, 0, 0, 1, 0],  # user 6\n",
    "                 [0, 0, 0, 0, 0, 1, 0, 0, 1, 0],  # user 7\n",
    "                 [0, 0, 0, 0, 0, 0, 1, 1, 0, 1],  # user 8\n",
    "                 [0, 0, 0, 0, 0, 0, 0, 0, 1, 0]]  # user 9\n",
    "```\n",
    "\n"
   ]
  },
  {
   "cell_type": "markdown",
   "metadata": {},
   "source": [
    "如果关系很少，这种表示形式会非常低效，因为需要存储很多的0.但是矩阵表示的有点在于可以快速查找两个用户是否是好友。\n",
    "\n",
    "```python\n",
    "assert friend_matrix[0][2] == 1, \"0 and 2 是朋友\"\n",
    "assert friend_matrix[0][8] == 0, \"0 and 8 不是朋友\"\n",
    "```\n",
    "\n",
    "同样的，如果想要查看某个人的所有朋友，只需要查看他所在的那一行或列的数据\n",
    "```python\n",
    "friends_of_five = [i\n",
    "                   for i, is_friend in enumerate(friend_matrix[5])\n",
    "                   if is_friend]\n",
    "```"
   ]
  },
  {
   "cell_type": "markdown",
   "metadata": {},
   "source": [
    "## 统计"
   ]
  },
  {
   "cell_type": "markdown",
   "metadata": {},
   "source": [
    "**统计**是指用于理解数据的数学和技术。"
   ]
  },
  {
   "cell_type": "markdown",
   "metadata": {},
   "source": [
    "### 如何描述单个数据集"
   ]
  },
  {
   "cell_type": "markdown",
   "metadata": {},
   "source": [
    "凭借着口碑和运气还有大家的努力，开源王国已经有了数十名开源爱好者。这时候国王想问你一些关于开源爱好者们有多少朋友的描述，以便确定他的潜在宣传开源精神的演说对象。\n",
    "\n",
    "你有如下数据，你该如何向国王描述它呢？"
   ]
  },
  {
   "cell_type": "code",
   "execution_count": 180,
   "metadata": {},
   "outputs": [],
   "source": [
    "num_friends = [100.0, 49,41,40,25,21,21,19,19,18,18,16,15,15,15,15,14,14,13,13,13,13,12,12,11,10,10,10,10,10,10,10,10,10,10,10,10,10,10,10,9,9,9,9,9,9,9,9,9,9,9,9,9,9,9,9,9,9,8,8,8,8,8,8,8,8,8,8,8,8,8,7,7,7,7,7,7,7,7,7,7,7,7,7,7,7,6,6,6,6,6,6,6,6,6,6,6,6,6,6,6,6,6,6,6,6,6,6,5,5,5,5,5,5,5,5,5,5,5,5,5,5,5,5,5,4,4,4,4,4,4,4,4,4,4,4,4,4,4,4,4,4,4,4,4,3,3,3,3,3,3,3,3,3,3,3,3,3,3,3,3,3,3,3,3,2,2,2,2,2,2,2,2,2,2,2,2,2,2,2,2,2,1,1,1,1,1,1,1,1,1,1,1,1,1,1,1,1,1,1,1,1,1,1]"
   ]
  },
  {
   "cell_type": "markdown",
   "metadata": {},
   "source": [
    "对于小的数据集，我们可以用其本身作为描述，但是当数据量过大后，这个方法就不实用，也不直观。我们可以使用统计学来提取相关的特征。"
   ]
  },
  {
   "cell_type": "code",
   "execution_count": 181,
   "metadata": {},
   "outputs": [
    {
     "data": {
      "image/png": "[encoded data removed]",
      "text/plain": [
       "<Figure size 640x480 with 1 Axes>"
      ]
     },
     "metadata": {},
     "output_type": "display_data"
    }
   ],
   "source": [
    "from collections import Counter\n",
    "import matplotlib.pyplot as plt\n",
    "\n",
    "friend_counts = Counter(num_friends)\n",
    "xs = range(101)                         # 最大值为100\n",
    "ys = [friend_counts[x] for x in xs]     # 朋友数量\n",
    "plt.bar(xs, ys)\n",
    "plt.axis([0, 101, 0, 25])\n",
    "plt.title(\"Histogram of Friend Counts\")\n",
    "plt.xlabel(\"# of friends\")\n",
    "plt.ylabel(\"# of people\")\n",
    "plt.show()"
   ]
  },
  {
   "cell_type": "markdown",
   "metadata": {},
   "source": [
    "寻找统计量"
   ]
  },
  {
   "cell_type": "code",
   "execution_count": 182,
   "metadata": {},
   "outputs": [],
   "source": [
    "# 朋友的数量\n",
    "num_points = len(num_friends)               # 204\n",
    "\n",
    "# 最大值和最小值\n",
    "largest_value = max(num_friends)            # 100\n",
    "smallest_value = min(num_friends)           # 1\n",
    "\n",
    "# 了解特定位置的值\n",
    "sorted_values = sorted(num_friends)\n",
    "smallest_value = sorted_values[0]           # 1\n",
    "second_smallest_value = sorted_values[1]    # 1\n",
    "second_largest_value = sorted_values[-2]    # 49"
   ]
  },
  {
   "cell_type": "markdown",
   "metadata": {},
   "source": [
    "#### 中心倾向"
   ]
  },
  {
   "cell_type": "markdown",
   "metadata": {},
   "source": [
    "##### 均值"
   ]
  },
  {
   "cell_type": "markdown",
   "metadata": {},
   "source": [
    "在 NumPy 中，可以使用 numpy.mean() 函数来计算数组的均值。"
   ]
  },
  {
   "cell_type": "code",
   "execution_count": 183,
   "metadata": {},
   "outputs": [
    {
     "name": "stdout",
     "output_type": "stream",
     "text": [
      "均值: 7.288461538461538\n"
     ]
    }
   ],
   "source": [
    "import numpy as np\n",
    "\n",
    "num_friends = [100.0, 49, 41, 40, 25, 21, 21, 19, 19, 18, 18, 16, 15, 15, 15, 15, 14, 14, 13, 13, 13, 13, 12, 12, 11, 10, 10, 10, 10, 10, 10, 10, 10, 10, 10, 10, 10, 10, 10, 10, 9, 9, 9, 9, 9, 9, 9, 9, 9, 9, 9, 9, 9, 9, 9, 9, 9, 9, 9, 8, 8, 8, 8, 8, 8, 8, 8, 8, 8, 8, 8, 8, 7, 7, 7, 7, 7, 7, 7, 7, 7, 7, 7, 7, 7, 7, 7, 6, 6, 6, 6, 6, 6, 6, 6,\n",
    "               6, 6, 6, 6, 6, 6, 6, 6, 6, 6, 6, 6, 6, 6, 5, 5, 5, 5, 5, 5, 5, 5, 5, 5, 5, 5, 5, 5, 5, 5, 5, 4, 4, 4, 4, 4, 4, 4, 4, 4, 4, 4, 4, 4, 4, 4, 4, 4, 4, 4, 4, 4, 4, 3, 3, 3, 3, 3, 3, 3, 3, 3, 3, 3, 3, 3, 3, 3, 3, 3, 3, 3, 3, 3, 2, 2, 2, 2, 2, 2, 2, 2, 2, 2, 2, 2, 2, 2, 2, 2, 2, 1, 1, 1, 1, 1, 1, 1, 1, 1, 1, 1, 1, 1, 1, 1, 1, 1, 1, 1, 1, 1, 1]\n",
    "\n",
    "# 计算数组的均值\n",
    "mean_value = np.mean(num_friends)\n",
    "\n",
    "print(\"均值:\", mean_value)"
   ]
  },
  {
   "cell_type": "markdown",
   "metadata": {},
   "source": [
    "##### 中位数"
   ]
  },
  {
   "cell_type": "markdown",
   "metadata": {},
   "source": [
    "在 NumPy 中，可以使用 numpy.median() 函数来计算数组的中位数。"
   ]
  },
  {
   "cell_type": "code",
   "execution_count": 184,
   "metadata": {},
   "outputs": [
    {
     "name": "stdout",
     "output_type": "stream",
     "text": [
      "中位数: 6.0\n"
     ]
    }
   ],
   "source": [
    "import numpy as np\n",
    "\n",
    "num_friends = [100.0, 49, 41, 40, 25, 21, 21, 19, 19, 18, 18, 16, 15, 15, 15, 15, 14, 14, 13, 13, 13, 13, 12, 12, 11, 10, 10, 10, 10, 10, 10, 10, 10, 10, 10, 10, 10, 10, 10, 10, 9, 9, 9, 9, 9, 9, 9, 9, 9, 9, 9, 9, 9, 9, 9, 9, 9, 9, 9, 8, 8, 8, 8, 8, 8, 8, 8, 8, 8, 8, 8, 8, 7, 7, 7, 7, 7, 7, 7, 7, 7, 7, 7, 7, 7, 7, 7, 6, 6, 6, 6, 6, 6, 6, 6,\n",
    "               6, 6, 6, 6, 6, 6, 6, 6, 6, 6, 6, 6, 6, 6, 5, 5, 5, 5, 5, 5, 5, 5, 5, 5, 5, 5, 5, 5, 5, 5, 5, 4, 4, 4, 4, 4, 4, 4, 4, 4, 4, 4, 4, 4, 4, 4, 4, 4, 4, 4, 4, 4, 4, 3, 3, 3, 3, 3, 3, 3, 3, 3, 3, 3, 3, 3, 3, 3, 3, 3, 3, 3, 3, 3, 2, 2, 2, 2, 2, 2, 2, 2, 2, 2, 2, 2, 2, 2, 2, 2, 2, 1, 1, 1, 1, 1, 1, 1, 1, 1, 1, 1, 1, 1, 1, 1, 1, 1, 1, 1, 1, 1, 1]\n",
    "\n",
    "# 计算数组的中位数\n",
    "median_value = np.median(num_friends)\n",
    "\n",
    "print(\"中位数:\", median_value)"
   ]
  },
  {
   "cell_type": "markdown",
   "metadata": {},
   "source": [
    "##### 分位数"
   ]
  },
  {
   "cell_type": "markdown",
   "metadata": {},
   "source": [
    "在 NumPy 中，可以使用 numpy.percentile() 函数来计算数组的分位数。numpy.percentile() 函数接受两个参数：数组和百分位数。"
   ]
  },
  {
   "cell_type": "code",
   "execution_count": 185,
   "metadata": {},
   "outputs": [
    {
     "name": "stdout",
     "output_type": "stream",
     "text": [
      "第 25% 分位数: 3.0\n",
      "中位数 (第 50% 分位数): 6.0\n",
      "第 75% 分位数: 9.0\n"
     ]
    }
   ],
   "source": [
    "import numpy as np\n",
    "\n",
    "num_friends = [100.0, 49, 41, 40, 25, 21, 21, 19, 19, 18, 18, 16, 15, 15, 15, 15, 14, 14, 13, 13, 13, 13, 12, 12, 11, 10, 10, 10, 10, 10, 10, 10, 10, 10, 10, 10, 10, 10, 10, 9, 9, 9, 9, 9, 9, 9, 9, 9, 9, 9, 9, 9, 9, 9, 9, 9, 9, 9, 8, 8, 8, 8, 8, 8, 8, 8, 8, 8, 8, 8, 8, 7, 7, 7, 7, 7, 7, 7, 7, 7, 7, 7, 7, 7, 7, 7, 6, 6, 6, 6, 6, 6, 6, 6,\n",
    "               6, 6, 6, 6, 6, 6, 6, 6, 6, 6, 6, 6, 6, 6, 5, 5, 5, 5, 5, 5, 5, 5, 5, 5, 5, 5, 5, 5, 5, 5, 5, 4, 4, 4, 4, 4, 4, 4, 4, 4, 4, 4, 4, 4, 4, 4, 4, 4, 4, 4, 4, 4, 4, 3, 3, 3, 3, 3, 3, 3, 3, 3, 3, 3, 3, 3, 3, 3, 3, 3, 3, 3, 3, 3, 2, 2, 2, 2, 2, 2, 2, 2, 2, 2, 2, 2, 2, 2, 2, 2, 2, 1, 1, 1, 1, 1, 1, 1, 1, 1, 1, 1, 1, 1, 1, 1, 1, 1, 1, 1, 1, 1, 1]\n",
    "\n",
    "# 计算第 25% 分位数\n",
    "q25 = np.percentile(num_friends, 25)\n",
    "\n",
    "# 计算中位数 (第 50% 分位数)\n",
    "median_value = np.percentile(num_friends, 50)\n",
    "\n",
    "# 计算第 75% 分位数\n",
    "q75 = np.percentile(num_friends, 75)\n",
    "\n",
    "print(\"第 25% 分位数:\", q25)\n",
    "print(\"中位数 (第 50% 分位数):\", median_value)\n",
    "print(\"第 75% 分位数:\", q75)"
   ]
  },
  {
   "cell_type": "markdown",
   "metadata": {},
   "source": [
    "##### 众数"
   ]
  },
  {
   "cell_type": "markdown",
   "metadata": {},
   "source": [
    "在 NumPy 中，可以使用 numpy.unique() 函数来找到数组的唯一值，以及它们在数组中的出现次数。"
   ]
  },
  {
   "cell_type": "code",
   "execution_count": 186,
   "metadata": {},
   "outputs": [
    {
     "name": "stdout",
     "output_type": "stream",
     "text": [
      "唯一值: [  1.   2.   3.   4.   5.   6.   7.   8.   9.  10.  11.  12.  13.  14.\n",
      "  15.  16.  18.  19.  21.  25.  40.  41.  49. 100.]\n",
      "计数: [22 17 21 22 17 22 15 13 19 14  1  2  4  2  4  1  2  2  2  1  1  1  1  1]\n",
      "众数: 1.0\n",
      "出现次数: 22\n"
     ]
    }
   ],
   "source": [
    "import numpy as np\n",
    "\n",
    "num_friends = [100.0, 49, 41, 40, 25, 21, 21, 19, 19, 18, 18, 16, 15, 15, 15, 15, 14, 14, 13, 13, 13, 13, 12, 12, 11, 10, 10, 10, 10, 10, 10, 10, 10, 10, 10, 10, 10, 10, 10, 9, 9, 9, 9, 9, 9, 9, 9, 9, 9, 9, 9, 9, 9, 9, 9, 9, 9, 9, 8, 8, 8, 8, 8, 8, 8, 8, 8, 8, 8, 8, 8, 7, 7, 7, 7, 7, 7, 7, 7, 7, 7, 7, 7, 7, 7, 7, 6, 6, 6, 6, 6, 6, 6, 6,\n",
    "               6, 6, 6, 6, 6, 6, 6, 6, 6, 6, 6, 6, 6, 6, 5, 5, 5, 5, 5, 5, 5, 5, 5, 5, 5, 5, 5, 5, 5, 5, 5, 4, 4, 4, 4, 4, 4, 4, 4, 4, 4, 4, 4, 4, 4, 4, 4, 4, 4, 4, 4, 4, 4, 3, 3, 3, 3, 3, 3, 3, 3, 3, 3, 3, 3, 3, 3, 3, 3, 3, 3, 3, 3, 3, 2, 2, 2, 2, 2, 2, 2, 2, 2, 2, 2, 2, 2, 2, 2, 2, 2, 1, 1, 1, 1, 1, 1, 1, 1, 1, 1, 1, 1, 1, 1, 1, 1, 1, 1, 1, 1, 1, 1]\n",
    "\n",
    "# 找到数组的唯一值和它们的计数\n",
    "unique_values, counts = np.unique(num_friends, return_counts=True)\n",
    "\n",
    "# 找到众数的索引\n",
    "mode_index = np.argmax(counts)\n",
    "\n",
    "# 获取众数\n",
    "mode_value = unique_values[mode_index]\n",
    "\n",
    "print(\"唯一值:\", unique_values)\n",
    "print(\"计数:\", counts)\n",
    "print(\"众数:\", mode_value)\n",
    "print(\"出现次数:\", counts[mode_index])"
   ]
  },
  {
   "cell_type": "markdown",
   "metadata": {},
   "source": [
    "#### 离散度"
   ]
  },
  {
   "cell_type": "markdown",
   "metadata": {},
   "source": [
    "**离散度**是数据离散程度的度量。通常，如果它的值接近零，则表示数据离散程度低。"
   ]
  },
  {
   "cell_type": "markdown",
   "metadata": {},
   "source": [
    "##### 极差"
   ]
  },
  {
   "cell_type": "markdown",
   "metadata": {},
   "source": [
    "最大值和最小值元素之间的差。"
   ]
  },
  {
   "cell_type": "markdown",
   "metadata": {},
   "source": [
    "在 NumPy 中，可以使用 numpy.ptp() 函数来计算数组的极差。"
   ]
  },
  {
   "cell_type": "code",
   "execution_count": 187,
   "metadata": {},
   "outputs": [
    {
     "name": "stdout",
     "output_type": "stream",
     "text": [
      "极差: 99.0\n"
     ]
    }
   ],
   "source": [
    "import numpy as np\n",
    "\n",
    "num_friends = [100.0, 49, 41, 40, 25, 21, 21, 19, 19, 18, 18, 16, 15, 15, 15, 15, 14, 14, 13, 13, 13, 13, 12, 12, 11, 10, 10, 10, 10, 10, 10, 10, 10, 10, 10, 10, 10, 10, 10, 9, 9, 9, 9, 9, 9, 9, 9, 9, 9, 9, 9, 9, 9, 9, 9, 9, 9, 9, 8, 8, 8, 8, 8, 8, 8, 8, 8, 8, 8, 8, 8, 7, 7, 7, 7, 7, 7, 7, 7, 7, 7, 7, 7, 7, 7, 7, 6, 6, 6, 6, 6, 6, 6, 6,\n",
    "               6, 6, 6, 6, 6, 6, 6, 6, 6, 6, 6, 6, 6, 6, 5, 5, 5, 5, 5, 5, 5, 5, 5, 5, 5, 5, 5, 5, 5, 5, 5, 4, 4, 4, 4, 4, 4, 4, 4, 4, 4, 4, 4, 4, 4, 4, 4, 4, 4, 4, 4, 4, 4, 3, 3, 3, 3, 3, 3, 3, 3, 3, 3, 3, 3, 3, 3, 3, 3, 3, 3, 3, 3, 3, 2, 2, 2, 2, 2, 2, 2, 2, 2, 2, 2, 2, 2, 2, 2, 2, 2, 1, 1, 1, 1, 1, 1, 1, 1, 1, 1, 1, 1, 1, 1, 1, 1, 1, 1, 1, 1, 1, 1]\n",
    "\n",
    "# 计算数组的极差\n",
    "range_value = np.ptp(num_friends)\n",
    "\n",
    "print(\"极差:\", range_value)"
   ]
  },
  {
   "cell_type": "markdown",
   "metadata": {},
   "source": [
    "##### 方差"
   ]
  },
  {
   "cell_type": "markdown",
   "metadata": {},
   "source": [
    "在 NumPy 中，可以使用 numpy.var() 函数来计算数组的方差。"
   ]
  },
  {
   "cell_type": "code",
   "execution_count": 188,
   "metadata": {},
   "outputs": [
    {
     "name": "stdout",
     "output_type": "stream",
     "text": [
      "方差: 80.14156689771055\n"
     ]
    }
   ],
   "source": [
    "import numpy as np\n",
    "\n",
    "num_friends = [100.0, 49, 41, 40, 25, 21, 21, 19, 19, 18, 18, 16, 15, 15, 15, 15, 14, 14, 13, 13, 13, 13, 12, 12, 11, 10, 10, 10, 10, 10, 10, 10, 10, 10, 10, 10, 10, 10, 10, 9, 9, 9, 9, 9, 9, 9, 9, 9, 9, 9, 9, 9, 9, 9, 9, 9, 9, 9, 8, 8, 8, 8, 8, 8, 8, 8, 8, 8, 8, 8, 8, 7, 7, 7, 7, 7, 7, 7, 7, 7, 7, 7, 7, 7, 7, 7, 6, 6, 6, 6, 6, 6, 6, 6,\n",
    "               6, 6, 6, 6, 6, 6, 6, 6, 6, 6, 6, 6, 6, 6, 5, 5, 5, 5, 5, 5, 5, 5, 5, 5, 5, 5, 5, 5, 5, 5, 5, 4, 4, 4, 4, 4, 4, 4, 4, 4, 4, 4, 4, 4, 4, 4, 4, 4, 4, 4, 4, 4, 4, 3, 3, 3, 3, 3, 3, 3, 3, 3, 3, 3, 3, 3, 3, 3, 3, 3, 3, 3, 3, 3, 2, 2, 2, 2, 2, 2, 2, 2, 2, 2, 2, 2, 2, 2, 2, 2, 2, 1, 1, 1, 1, 1, 1, 1, 1, 1, 1, 1, 1, 1, 1, 1, 1, 1, 1, 1, 1, 1, 1]\n",
    "\n",
    "# 计算数组的方差\n",
    "variance_value = np.var(num_friends)\n",
    "\n",
    "print(\"方差:\", variance_value)"
   ]
  },
  {
   "cell_type": "markdown",
   "metadata": {},
   "source": [
    "##### 标准差"
   ]
  },
  {
   "cell_type": "markdown",
   "metadata": {},
   "source": [
    "在 NumPy 中，可以使用 numpy.std() 函数来计算数组的标准差。"
   ]
  },
  {
   "cell_type": "code",
   "execution_count": 189,
   "metadata": {},
   "outputs": [
    {
     "name": "stdout",
     "output_type": "stream",
     "text": [
      "标准差: 8.952182242208352\n"
     ]
    }
   ],
   "source": [
    "import numpy as np\n",
    "\n",
    "num_friends = [100.0, 49, 41, 40, 25, 21, 21, 19, 19, 18, 18, 16, 15, 15, 15, 15, 14, 14, 13, 13, 13, 13, 12, 12, 11, 10, 10, 10, 10, 10, 10, 10, 10, 10, 10, 10, 10, 10, 10, 9, 9, 9, 9, 9, 9, 9, 9, 9, 9, 9, 9, 9, 9, 9, 9, 9, 9, 9, 8, 8, 8, 8, 8, 8, 8, 8, 8, 8, 8, 8, 8, 7, 7, 7, 7, 7, 7, 7, 7, 7, 7, 7, 7, 7, 7, 7, 6, 6, 6, 6, 6, 6, 6, 6,\n",
    "               6, 6, 6, 6, 6, 6, 6, 6, 6, 6, 6, 6, 6, 6, 5, 5, 5, 5, 5, 5, 5, 5, 5, 5, 5, 5, 5, 5, 5, 5, 5, 4, 4, 4, 4, 4, 4, 4, 4, 4, 4, 4, 4, 4, 4, 4, 4, 4, 4, 4, 4, 4, 4, 3, 3, 3, 3, 3, 3, 3, 3, 3, 3, 3, 3, 3, 3, 3, 3, 3, 3, 3, 3, 3, 2, 2, 2, 2, 2, 2, 2, 2, 2, 2, 2, 2, 2, 2, 2, 2, 2, 1, 1, 1, 1, 1, 1, 1, 1, 1, 1, 1, 1, 1, 1, 1, 1, 1, 1, 1, 1, 1, 1]\n",
    "\n",
    "# 计算数组的标准差\n",
    "std_deviation_value = np.std(num_friends)\n",
    "\n",
    "print(\"标准差:\", std_deviation_value)"
   ]
  },
  {
   "cell_type": "markdown",
   "metadata": {},
   "source": [
    "### 相关"
   ]
  },
  {
   "cell_type": "markdown",
   "metadata": {},
   "source": [
    "开源王国的国王又有新想法了～他想了解开源爱好者们在github上花费的时间是否与其在该网站上拥有的朋友数量相关。现在他希望你来验证这一点。"
   ]
  },
  {
   "cell_type": "markdown",
   "metadata": {},
   "source": [
    "在分析了流量日志后，你设法做了一个名叫做daily_minutes的列表，它显示每个用户每天在github上花费的时间。你还对其进行了排序，使之和之前的num_friends列表的元素相对应，以便进一步探索这两个列表之间的关系。"
   ]
  },
  {
   "cell_type": "code",
   "execution_count": 190,
   "metadata": {},
   "outputs": [],
   "source": [
    "daily_minutes = [1, 68.77,51.25,52.08,38.36,44.54,57.13,51.4,41.42,31.22,34.76,54.01,38.79,47.59,49.1,27.66,41.03,36.73,48.65,28.12,46.62,35.57,32.98,35,26.07,23.77,39.73,40.57,31.65,31.21,36.32,20.45,21.93,26.02,27.34,23.49,46.94,30.5,33.8,24.23,21.4,27.94,32.24,40.57,25.07,19.42,22.39,18.42,46.96,23.72,26.41,26.97,36.76,40.32,35.02,29.47,30.2,31,38.11,38.18,36.31,21.03,30.86,36.07,28.66,29.08,37.28,15.28,24.17,22.31,30.17,25.53,19.85,35.37,44.6,17.23,13.47,26.33,35.02,32.09,24.81,19.33,28.77,24.26,31.98,25.73,24.86,16.28,34.51,15.23,39.72,40.8,26.06,35.76,34.76,16.13,44.04,18.03,19.65,32.62,35.59,39.43,14.18,35.24,40.13,41.82,35.45,36.07,43.67,24.61,20.9,21.9,18.79,27.61,27.21,26.61,29.77,20.59,27.53,13.82,33.2,25,33.1,36.65,18.63,14.87,22.2,36.81,25.53,24.62,26.25,18.21,28.08,19.42,29.79,32.8,35.99,28.32,27.79,35.88,29.06,36.28,14.1,36.63,37.49,26.9,18.58,38.48,24.48,18.95,33.55,14.24,29.04,32.51,25.63,22.22,19,32.73,15.16,13.9,27.2,32.01,29.27,33,13.74,20.42,27.32,18.23,35.35,28.48,9.08,24.62,20.12,35.26,19.92,31.02,16.49,12.16,30.7,31.22,34.65,13.13,27.51,33.2,31.57,14.1,33.42,17.44,10.12,24.42,9.82,23.39,30.93,15.03,21.67,31.09,33.29,22.61,26.89,23.48,8.38,27.81,32.35,23.84]"
   ]
  },
  {
   "cell_type": "markdown",
   "metadata": {},
   "source": [
    "#### 协方差"
   ]
  },
  {
   "cell_type": "markdown",
   "metadata": {},
   "source": [
    "协方差（covariance）是用于衡量两个变量之间线性关系的统计量。在 NumPy 中，可以使用 numpy.cov() 函数来计算两个数组的协方差。"
   ]
  },
  {
   "cell_type": "code",
   "execution_count": 191,
   "metadata": {},
   "outputs": [
    {
     "name": "stdout",
     "output_type": "stream",
     "text": [
      "协方差矩阵:\n",
      "[[ 81.54351396  22.42543514]\n",
      " [ 22.42543514 100.78589895]]\n",
      "协方差值: 22.425435139573064\n"
     ]
    }
   ],
   "source": [
    "import numpy as np\n",
    "\n",
    "num_friends = [100.0, 49, 41, 40, 25, 21, 21, 19, 19, 18, 18, 16, 15, 15, 15, 15, 14, 14, 13, 13, 13, 13, 12, 12, 11, 10, 10, 10, 10, 10, 10, 10, 10, 10, 10, 10, 10, 10, 10, 10, 9, 9, 9, 9, 9, 9, 9, 9, 9, 9, 9, 9, 9, 9, 9, 9, 9, 9, 8, 8, 8, 8, 8, 8, 8, 8, 8, 8, 8, 8, 8, 7, 7, 7, 7, 7, 7, 7, 7, 7, 7, 7, 7, 7, 7, 7, 6, 6, 6, 6, 6, 6, 6,\n",
    "               6, 6, 6, 6, 6, 6, 6, 6, 6, 6, 6, 6, 6, 6, 6, 5, 5, 5, 5, 5, 5, 5, 5, 5, 5, 5, 5, 5, 5, 5, 5, 5, 4, 4, 4, 4, 4, 4, 4, 4, 4, 4, 4, 4, 4, 4, 4, 4, 4, 4, 4, 4, 3, 3, 3, 3, 3, 3, 3, 3, 3, 3, 3, 3, 3, 3, 3, 3, 3, 3, 3, 3, 2, 2, 2, 2, 2, 2, 2, 2, 2, 2, 2, 2, 2, 2, 2, 2, 2, 1, 1, 1, 1, 1, 1, 1, 1, 1, 1, 1, 1, 1, 1, 1, 1, 1, 1, 1, 1, 1, 1]\n",
    "\n",
    "daily_minutes = [1, 68.77, 51.25, 52.08, 38.36, 44.54, 57.13, 51.4, 41.42, 31.22, 34.76, 54.01, 38.79, 47.59, 49.1, 27.66, 41.03, 36.73, 48.65, 28.12, 46.62, 35.57, 32.98, 35, 26.07, 23.77, 39.73, 40.57, 31.65, 31.21, 36.32, 20.45, 21.93, 26.02, 27.34, 23.49, 46.94, 30.5, 33.8, 24.23, 21.4, 27.94, 32.24, 40.57, 25.07, 19.42, 22.39, 18.42, 46.96, 23.72, 26.41, 26.97, 36.76, 40.32, 35.02, 29.47, 30.2, 31, 38.11, 38.18, 36.31, 21.03, 30.86, 36.07, 28.66, 29.08, 37.28, 15.28, 24.17, 22.31, 30.17, 25.53, 19.85, 35.37, 44.6, 17.23, 13.47, 26.33, 35.02, 32.09, 24.81, 19.33, 28.77, 24.26, 31.98, 25.73, 24.86, 16.28, 34.51, 15.23, 39.72, 40.8, 26.06, 35.76, 34.76, 16.13, 44.04, 18.03, 19.65, 32.62,\n",
    "                 35.59, 39.43, 14.18, 35.24, 40.13, 41.82, 35.45, 36.07, 43.67, 24.61, 20.9, 21.9, 18.79, 27.61, 27.21, 26.61, 29.77, 20.59, 27.53, 13.82, 33.2, 25, 33.1, 36.65, 18.63, 14.87, 22.2, 36.81, 25.53, 24.62, 26.25, 18.21, 28.08, 19.42, 29.79, 32.8, 35.99, 28.32, 27.79, 35.88, 29.06, 36.28, 14.1, 36.63, 37.49, 26.9, 18.58, 38.48, 24.48, 18.95, 33.55, 14.24, 29.04, 32.51, 25.63, 22.22, 19, 32.73, 15.16, 13.9, 27.2, 32.01, 29.27, 33, 13.74, 20.42, 27.32, 18.23, 35.35, 28.48, 9.08, 24.62, 20.12, 35.26, 19.92, 31.02, 16.49, 12.16, 30.7, 31.22, 34.65, 13.13, 27.51, 33.2, 31.57, 14.1, 33.42, 17.44, 10.12, 24.42, 9.82, 23.39, 30.93, 15.03, 21.67, 31.09, 33.29, 22.61, 26.89, 23.48, 8.38, 27.81, 32.35, 23.84]\n",
    "\n",
    "# 计算两个数组的协方差矩阵\n",
    "covariance_matrix = np.cov(num_friends, daily_minutes)\n",
    "\n",
    "print(\"协方差矩阵:\")\n",
    "print(covariance_matrix)\n",
    "# 协方差矩阵是一个对称矩阵：\n",
    "# 「cov(x,x)  cov(x,y)\n",
    "#   cov(y,x)  cov(y,y)」\n",
    "\n",
    "# 获取协方差值\n",
    "covariance_value = covariance_matrix[0, 1]\n",
    "print(\"协方差值:\", covariance_value)\n",
    "\n",
    "# np.cov(num_friends, daily_minutes) 返回了一个协方差矩阵，\n",
    "# 其中 [0, 1] 处的值即为 num_friends 和 daily_minutes 的协方差。"
   ]
  },
  {
   "cell_type": "markdown",
   "metadata": {},
   "source": [
    "#### 相关系数"
   ]
  },
  {
   "cell_type": "markdown",
   "metadata": {},
   "source": [
    "相关系数（Correlation Coefficient）是衡量两个变量之间线性关系强弱的统计量。**它是协方差除以两个变量的标准差的值。** 在 NumPy 中，可以使用 numpy.corrcoef() 函数来计算相关系数矩阵。"
   ]
  },
  {
   "cell_type": "code",
   "execution_count": 192,
   "metadata": {},
   "outputs": [
    {
     "name": "stdout",
     "output_type": "stream",
     "text": [
      "相关系数矩阵: [[1.         0.24736957]\n",
      " [0.24736957 1.        ]]\n",
      "相关系数: 0.2473695736647822\n"
     ]
    }
   ],
   "source": [
    "import numpy as np\n",
    "\n",
    "num_friends = [100.0, 49, 41, 40, 25, 21, 21, 19, 19, 18, 18, 16, 15, 15, 15, 15, 14, 14, 13, 13, 13, 13, 12, 12, 11, 10, 10, 10, 10, 10, 10, 10, 10, 10, 10, 10, 10, 10, 10, 10, 9, 9, 9, 9, 9, 9, 9, 9, 9, 9, 9, 9, 9, 9, 9, 9, 9, 9, 8, 8, 8, 8, 8, 8, 8, 8, 8, 8, 8, 8, 8, 7, 7, 7, 7, 7, 7, 7, 7, 7, 7, 7, 7, 7, 7, 7, 6, 6, 6, 6, 6, 6, 6,\n",
    "               6, 6, 6, 6, 6, 6, 6, 6, 6, 6, 6, 6, 6, 6, 6, 5, 5, 5, 5, 5, 5, 5, 5, 5, 5, 5, 5, 5, 5, 5, 5, 5, 4, 4, 4, 4, 4, 4, 4, 4, 4, 4, 4, 4, 4, 4, 4, 4, 4, 4, 4, 4, 3, 3, 3, 3, 3, 3, 3, 3, 3, 3, 3, 3, 3, 3, 3, 3, 3, 3, 3, 3, 2, 2, 2, 2, 2, 2, 2, 2, 2, 2, 2, 2, 2, 2, 2, 2, 2, 1, 1, 1, 1, 1, 1, 1, 1, 1, 1, 1, 1, 1, 1, 1, 1, 1, 1, 1, 1, 1, 1]\n",
    "\n",
    "daily_minutes = [1, 68.77, 51.25, 52.08, 38.36, 44.54, 57.13, 51.4, 41.42, 31.22, 34.76, 54.01, 38.79, 47.59, 49.1, 27.66, 41.03, 36.73, 48.65, 28.12, 46.62, 35.57, 32.98, 35, 26.07, 23.77, 39.73, 40.57, 31.65, 31.21, 36.32, 20.45, 21.93, 26.02, 27.34, 23.49, 46.94, 30.5, 33.8, 24.23, 21.4, 27.94, 32.24, 40.57, 25.07, 19.42, 22.39, 18.42, 46.96, 23.72, 26.41, 26.97, 36.76, 40.32, 35.02, 29.47, 30.2, 31, 38.11, 38.18, 36.31, 21.03, 30.86, 36.07, 28.66, 29.08, 37.28, 15.28, 24.17, 22.31, 30.17, 25.53, 19.85, 35.37, 44.6, 17.23, 13.47, 26.33, 35.02, 32.09, 24.81, 19.33, 28.77, 24.26, 31.98, 25.73, 24.86, 16.28, 34.51, 15.23, 39.72, 40.8, 26.06, 35.76, 34.76, 16.13, 44.04, 18.03, 19.65, 32.62,\n",
    "                 35.59, 39.43, 14.18, 35.24, 40.13, 41.82, 35.45, 36.07, 43.67, 24.61, 20.9, 21.9, 18.79, 27.61, 27.21, 26.61, 29.77, 20.59, 27.53, 13.82, 33.2, 25, 33.1, 36.65, 18.63, 14.87, 22.2, 36.81, 25.53, 24.62, 26.25, 18.21, 28.08, 19.42, 29.79, 32.8, 35.99, 28.32, 27.79, 35.88, 29.06, 36.28, 14.1, 36.63, 37.49, 26.9, 18.58, 38.48, 24.48, 18.95, 33.55, 14.24, 29.04, 32.51, 25.63, 22.22, 19, 32.73, 15.16, 13.9, 27.2, 32.01, 29.27, 33, 13.74, 20.42, 27.32, 18.23, 35.35, 28.48, 9.08, 24.62, 20.12, 35.26, 19.92, 31.02, 16.49, 12.16, 30.7, 31.22, 34.65, 13.13, 27.51, 33.2, 31.57, 14.1, 33.42, 17.44, 10.12, 24.42, 9.82, 23.39, 30.93, 15.03, 21.67, 31.09, 33.29, 22.61, 26.89, 23.48, 8.38, 27.81, 32.35, 23.84]\n",
    "\n",
    "# 计算相关系数矩阵\n",
    "correlation_matrix = np.corrcoef(num_friends, daily_minutes)\n",
    "\n",
    "# 获取相关系数\n",
    "correlation_coefficient = correlation_matrix[0, 1]\n",
    "\n",
    "print(f\"相关系数矩阵: {correlation_matrix}\")\n",
    "print(f\"相关系数: {correlation_coefficient}\")"
   ]
  },
  {
   "cell_type": "markdown",
   "metadata": {},
   "source": [
    "相关系数没有单位，其取值范围为-1（完全负相关）～1（完全正相关）。像0.25这样的值表示相对较弱的正相关。"
   ]
  },
  {
   "cell_type": "markdown",
   "metadata": {},
   "source": [
    "### OpenLeaderboard 洞察"
   ]
  },
  {
   "cell_type": "markdown",
   "metadata": {},
   "source": [
    "开源数字王国的开源爱好者们，根据 GitHub 上面的开源活动数据，构建了一个开源排行榜 OpenLeaderboard（https://open-leaderboard.x-lab.info），用来展示开源世界中的那些优秀的项目、企业、与开发者，排行榜里面的各种数字引起了**李纳斯**浓厚的兴趣。"
   ]
  },
  {
   "cell_type": "markdown",
   "metadata": {},
   "source": [
    "以 2023年 6 月份的数据为例：\n",
    "- 用矩阵表示当月排名前 50 的项目活跃度详情。\n",
    "- 美国排名前 100 项目的 OpenRank 值，最大的是多少、最小的是多少、均值多少、中位数多少？"
   ]
  },
  {
   "cell_type": "markdown",
   "metadata": {},
   "source": [
    "用矩阵表示当月排名前 50 的项目活跃度详情。"
   ]
  },
  {
   "cell_type": "code",
   "execution_count": 193,
   "metadata": {},
   "outputs": [
    {
     "data": {
      "text/html": [
       "<div>\n",
       "<style scoped>\n",
       "    .dataframe tbody tr th:only-of-type {\n",
       "        vertical-align: middle;\n",
       "    }\n",
       "\n",
       "    .dataframe tbody tr th {\n",
       "        vertical-align: top;\n",
       "    }\n",
       "\n",
       "    .dataframe thead th {\n",
       "        text-align: right;\n",
       "    }\n",
       "</style>\n",
       "<table border=\"1\" class=\"dataframe\">\n",
       "  <thead>\n",
       "    <tr style=\"text-align: right;\">\n",
       "      <th></th>\n",
       "      <th>name</th>\n",
       "      <th>issue_comment</th>\n",
       "      <th>open_issue</th>\n",
       "      <th>open_pull</th>\n",
       "      <th>review_comment</th>\n",
       "      <th>merged_pull</th>\n",
       "      <th>rank</th>\n",
       "      <th>value</th>\n",
       "      <th>rankDelta</th>\n",
       "      <th>valueDelta</th>\n",
       "    </tr>\n",
       "  </thead>\n",
       "  <tbody>\n",
       "    <tr>\n",
       "      <th>0</th>\n",
       "      <td>PaddlePaddle/Paddle</td>\n",
       "      <td>1707</td>\n",
       "      <td>136</td>\n",
       "      <td>592</td>\n",
       "      <td>880</td>\n",
       "      <td>432</td>\n",
       "      <td>1</td>\n",
       "      <td>1184.93</td>\n",
       "      <td>0</td>\n",
       "      <td>-95.69</td>\n",
       "    </tr>\n",
       "    <tr>\n",
       "      <th>1</th>\n",
       "      <td>apache/doris</td>\n",
       "      <td>5408</td>\n",
       "      <td>111</td>\n",
       "      <td>851</td>\n",
       "      <td>602</td>\n",
       "      <td>722</td>\n",
       "      <td>2</td>\n",
       "      <td>1133.22</td>\n",
       "      <td>0</td>\n",
       "      <td>-63.34</td>\n",
       "    </tr>\n",
       "    <tr>\n",
       "      <th>2</th>\n",
       "      <td>StarRocks/starrocks</td>\n",
       "      <td>4222</td>\n",
       "      <td>137</td>\n",
       "      <td>1515</td>\n",
       "      <td>1024</td>\n",
       "      <td>1225</td>\n",
       "      <td>3</td>\n",
       "      <td>948.79</td>\n",
       "      <td>1</td>\n",
       "      <td>-42.05</td>\n",
       "    </tr>\n",
       "    <tr>\n",
       "      <th>3</th>\n",
       "      <td>pingcap/tidb</td>\n",
       "      <td>10034</td>\n",
       "      <td>227</td>\n",
       "      <td>497</td>\n",
       "      <td>748</td>\n",
       "      <td>378</td>\n",
       "      <td>4</td>\n",
       "      <td>844.19</td>\n",
       "      <td>1</td>\n",
       "      <td>77.23</td>\n",
       "    </tr>\n",
       "    <tr>\n",
       "      <th>4</th>\n",
       "      <td>ant-design/ant-design</td>\n",
       "      <td>1910</td>\n",
       "      <td>169</td>\n",
       "      <td>240</td>\n",
       "      <td>565</td>\n",
       "      <td>216</td>\n",
       "      <td>5</td>\n",
       "      <td>837.96</td>\n",
       "      <td>-2</td>\n",
       "      <td>-175.67</td>\n",
       "    </tr>\n",
       "    <tr>\n",
       "      <th>5</th>\n",
       "      <td>espressif/esp-idf</td>\n",
       "      <td>1184</td>\n",
       "      <td>182</td>\n",
       "      <td>19</td>\n",
       "      <td>17</td>\n",
       "      <td>7</td>\n",
       "      <td>6</td>\n",
       "      <td>686.66</td>\n",
       "      <td>0</td>\n",
       "      <td>-1.48</td>\n",
       "    </tr>\n",
       "    <tr>\n",
       "      <th>6</th>\n",
       "      <td>milvus-io/milvus</td>\n",
       "      <td>4242</td>\n",
       "      <td>236</td>\n",
       "      <td>345</td>\n",
       "      <td>127</td>\n",
       "      <td>254</td>\n",
       "      <td>7</td>\n",
       "      <td>659.52</td>\n",
       "      <td>0</td>\n",
       "      <td>33.82</td>\n",
       "    </tr>\n",
       "    <tr>\n",
       "      <th>7</th>\n",
       "      <td>apache/flink</td>\n",
       "      <td>788</td>\n",
       "      <td>0</td>\n",
       "      <td>204</td>\n",
       "      <td>1075</td>\n",
       "      <td>135</td>\n",
       "      <td>8</td>\n",
       "      <td>632.48</td>\n",
       "      <td>0</td>\n",
       "      <td>138.08</td>\n",
       "    </tr>\n",
       "    <tr>\n",
       "      <th>8</th>\n",
       "      <td>pingcap/docs-cn</td>\n",
       "      <td>1305</td>\n",
       "      <td>10</td>\n",
       "      <td>259</td>\n",
       "      <td>1150</td>\n",
       "      <td>209</td>\n",
       "      <td>9</td>\n",
       "      <td>478.29</td>\n",
       "      <td>13</td>\n",
       "      <td>141.57</td>\n",
       "    </tr>\n",
       "    <tr>\n",
       "      <th>9</th>\n",
       "      <td>apache/pulsar</td>\n",
       "      <td>665</td>\n",
       "      <td>55</td>\n",
       "      <td>136</td>\n",
       "      <td>604</td>\n",
       "      <td>111</td>\n",
       "      <td>10</td>\n",
       "      <td>431.60</td>\n",
       "      <td>7</td>\n",
       "      <td>68.11</td>\n",
       "    </tr>\n",
       "    <tr>\n",
       "      <th>10</th>\n",
       "      <td>apache/ozone</td>\n",
       "      <td>458</td>\n",
       "      <td>0</td>\n",
       "      <td>171</td>\n",
       "      <td>981</td>\n",
       "      <td>168</td>\n",
       "      <td>11</td>\n",
       "      <td>431.24</td>\n",
       "      <td>0</td>\n",
       "      <td>32.31</td>\n",
       "    </tr>\n",
       "    <tr>\n",
       "      <th>11</th>\n",
       "      <td>PaddlePaddle/PaddleOCR</td>\n",
       "      <td>884</td>\n",
       "      <td>155</td>\n",
       "      <td>19</td>\n",
       "      <td>3</td>\n",
       "      <td>13</td>\n",
       "      <td>12</td>\n",
       "      <td>421.64</td>\n",
       "      <td>-3</td>\n",
       "      <td>4.03</td>\n",
       "    </tr>\n",
       "    <tr>\n",
       "      <th>12</th>\n",
       "      <td>apache/shardingsphere</td>\n",
       "      <td>565</td>\n",
       "      <td>236</td>\n",
       "      <td>461</td>\n",
       "      <td>59</td>\n",
       "      <td>425</td>\n",
       "      <td>13</td>\n",
       "      <td>411.39</td>\n",
       "      <td>7</td>\n",
       "      <td>59.39</td>\n",
       "    </tr>\n",
       "    <tr>\n",
       "      <th>13</th>\n",
       "      <td>pingcap/docs</td>\n",
       "      <td>1636</td>\n",
       "      <td>4</td>\n",
       "      <td>310</td>\n",
       "      <td>872</td>\n",
       "      <td>224</td>\n",
       "      <td>14</td>\n",
       "      <td>408.29</td>\n",
       "      <td>11</td>\n",
       "      <td>79.97</td>\n",
       "    </tr>\n",
       "    <tr>\n",
       "      <th>14</th>\n",
       "      <td>matrixorigin/matrixone</td>\n",
       "      <td>1412</td>\n",
       "      <td>187</td>\n",
       "      <td>318</td>\n",
       "      <td>119</td>\n",
       "      <td>292</td>\n",
       "      <td>15</td>\n",
       "      <td>375.27</td>\n",
       "      <td>1</td>\n",
       "      <td>7.43</td>\n",
       "    </tr>\n",
       "    <tr>\n",
       "      <th>15</th>\n",
       "      <td>kata-containers/kata-containers</td>\n",
       "      <td>564</td>\n",
       "      <td>102</td>\n",
       "      <td>88</td>\n",
       "      <td>445</td>\n",
       "      <td>62</td>\n",
       "      <td>16</td>\n",
       "      <td>373.05</td>\n",
       "      <td>-4</td>\n",
       "      <td>-25.11</td>\n",
       "    </tr>\n",
       "    <tr>\n",
       "      <th>16</th>\n",
       "      <td>PaddlePaddle/PaddleNLP</td>\n",
       "      <td>494</td>\n",
       "      <td>99</td>\n",
       "      <td>102</td>\n",
       "      <td>191</td>\n",
       "      <td>76</td>\n",
       "      <td>17</td>\n",
       "      <td>366.78</td>\n",
       "      <td>-7</td>\n",
       "      <td>-36.58</td>\n",
       "    </tr>\n",
       "    <tr>\n",
       "      <th>17</th>\n",
       "      <td>apache/apisix</td>\n",
       "      <td>644</td>\n",
       "      <td>100</td>\n",
       "      <td>52</td>\n",
       "      <td>185</td>\n",
       "      <td>34</td>\n",
       "      <td>18</td>\n",
       "      <td>358.68</td>\n",
       "      <td>1</td>\n",
       "      <td>-0.64</td>\n",
       "    </tr>\n",
       "    <tr>\n",
       "      <th>18</th>\n",
       "      <td>open-mmlab/OpenMMLabCamp</td>\n",
       "      <td>651</td>\n",
       "      <td>77</td>\n",
       "      <td>3</td>\n",
       "      <td>0</td>\n",
       "      <td>2</td>\n",
       "      <td>19</td>\n",
       "      <td>352.49</td>\n",
       "      <td>500</td>\n",
       "      <td>337.64</td>\n",
       "    </tr>\n",
       "    <tr>\n",
       "      <th>19</th>\n",
       "      <td>taosdata/TDengine</td>\n",
       "      <td>182</td>\n",
       "      <td>69</td>\n",
       "      <td>268</td>\n",
       "      <td>66</td>\n",
       "      <td>233</td>\n",
       "      <td>20</td>\n",
       "      <td>348.13</td>\n",
       "      <td>-2</td>\n",
       "      <td>-14.02</td>\n",
       "    </tr>\n",
       "    <tr>\n",
       "      <th>20</th>\n",
       "      <td>metersphere/metersphere</td>\n",
       "      <td>1026</td>\n",
       "      <td>184</td>\n",
       "      <td>368</td>\n",
       "      <td>42</td>\n",
       "      <td>339</td>\n",
       "      <td>21</td>\n",
       "      <td>347.77</td>\n",
       "      <td>6</td>\n",
       "      <td>25.99</td>\n",
       "    </tr>\n",
       "    <tr>\n",
       "      <th>21</th>\n",
       "      <td>NervJS/taro</td>\n",
       "      <td>406</td>\n",
       "      <td>100</td>\n",
       "      <td>37</td>\n",
       "      <td>28</td>\n",
       "      <td>32</td>\n",
       "      <td>22</td>\n",
       "      <td>332.47</td>\n",
       "      <td>7</td>\n",
       "      <td>14.55</td>\n",
       "    </tr>\n",
       "    <tr>\n",
       "      <th>22</th>\n",
       "      <td>1Panel-dev/1Panel</td>\n",
       "      <td>941</td>\n",
       "      <td>146</td>\n",
       "      <td>120</td>\n",
       "      <td>6</td>\n",
       "      <td>121</td>\n",
       "      <td>23</td>\n",
       "      <td>325.19</td>\n",
       "      <td>-9</td>\n",
       "      <td>-48.82</td>\n",
       "    </tr>\n",
       "    <tr>\n",
       "      <th>23</th>\n",
       "      <td>open-mmlab/mmdetection</td>\n",
       "      <td>271</td>\n",
       "      <td>88</td>\n",
       "      <td>51</td>\n",
       "      <td>83</td>\n",
       "      <td>45</td>\n",
       "      <td>24</td>\n",
       "      <td>322.98</td>\n",
       "      <td>2</td>\n",
       "      <td>-4.57</td>\n",
       "    </tr>\n",
       "    <tr>\n",
       "      <th>24</th>\n",
       "      <td>apache/tvm</td>\n",
       "      <td>420</td>\n",
       "      <td>28</td>\n",
       "      <td>135</td>\n",
       "      <td>241</td>\n",
       "      <td>139</td>\n",
       "      <td>25</td>\n",
       "      <td>320.98</td>\n",
       "      <td>-12</td>\n",
       "      <td>-61.08</td>\n",
       "    </tr>\n",
       "    <tr>\n",
       "      <th>25</th>\n",
       "      <td>baidu/amis</td>\n",
       "      <td>484</td>\n",
       "      <td>119</td>\n",
       "      <td>135</td>\n",
       "      <td>46</td>\n",
       "      <td>122</td>\n",
       "      <td>26</td>\n",
       "      <td>316.23</td>\n",
       "      <td>-5</td>\n",
       "      <td>-34.92</td>\n",
       "    </tr>\n",
       "    <tr>\n",
       "      <th>26</th>\n",
       "      <td>Alluxio/alluxio</td>\n",
       "      <td>659</td>\n",
       "      <td>28</td>\n",
       "      <td>152</td>\n",
       "      <td>340</td>\n",
       "      <td>131</td>\n",
       "      <td>27</td>\n",
       "      <td>309.96</td>\n",
       "      <td>10</td>\n",
       "      <td>31.64</td>\n",
       "    </tr>\n",
       "    <tr>\n",
       "      <th>27</th>\n",
       "      <td>apache/dolphinscheduler</td>\n",
       "      <td>679</td>\n",
       "      <td>85</td>\n",
       "      <td>78</td>\n",
       "      <td>102</td>\n",
       "      <td>45</td>\n",
       "      <td>28</td>\n",
       "      <td>306.39</td>\n",
       "      <td>-5</td>\n",
       "      <td>-26.18</td>\n",
       "    </tr>\n",
       "    <tr>\n",
       "      <th>28</th>\n",
       "      <td>apache/iotdb</td>\n",
       "      <td>326</td>\n",
       "      <td>12</td>\n",
       "      <td>349</td>\n",
       "      <td>98</td>\n",
       "      <td>298</td>\n",
       "      <td>29</td>\n",
       "      <td>301.73</td>\n",
       "      <td>11</td>\n",
       "      <td>31.52</td>\n",
       "    </tr>\n",
       "    <tr>\n",
       "      <th>29</th>\n",
       "      <td>apache/echarts</td>\n",
       "      <td>493</td>\n",
       "      <td>115</td>\n",
       "      <td>17</td>\n",
       "      <td>7</td>\n",
       "      <td>6</td>\n",
       "      <td>30</td>\n",
       "      <td>301.22</td>\n",
       "      <td>3</td>\n",
       "      <td>19.61</td>\n",
       "    </tr>\n",
       "    <tr>\n",
       "      <th>30</th>\n",
       "      <td>karmada-io/karmada</td>\n",
       "      <td>884</td>\n",
       "      <td>45</td>\n",
       "      <td>77</td>\n",
       "      <td>436</td>\n",
       "      <td>60</td>\n",
       "      <td>31</td>\n",
       "      <td>296.58</td>\n",
       "      <td>3</td>\n",
       "      <td>15.05</td>\n",
       "    </tr>\n",
       "    <tr>\n",
       "      <th>31</th>\n",
       "      <td>ant-design/pro-components</td>\n",
       "      <td>341</td>\n",
       "      <td>121</td>\n",
       "      <td>14</td>\n",
       "      <td>9</td>\n",
       "      <td>11</td>\n",
       "      <td>32</td>\n",
       "      <td>291.39</td>\n",
       "      <td>-4</td>\n",
       "      <td>-29.46</td>\n",
       "    </tr>\n",
       "    <tr>\n",
       "      <th>32</th>\n",
       "      <td>alibaba/ali-dbhub</td>\n",
       "      <td>161</td>\n",
       "      <td>134</td>\n",
       "      <td>46</td>\n",
       "      <td>0</td>\n",
       "      <td>39</td>\n",
       "      <td>33</td>\n",
       "      <td>290.99</td>\n",
       "      <td>22</td>\n",
       "      <td>88.46</td>\n",
       "    </tr>\n",
       "    <tr>\n",
       "      <th>33</th>\n",
       "      <td>emqx/emqx</td>\n",
       "      <td>448</td>\n",
       "      <td>32</td>\n",
       "      <td>195</td>\n",
       "      <td>363</td>\n",
       "      <td>192</td>\n",
       "      <td>34</td>\n",
       "      <td>286.60</td>\n",
       "      <td>1</td>\n",
       "      <td>5.28</td>\n",
       "    </tr>\n",
       "    <tr>\n",
       "      <th>34</th>\n",
       "      <td>tikv/tikv</td>\n",
       "      <td>920</td>\n",
       "      <td>66</td>\n",
       "      <td>111</td>\n",
       "      <td>241</td>\n",
       "      <td>60</td>\n",
       "      <td>35</td>\n",
       "      <td>285.04</td>\n",
       "      <td>4</td>\n",
       "      <td>12.40</td>\n",
       "    </tr>\n",
       "    <tr>\n",
       "      <th>35</th>\n",
       "      <td>alibaba/nacos</td>\n",
       "      <td>459</td>\n",
       "      <td>85</td>\n",
       "      <td>28</td>\n",
       "      <td>16</td>\n",
       "      <td>18</td>\n",
       "      <td>36</td>\n",
       "      <td>280.67</td>\n",
       "      <td>-12</td>\n",
       "      <td>-51.61</td>\n",
       "    </tr>\n",
       "    <tr>\n",
       "      <th>36</th>\n",
       "      <td>datafuselabs/databend</td>\n",
       "      <td>541</td>\n",
       "      <td>49</td>\n",
       "      <td>214</td>\n",
       "      <td>201</td>\n",
       "      <td>202</td>\n",
       "      <td>37</td>\n",
       "      <td>278.47</td>\n",
       "      <td>-7</td>\n",
       "      <td>-33.24</td>\n",
       "    </tr>\n",
       "    <tr>\n",
       "      <th>37</th>\n",
       "      <td>web-infra-dev/rspack</td>\n",
       "      <td>414</td>\n",
       "      <td>123</td>\n",
       "      <td>144</td>\n",
       "      <td>204</td>\n",
       "      <td>124</td>\n",
       "      <td>38</td>\n",
       "      <td>273.16</td>\n",
       "      <td>-6</td>\n",
       "      <td>-13.81</td>\n",
       "    </tr>\n",
       "    <tr>\n",
       "      <th>38</th>\n",
       "      <td>apache/dubbo</td>\n",
       "      <td>525</td>\n",
       "      <td>68</td>\n",
       "      <td>109</td>\n",
       "      <td>60</td>\n",
       "      <td>99</td>\n",
       "      <td>39</td>\n",
       "      <td>268.74</td>\n",
       "      <td>-8</td>\n",
       "      <td>-42.53</td>\n",
       "    </tr>\n",
       "    <tr>\n",
       "      <th>39</th>\n",
       "      <td>pingcap/tiflash</td>\n",
       "      <td>1269</td>\n",
       "      <td>47</td>\n",
       "      <td>81</td>\n",
       "      <td>392</td>\n",
       "      <td>63</td>\n",
       "      <td>40</td>\n",
       "      <td>252.68</td>\n",
       "      <td>7</td>\n",
       "      <td>24.52</td>\n",
       "    </tr>\n",
       "    <tr>\n",
       "      <th>40</th>\n",
       "      <td>espressif/arduino-esp32</td>\n",
       "      <td>397</td>\n",
       "      <td>45</td>\n",
       "      <td>27</td>\n",
       "      <td>43</td>\n",
       "      <td>11</td>\n",
       "      <td>41</td>\n",
       "      <td>251.46</td>\n",
       "      <td>-26</td>\n",
       "      <td>-121.79</td>\n",
       "    </tr>\n",
       "    <tr>\n",
       "      <th>41</th>\n",
       "      <td>RT-Thread/rt-thread</td>\n",
       "      <td>219</td>\n",
       "      <td>27</td>\n",
       "      <td>143</td>\n",
       "      <td>128</td>\n",
       "      <td>106</td>\n",
       "      <td>42</td>\n",
       "      <td>239.33</td>\n",
       "      <td>0</td>\n",
       "      <td>-10.40</td>\n",
       "    </tr>\n",
       "    <tr>\n",
       "      <th>42</th>\n",
       "      <td>jumpserver/jumpserver</td>\n",
       "      <td>360</td>\n",
       "      <td>96</td>\n",
       "      <td>149</td>\n",
       "      <td>11</td>\n",
       "      <td>145</td>\n",
       "      <td>43</td>\n",
       "      <td>238.83</td>\n",
       "      <td>2</td>\n",
       "      <td>3.99</td>\n",
       "    </tr>\n",
       "    <tr>\n",
       "      <th>43</th>\n",
       "      <td>apache/inlong</td>\n",
       "      <td>96</td>\n",
       "      <td>123</td>\n",
       "      <td>114</td>\n",
       "      <td>330</td>\n",
       "      <td>99</td>\n",
       "      <td>44</td>\n",
       "      <td>238.26</td>\n",
       "      <td>15</td>\n",
       "      <td>48.04</td>\n",
       "    </tr>\n",
       "    <tr>\n",
       "      <th>44</th>\n",
       "      <td>goharbor/harbor</td>\n",
       "      <td>378</td>\n",
       "      <td>53</td>\n",
       "      <td>36</td>\n",
       "      <td>24</td>\n",
       "      <td>24</td>\n",
       "      <td>45</td>\n",
       "      <td>236.34</td>\n",
       "      <td>-9</td>\n",
       "      <td>-44.10</td>\n",
       "    </tr>\n",
       "    <tr>\n",
       "      <th>45</th>\n",
       "      <td>k3s-io/k3s</td>\n",
       "      <td>360</td>\n",
       "      <td>79</td>\n",
       "      <td>57</td>\n",
       "      <td>80</td>\n",
       "      <td>45</td>\n",
       "      <td>46</td>\n",
       "      <td>219.63</td>\n",
       "      <td>-3</td>\n",
       "      <td>-27.54</td>\n",
       "    </tr>\n",
       "    <tr>\n",
       "      <th>46</th>\n",
       "      <td>pingcap/tiflow</td>\n",
       "      <td>2252</td>\n",
       "      <td>66</td>\n",
       "      <td>127</td>\n",
       "      <td>59</td>\n",
       "      <td>80</td>\n",
       "      <td>47</td>\n",
       "      <td>218.61</td>\n",
       "      <td>-1</td>\n",
       "      <td>-9.77</td>\n",
       "    </tr>\n",
       "    <tr>\n",
       "      <th>47</th>\n",
       "      <td>umijs/umi</td>\n",
       "      <td>262</td>\n",
       "      <td>59</td>\n",
       "      <td>31</td>\n",
       "      <td>85</td>\n",
       "      <td>23</td>\n",
       "      <td>48</td>\n",
       "      <td>218.48</td>\n",
       "      <td>-4</td>\n",
       "      <td>-19.47</td>\n",
       "    </tr>\n",
       "    <tr>\n",
       "      <th>48</th>\n",
       "      <td>bytebase/bytebase</td>\n",
       "      <td>361</td>\n",
       "      <td>17</td>\n",
       "      <td>468</td>\n",
       "      <td>80</td>\n",
       "      <td>449</td>\n",
       "      <td>49</td>\n",
       "      <td>216.59</td>\n",
       "      <td>0</td>\n",
       "      <td>-0.38</td>\n",
       "    </tr>\n",
       "    <tr>\n",
       "      <th>49</th>\n",
       "      <td>PaddlePaddle/docs</td>\n",
       "      <td>162</td>\n",
       "      <td>1</td>\n",
       "      <td>69</td>\n",
       "      <td>432</td>\n",
       "      <td>36</td>\n",
       "      <td>50</td>\n",
       "      <td>204.78</td>\n",
       "      <td>4</td>\n",
       "      <td>-0.81</td>\n",
       "    </tr>\n",
       "  </tbody>\n",
       "</table>\n",
       "</div>"
      ],
      "text/plain": [
       "                               name  issue_comment  open_issue  open_pull  \\\n",
       "0               PaddlePaddle/Paddle           1707         136        592   \n",
       "1                      apache/doris           5408         111        851   \n",
       "2               StarRocks/starrocks           4222         137       1515   \n",
       "3                      pingcap/tidb          10034         227        497   \n",
       "4             ant-design/ant-design           1910         169        240   \n",
       "5                 espressif/esp-idf           1184         182         19   \n",
       "6                  milvus-io/milvus           4242         236        345   \n",
       "7                      apache/flink            788           0        204   \n",
       "8                   pingcap/docs-cn           1305          10        259   \n",
       "9                     apache/pulsar            665          55        136   \n",
       "10                     apache/ozone            458           0        171   \n",
       "11           PaddlePaddle/PaddleOCR            884         155         19   \n",
       "12            apache/shardingsphere            565         236        461   \n",
       "13                     pingcap/docs           1636           4        310   \n",
       "14           matrixorigin/matrixone           1412         187        318   \n",
       "15  kata-containers/kata-containers            564         102         88   \n",
       "16           PaddlePaddle/PaddleNLP            494          99        102   \n",
       "17                    apache/apisix            644         100         52   \n",
       "18         open-mmlab/OpenMMLabCamp            651          77          3   \n",
       "19                taosdata/TDengine            182          69        268   \n",
       "20          metersphere/metersphere           1026         184        368   \n",
       "21                      NervJS/taro            406         100         37   \n",
       "22                1Panel-dev/1Panel            941         146        120   \n",
       "23           open-mmlab/mmdetection            271          88         51   \n",
       "24                       apache/tvm            420          28        135   \n",
       "25                       baidu/amis            484         119        135   \n",
       "26                  Alluxio/alluxio            659          28        152   \n",
       "27          apache/dolphinscheduler            679          85         78   \n",
       "28                     apache/iotdb            326          12        349   \n",
       "29                   apache/echarts            493         115         17   \n",
       "30               karmada-io/karmada            884          45         77   \n",
       "31        ant-design/pro-components            341         121         14   \n",
       "32                alibaba/ali-dbhub            161         134         46   \n",
       "33                        emqx/emqx            448          32        195   \n",
       "34                        tikv/tikv            920          66        111   \n",
       "35                    alibaba/nacos            459          85         28   \n",
       "36            datafuselabs/databend            541          49        214   \n",
       "37             web-infra-dev/rspack            414         123        144   \n",
       "38                     apache/dubbo            525          68        109   \n",
       "39                  pingcap/tiflash           1269          47         81   \n",
       "40          espressif/arduino-esp32            397          45         27   \n",
       "41              RT-Thread/rt-thread            219          27        143   \n",
       "42            jumpserver/jumpserver            360          96        149   \n",
       "43                    apache/inlong             96         123        114   \n",
       "44                  goharbor/harbor            378          53         36   \n",
       "45                       k3s-io/k3s            360          79         57   \n",
       "46                   pingcap/tiflow           2252          66        127   \n",
       "47                        umijs/umi            262          59         31   \n",
       "48                bytebase/bytebase            361          17        468   \n",
       "49                PaddlePaddle/docs            162           1         69   \n",
       "\n",
       "    review_comment  merged_pull  rank    value  rankDelta  valueDelta  \n",
       "0              880          432     1  1184.93          0      -95.69  \n",
       "1              602          722     2  1133.22          0      -63.34  \n",
       "2             1024         1225     3   948.79          1      -42.05  \n",
       "3              748          378     4   844.19          1       77.23  \n",
       "4              565          216     5   837.96         -2     -175.67  \n",
       "5               17            7     6   686.66          0       -1.48  \n",
       "6              127          254     7   659.52          0       33.82  \n",
       "7             1075          135     8   632.48          0      138.08  \n",
       "8             1150          209     9   478.29         13      141.57  \n",
       "9              604          111    10   431.60          7       68.11  \n",
       "10             981          168    11   431.24          0       32.31  \n",
       "11               3           13    12   421.64         -3        4.03  \n",
       "12              59          425    13   411.39          7       59.39  \n",
       "13             872          224    14   408.29         11       79.97  \n",
       "14             119          292    15   375.27          1        7.43  \n",
       "15             445           62    16   373.05         -4      -25.11  \n",
       "16             191           76    17   366.78         -7      -36.58  \n",
       "17             185           34    18   358.68          1       -0.64  \n",
       "18               0            2    19   352.49        500      337.64  \n",
       "19              66          233    20   348.13         -2      -14.02  \n",
       "20              42          339    21   347.77          6       25.99  \n",
       "21              28           32    22   332.47          7       14.55  \n",
       "22               6          121    23   325.19         -9      -48.82  \n",
       "23              83           45    24   322.98          2       -4.57  \n",
       "24             241          139    25   320.98        -12      -61.08  \n",
       "25              46          122    26   316.23         -5      -34.92  \n",
       "26             340          131    27   309.96         10       31.64  \n",
       "27             102           45    28   306.39         -5      -26.18  \n",
       "28              98          298    29   301.73         11       31.52  \n",
       "29               7            6    30   301.22          3       19.61  \n",
       "30             436           60    31   296.58          3       15.05  \n",
       "31               9           11    32   291.39         -4      -29.46  \n",
       "32               0           39    33   290.99         22       88.46  \n",
       "33             363          192    34   286.60          1        5.28  \n",
       "34             241           60    35   285.04          4       12.40  \n",
       "35              16           18    36   280.67        -12      -51.61  \n",
       "36             201          202    37   278.47         -7      -33.24  \n",
       "37             204          124    38   273.16         -6      -13.81  \n",
       "38              60           99    39   268.74         -8      -42.53  \n",
       "39             392           63    40   252.68          7       24.52  \n",
       "40              43           11    41   251.46        -26     -121.79  \n",
       "41             128          106    42   239.33          0      -10.40  \n",
       "42              11          145    43   238.83          2        3.99  \n",
       "43             330           99    44   238.26         15       48.04  \n",
       "44              24           24    45   236.34         -9      -44.10  \n",
       "45              80           45    46   219.63         -3      -27.54  \n",
       "46              59           80    47   218.61         -1       -9.77  \n",
       "47              85           23    48   218.48         -4      -19.47  \n",
       "48              80          449    49   216.59          0       -0.38  \n",
       "49             432           36    50   204.78          4       -0.81  "
      ]
     },
     "execution_count": 193,
     "metadata": {},
     "output_type": "execute_result"
    }
   ],
   "source": [
    "import pandas as pd\n",
    "\n",
    "df = pd.read_csv('./data/2023_6/activity_20236.csv')\n",
    "\n",
    "df\n"
   ]
  },
  {
   "cell_type": "markdown",
   "metadata": {},
   "source": [
    "美国排名前 100 项目的 OpenRank 值，最大的是多少、最小的是多少、均值多少、中位数多少？"
   ]
  },
  {
   "cell_type": "code",
   "execution_count": 194,
   "metadata": {},
   "outputs": [
    {
     "data": {
      "text/html": [
       "<div>\n",
       "<style scoped>\n",
       "    .dataframe tbody tr th:only-of-type {\n",
       "        vertical-align: middle;\n",
       "    }\n",
       "\n",
       "    .dataframe tbody tr th {\n",
       "        vertical-align: top;\n",
       "    }\n",
       "\n",
       "    .dataframe thead th {\n",
       "        text-align: right;\n",
       "    }\n",
       "</style>\n",
       "<table border=\"1\" class=\"dataframe\">\n",
       "  <thead>\n",
       "    <tr style=\"text-align: right;\">\n",
       "      <th></th>\n",
       "      <th>item</th>\n",
       "      <th>rank</th>\n",
       "      <th>value</th>\n",
       "      <th>rankDelta</th>\n",
       "      <th>valueDelta</th>\n",
       "    </tr>\n",
       "  </thead>\n",
       "  <tbody>\n",
       "    <tr>\n",
       "      <th>0</th>\n",
       "      <td>home-assistant/core</td>\n",
       "      <td>1</td>\n",
       "      <td>1394.45</td>\n",
       "      <td>0</td>\n",
       "      <td>-23.01</td>\n",
       "    </tr>\n",
       "    <tr>\n",
       "      <th>1</th>\n",
       "      <td>microsoft/vscode</td>\n",
       "      <td>2</td>\n",
       "      <td>1334.48</td>\n",
       "      <td>0</td>\n",
       "      <td>-36.42</td>\n",
       "    </tr>\n",
       "    <tr>\n",
       "      <th>2</th>\n",
       "      <td>NixOS/nixpkgs</td>\n",
       "      <td>3</td>\n",
       "      <td>1240.31</td>\n",
       "      <td>0</td>\n",
       "      <td>-0.31</td>\n",
       "    </tr>\n",
       "    <tr>\n",
       "      <th>3</th>\n",
       "      <td>flutter/flutter</td>\n",
       "      <td>4</td>\n",
       "      <td>886.61</td>\n",
       "      <td>0</td>\n",
       "      <td>-13.74</td>\n",
       "    </tr>\n",
       "    <tr>\n",
       "      <th>4</th>\n",
       "      <td>pytorch/pytorch</td>\n",
       "      <td>5</td>\n",
       "      <td>803.78</td>\n",
       "      <td>1</td>\n",
       "      <td>8.29</td>\n",
       "    </tr>\n",
       "    <tr>\n",
       "      <th>...</th>\n",
       "      <td>...</td>\n",
       "      <td>...</td>\n",
       "      <td>...</td>\n",
       "      <td>...</td>\n",
       "      <td>...</td>\n",
       "    </tr>\n",
       "    <tr>\n",
       "      <th>95</th>\n",
       "      <td>openjdk/jdk</td>\n",
       "      <td>96</td>\n",
       "      <td>201.58</td>\n",
       "      <td>4</td>\n",
       "      <td>-3.69</td>\n",
       "    </tr>\n",
       "    <tr>\n",
       "      <th>96</th>\n",
       "      <td>PrestaShop/PrestaShop</td>\n",
       "      <td>97</td>\n",
       "      <td>201.33</td>\n",
       "      <td>-15</td>\n",
       "      <td>-16.15</td>\n",
       "    </tr>\n",
       "    <tr>\n",
       "      <th>97</th>\n",
       "      <td>WebKit/WebKit</td>\n",
       "      <td>98</td>\n",
       "      <td>200.93</td>\n",
       "      <td>3</td>\n",
       "      <td>-3.37</td>\n",
       "    </tr>\n",
       "    <tr>\n",
       "      <th>98</th>\n",
       "      <td>strapi/strapi</td>\n",
       "      <td>99</td>\n",
       "      <td>200.71</td>\n",
       "      <td>29</td>\n",
       "      <td>19.04</td>\n",
       "    </tr>\n",
       "    <tr>\n",
       "      <th>99</th>\n",
       "      <td>JetBrains/swot</td>\n",
       "      <td>100</td>\n",
       "      <td>200.68</td>\n",
       "      <td>-14</td>\n",
       "      <td>-14.29</td>\n",
       "    </tr>\n",
       "  </tbody>\n",
       "</table>\n",
       "<p>100 rows × 5 columns</p>\n",
       "</div>"
      ],
      "text/plain": [
       "                     item  rank    value  rankDelta  valueDelta\n",
       "0     home-assistant/core     1  1394.45          0      -23.01\n",
       "1        microsoft/vscode     2  1334.48          0      -36.42\n",
       "2           NixOS/nixpkgs     3  1240.31          0       -0.31\n",
       "3         flutter/flutter     4   886.61          0      -13.74\n",
       "4         pytorch/pytorch     5   803.78          1        8.29\n",
       "..                    ...   ...      ...        ...         ...\n",
       "95            openjdk/jdk    96   201.58          4       -3.69\n",
       "96  PrestaShop/PrestaShop    97   201.33        -15      -16.15\n",
       "97          WebKit/WebKit    98   200.93          3       -3.37\n",
       "98          strapi/strapi    99   200.71         29       19.04\n",
       "99         JetBrains/swot   100   200.68        -14      -14.29\n",
       "\n",
       "[100 rows x 5 columns]"
      ]
     },
     "execution_count": 194,
     "metadata": {},
     "output_type": "execute_result"
    }
   ],
   "source": [
    "import pandas as pd\n",
    "\n",
    "df = pd.read_csv('./data/2023_6/open_rank_20236.csv')\n",
    "\n",
    "df"
   ]
  },
  {
   "cell_type": "code",
   "execution_count": 195,
   "metadata": {},
   "outputs": [
    {
     "name": "stdout",
     "output_type": "stream",
     "text": [
      "最大值 1394.45\n"
     ]
    }
   ],
   "source": [
    "# openrank 最大值\n",
    "max_openrank = df['value'].max()\n",
    "\n",
    "print('最大值', max_openrank)"
   ]
  },
  {
   "cell_type": "code",
   "execution_count": 196,
   "metadata": {},
   "outputs": [
    {
     "name": "stdout",
     "output_type": "stream",
     "text": [
      "最小值 200.68\n"
     ]
    }
   ],
   "source": [
    "# openrank 最小值\n",
    "min_openrank = df['value'].min()\n",
    "\n",
    "print('最小值', min_openrank)"
   ]
  },
  {
   "cell_type": "code",
   "execution_count": 197,
   "metadata": {},
   "outputs": [
    {
     "name": "stdout",
     "output_type": "stream",
     "text": [
      "平均值 346.9679\n"
     ]
    }
   ],
   "source": [
    "# openrank 平均值\n",
    "mean_openrank = df['value'].mean()\n",
    "\n",
    "print('平均值', mean_openrank)"
   ]
  },
  {
   "cell_type": "code",
   "execution_count": 198,
   "metadata": {},
   "outputs": [
    {
     "name": "stdout",
     "output_type": "stream",
     "text": [
      "中位数 273.66999999999996\n"
     ]
    }
   ],
   "source": [
    "# openrank 中位数\n",
    "median_openrank = df['value'].median()\n",
    "\n",
    "print('中位数', median_openrank)"
   ]
  },
  {
   "cell_type": "markdown",
   "metadata": {},
   "source": [
    "以 2022 年一整年的数据为例：\n",
    "- 美国排名前十的项目活跃度与影响力平均增长率多少？\n",
    "- 中美排名前十的企业，总体活跃度和影响力差距是多大？"
   ]
  },
  {
   "cell_type": "markdown",
   "metadata": {},
   "source": [
    "美国排名前十的项目活跃度与影响力平均增长率多少？"
   ]
  },
  {
   "cell_type": "code",
   "execution_count": 199,
   "metadata": {},
   "outputs": [
    {
     "data": {
      "text/plain": [
       "repo\n",
       "MicrosoftDocs/azure-docs                  -1.792781\n",
       "NixOS/nixpkgs                              0.029453\n",
       "dotnet/runtime                            -2.284829\n",
       "elastic/kibana                            -0.365071\n",
       "firstcontributions/first-contributions    14.082374\n",
       "flutter/flutter                           -1.240426\n",
       "home-assistant/core                        0.845268\n",
       "microsoft/vscode                           2.290469\n",
       "pytorch/pytorch                            1.316038\n",
       "rust-lang/rust                            -0.377805\n",
       "Name: avg_growth_rate, dtype: float64"
      ]
     },
     "execution_count": 199,
     "metadata": {},
     "output_type": "execute_result"
    }
   ],
   "source": [
    "import pandas as pd\n",
    "\n",
    "# 读取 CSV 文件\n",
    "df = pd.read_csv('./data/2022/activity_2022.csv')\n",
    "\n",
    "# 设置 'repo' 列为索引\n",
    "df.set_index('repo', inplace=True)\n",
    "\n",
    "# 计算每个 repo 的平均增长率\n",
    "avg_growth_rate = df.pct_change(axis=1).mean(axis=1) * 100\n",
    "\n",
    "# 将平均增长率添加为新的一列\n",
    "df['avg_growth_rate'] = avg_growth_rate\n",
    "\n",
    "# 显示平均增长率\n",
    "df['avg_growth_rate']"
   ]
  },
  {
   "cell_type": "markdown",
   "metadata": {},
   "source": [
    "中美排名前十的企业，总体活跃度和影响力差距是多大？"
   ]
  },
  {
   "cell_type": "code",
   "execution_count": 200,
   "metadata": {},
   "outputs": [
    {
     "name": "stdout",
     "output_type": "stream",
     "text": [
      "中国平均值: 40269.534\n",
      "美国平均值: 215855.491\n",
      "中国最大值: 103368.49\n",
      "美国最大值: 824848.67\n",
      "中国最小值: 12033.71\n",
      "美国最小值: 71636.82\n",
      "中国中位数: 29789.235\n",
      "美国中位数: 102790.85\n",
      "中国求和: 402695.34\n",
      "美国求和: 2158554.91\n"
     ]
    }
   ],
   "source": [
    "import pandas as pd\n",
    "\n",
    "# 读取 CSV 文件\n",
    "china_df = pd.read_csv('./data/2022/china_2022.csv')\n",
    "global_df = pd.read_csv('./data/2022/global_2022.csv')\n",
    "\n",
    "# 设置 'repo' 列为索引\n",
    "china_df.set_index('name', inplace=True)\n",
    "global_df.set_index('name', inplace=True)\n",
    "\n",
    "# 计算value的平均值\n",
    "china_avg_value = china_df['value'].mean()\n",
    "global_avg_value = global_df['value'].mean()\n",
    "\n",
    "# 计算value的最大值\n",
    "china_max_value = china_df['value'].max()\n",
    "global_max_value = global_df['value'].max()\n",
    "\n",
    "# 计算value的最小值\n",
    "china_min_value = china_df['value'].min()\n",
    "global_min_value = global_df['value'].min()\n",
    "\n",
    "# 计算value的中位数\n",
    "china_median_value = china_df['value'].median()\n",
    "global_median_value = global_df['value'].median()\n",
    "\n",
    "# 计算value求和\n",
    "china_sum_value = china_df['value'].sum()\n",
    "global_sum_value = global_df['value'].sum()\n",
    "\n",
    "# 比较两者各数据差异\n",
    "print('中国平均值:', china_avg_value)\n",
    "print('美国平均值:', global_avg_value)\n",
    "print('中国最大值:', china_max_value)\n",
    "print('美国最大值:', global_max_value)\n",
    "print('中国最小值:', china_min_value)\n",
    "print('美国最小值:', global_min_value)\n",
    "print('中国中位数:', china_median_value)\n",
    "print('美国中位数:', global_median_value)\n",
    "print('中国求和:', china_sum_value)\n",
    "print('美国求和:', global_sum_value)"
   ]
  },
  {
   "cell_type": "markdown",
   "metadata": {},
   "source": [
    "## 概率"
   ]
  },
  {
   "cell_type": "markdown",
   "metadata": {},
   "source": [
    "scipy.stats 包含大多数常见概率分布的概率密度函数和累计分布函数。\n",
    "\n",
    "```bash\n",
    "pip install scipy\n",
    "```"
   ]
  },
  {
   "cell_type": "markdown",
   "metadata": {},
   "source": [
    "### 正态分布"
   ]
  },
  {
   "cell_type": "markdown",
   "metadata": {},
   "source": [
    "scipy.stats 模块提供了用于处理统计分布的功能，包括正态分布。可以使用 scipy.stats.norm 类来表示正态分布。"
   ]
  },
  {
   "cell_type": "code",
   "execution_count": 201,
   "metadata": {},
   "outputs": [
    {
     "data": {
      "image/png": "[encoded data removed]",
      "text/plain": [
       "<Figure size 640x480 with 1 Axes>"
      ]
     },
     "metadata": {},
     "output_type": "display_data"
    }
   ],
   "source": [
    "import numpy as np\n",
    "import matplotlib.pyplot as plt\n",
    "from scipy.stats import norm\n",
    "\n",
    "plt.rcParams['font.sans-serif'] = ['Arial']\n",
    "plt.rcParams['axes.unicode_minus'] = False\n",
    "\n",
    "# 设定均值和标准差\n",
    "mu = 0\n",
    "sigma = 1\n",
    "\n",
    "# 创建正态分布对象\n",
    "normal_dist = norm(loc=mu, scale=sigma)\n",
    "\n",
    "# 生成随机样本\n",
    "random_samples = normal_dist.rvs(size=1000)\n",
    "\n",
    "# 计算概率密度函数（PDF）\n",
    "x = np.linspace(-5, 5, 100)\n",
    "pdf_values = normal_dist.pdf(x)\n",
    "\n",
    "# 绘制正态分布的概率密度函数\n",
    "plt.plot(x, pdf_values, label='Normal Distribution PDF')\n",
    "plt.hist(random_samples, bins=30, density=True,\n",
    "         alpha=0.5, label='Histogram of Random Samples')\n",
    "\n",
    "plt.title('Normal Distribution Example')\n",
    "plt.xlabel('Variable Value')\n",
    "plt.ylabel('Probability Density')\n",
    "plt.legend()\n",
    "plt.show()"
   ]
  },
  {
   "cell_type": "markdown",
   "metadata": {},
   "source": [
    "### 贝叶斯定理练习"
   ]
  },
  {
   "cell_type": "markdown",
   "metadata": {},
   "source": [
    "根据 OpenLeaderboard 上对前 10000 个活跃的项目统计，工具组件型项目占比 **50 %**，系统应用型占比 **25 %**，而内容资源型（非软件类）项目占比 **25 %**，成三分天下的态势。\n",
    "\n",
    "- 非软件类项目中，带有 HTML/Markdown 标签的项目占 **85 %**，而软件类项目中带 HTML/Markdown标签的项目占比则为 **10 %**（注：HTML/Markdown 一般可用来书写文档内容）\n",
    "\n",
    "- 工具组件型项目中，JavaScript 语言的项目占比 **35 %**，而非工具组件型项目中， JavaScript 语言的项目占比则为 **10 %**（注：JavaScript 是一种脚本编程语言，可以在网页上实现复杂的功能）"
   ]
  },
  {
   "cell_type": "markdown",
   "metadata": {},
   "source": [
    "已知一个项目带有 HTML/Markdown 标签，那么该项目是非软件型项目的概率是多少？"
   ]
  },
  {
   "cell_type": "code",
   "execution_count": 202,
   "metadata": {},
   "outputs": [
    {
     "name": "stdout",
     "output_type": "stream",
     "text": [
      "项目包含HTML/Markdown的情况下，项目是非软件类的概率是: 0.7391304347826088\n"
     ]
    }
   ],
   "source": [
    "# 项目是软件类的概率是0.75\n",
    "p_software = 0.75\n",
    "\n",
    "# 项目是非软件类概率是0.25\n",
    "p_non_software = 0.25\n",
    "\n",
    "# 项目是软件类的情况下，项目包含HTML/Markdown的概率是0.1\n",
    "p_html_given_software = 0.1\n",
    "\n",
    "# 项目是非软件类的情况下，项目包含HTML/Markdown的概率是0.85\n",
    "p_html_given_non_software = 0.85\n",
    "\n",
    "# 贝叶斯定理 P(A|B) = P(B|A) * P(A) / P(B)\n",
    "p_non_software_given_html = p_html_given_non_software * p_non_software / (p_html_given_software * p_software + p_html_given_non_software * p_non_software)\n",
    "\n",
    "print('项目包含HTML/Markdown的情况下，项目是非软件类的概率是:', p_non_software_given_html)"
   ]
  },
  {
   "cell_type": "markdown",
   "metadata": {},
   "source": [
    "已知一个项目是由 JavaScript 语言编写的，那么它是工具组件型项目的概率是多少？"
   ]
  },
  {
   "cell_type": "code",
   "execution_count": 203,
   "metadata": {},
   "outputs": [
    {
     "name": "stdout",
     "output_type": "stream",
     "text": [
      "由JavaScript编写的情况下，项目是工具组件型的概率是: 0.7777777777777778\n"
     ]
    }
   ],
   "source": [
    "# 项目是工具组件型的概率是0.5\n",
    "p_toolkit = 0.5\n",
    "\n",
    "# 项目是非工具组件型的概率是0.5\n",
    "p_non_toolkit = 0.5\n",
    "\n",
    "# 项目是工具组件型的情况下，由JavaScript编写的概率是0.35\n",
    "p_javascript_given_toolkit = 0.35\n",
    "\n",
    "# 项目是非工具组件型的情况下，由JavaScript编写的概率是0.1\n",
    "p_javascript_given_non_toolkit = 0.1\n",
    "\n",
    "# 贝叶斯定理 P(A|B) = P(B|A) * P(A) / P(B)\n",
    "p_toolkit_given_javascript = p_javascript_given_toolkit * p_toolkit / (p_javascript_given_toolkit * p_toolkit + p_javascript_given_non_toolkit * p_non_toolkit)\n",
    "\n",
    "print('由JavaScript编写的情况下，项目是工具组件型的概率是:', p_toolkit_given_javascript)\n"
   ]
  },
  {
   "cell_type": "markdown",
   "metadata": {},
   "source": [
    "## 假设和推论"
   ]
  },
  {
   "cell_type": "markdown",
   "metadata": {},
   "source": [
    "### 案例：掷硬币"
   ]
  },
  {
   "cell_type": "markdown",
   "metadata": {},
   "source": [
    "#### 1.模拟硬币投掷实验"
   ]
  },
  {
   "cell_type": "code",
   "execution_count": 204,
   "metadata": {},
   "outputs": [],
   "source": [
    "import numpy as np\n",
    "\n",
    "\n",
    "def coin_toss_experiment(num_tosses, p=0.5):\n",
    "    \"\"\"\n",
    "    模拟硬币投掷实验\n",
    "\n",
    "    参数：\n",
    "    - num_tosses: 投掷次数\n",
    "    - p: 正面朝上的概率，默认为 0.5\n",
    "\n",
    "    返回：\n",
    "    - 一个包含硬币投掷结果的数组，1 表示正面朝上，0 表示反面朝上\n",
    "    \"\"\"\n",
    "    tosses = np.random.choice([1, 0], size=num_tosses, p=[p, 1-p])\n",
    "    return tosses"
   ]
  },
  {
   "cell_type": "markdown",
   "metadata": {},
   "source": [
    "#### 2.二项分布假设检验"
   ]
  },
  {
   "cell_type": "code",
   "execution_count": 205,
   "metadata": {},
   "outputs": [],
   "source": [
    "from scipy.stats import binom\n",
    "\n",
    "\n",
    "def binom_test(data, p=0.5):\n",
    "    \"\"\"\n",
    "    二项分布假设检验\n",
    "\n",
    "    参数：\n",
    "    - data: 包含硬币投掷结果的数组，1 表示正面朝上，0 表示反面朝上\n",
    "    - p: 零假设中正面朝上的概率，默认为 0.5\n",
    "\n",
    "    返回：\n",
    "    - p 值\n",
    "    \"\"\"\n",
    "    n = len(data)\n",
    "    x = np.sum(data)\n",
    "    p_value = binom.cdf(x, n, p) + binom.sf(x-1, n, p)\n",
    "    return min(p_value, 1-p_value) * 2  # 双侧检验，计算两倍的概率"
   ]
  },
  {
   "cell_type": "markdown",
   "metadata": {},
   "source": [
    "- 这个函数使用 scipy.stats.binom 模块来进行二项分布假设检验。binom.cdf 计算累积分布函数，binom.sf 计算剩余函数（1 减去累积分布函数）。\n",
    "- 函数返回的是双侧检验的 p 值，用于判断正面朝上的概率是否与零假设相符。"
   ]
  },
  {
   "cell_type": "markdown",
   "metadata": {},
   "source": [
    "#### 3.假设检验函数"
   ]
  },
  {
   "cell_type": "code",
   "execution_count": 206,
   "metadata": {},
   "outputs": [],
   "source": [
    "def hypothesis_test(tosses):\n",
    "    \"\"\"\n",
    "    假设检验函数\n",
    "\n",
    "    参数：\n",
    "    - tosses: 包含硬币投掷结果的数组，1 表示正面朝上，0 表示反面朝上\n",
    "\n",
    "    返回：\n",
    "    - p 值\n",
    "    \"\"\"\n",
    "    p_value = binom_test(tosses)\n",
    "    return p_value"
   ]
  },
  {
   "cell_type": "markdown",
   "metadata": {},
   "source": [
    "#### 4.实验和结果打印"
   ]
  },
  {
   "cell_type": "code",
   "execution_count": 207,
   "metadata": {},
   "outputs": [
    {
     "name": "stdout",
     "output_type": "stream",
     "text": [
      "实验结果：[1 0 0 0 1 1 1 0 0 0 1 0 0 1 1 1 1 0 1 1 0 1 1 1 1 0 1 0 0 1 0 1 1 0 0 0 1\n",
      " 1 0 1 1 1 1 0 1 0 1 0 0 1 0 0 0 0 0 0 1 1 1 1 1 1 0 1 1 0 1 0 1 0 0 1 1 0\n",
      " 0 0 0 1 1 1 0 0 1 1 1 1 0 0 0 1 1 0 0 0 0 1 0 1 1 1]\n",
      "假设检验 p 值：-0.13318099998196065\n"
     ]
    }
   ],
   "source": [
    "# 进行实验\n",
    "np.random.seed(42)  # 设置随机种子以确保实验结果可重复\n",
    "num_tosses = 100\n",
    "tosses = coin_toss_experiment(num_tosses)\n",
    "\n",
    "# 进行假设检验\n",
    "p_value = hypothesis_test(tosses)\n",
    "\n",
    "# 打印结果\n",
    "print(f\"实验结果：{tosses}\")\n",
    "print(f\"假设检验 p 值：{p_value}\")"
   ]
  },
  {
   "cell_type": "markdown",
   "metadata": {},
   "source": [
    "#### 5.绘制硬币投掷结果直方图"
   ]
  },
  {
   "cell_type": "code",
   "execution_count": 208,
   "metadata": {},
   "outputs": [
    {
     "data": {
      "image/png": "[encoded data removed]",
      "text/plain": [
       "<Figure size 640x480 with 1 Axes>"
      ]
     },
     "metadata": {},
     "output_type": "display_data"
    }
   ],
   "source": [
    "import matplotlib.pyplot as plt\n",
    "\n",
    "# 绘制硬币投掷结果的直方图\n",
    "plt.bar([0, 1], [np.sum(tosses == 0), np.sum(tosses == 1)],\n",
    "        tick_label=['Tails', 'Heads'])\n",
    "plt.title('Histogram of Coin Toss Results')\n",
    "plt.xlabel('Side of the Coin Facing Up')\n",
    "plt.ylabel('Frequency')\n",
    "plt.show()"
   ]
  },
  {
   "cell_type": "markdown",
   "metadata": {},
   "source": [
    "## 图网络分析"
   ]
  },
  {
   "cell_type": "markdown",
   "metadata": {},
   "source": [
    "### PageRank实例"
   ]
  },
  {
   "cell_type": "markdown",
   "metadata": {},
   "source": [
    "#### 初始数据"
   ]
  },
  {
   "cell_type": "markdown",
   "metadata": {},
   "source": [
    "```python\n",
    "users = [0, 1, 2, 3, 4, 5, 6, 7, 8, 9]\n",
    "endorsements = [(0, 1), (1, 0), (0, 2), (2, 0), (1, 2),\n",
    "                (2, 1), (1, 3), (2, 3), (3, 4), (5, 4),\n",
    "                (5, 6), (7, 5), (6, 8), (8, 7), (8, 9)]\n",
    "```\n",
    "\n",
    "认可（endorse）的信息是一个元组(source,target)，是有方向的，即开源爱好者source认可另外一个爱好者target。"
   ]
  },
  {
   "cell_type": "markdown",
   "metadata": {},
   "source": [
    "![image](https://github.com/hypertrons/hypertrons-crx/assets/50283262/6fe4cf42-aa38-44bd-80ee-c5f2e4fa0e5d)\n"
   ]
  },
  {
   "cell_type": "markdown",
   "metadata": {},
   "source": [
    "#### NetworkX"
   ]
  },
  {
   "cell_type": "markdown",
   "metadata": {},
   "source": [
    "```bash\n",
    "pip install NetworkX\n",
    "```\n",
    "NetworkX 是一个用于创建、分析和可视化复杂网络结构的 Python 库。"
   ]
  },
  {
   "cell_type": "code",
   "execution_count": 209,
   "metadata": {},
   "outputs": [
    {
     "data": {
      "image/png": "[encoded data removed]",
      "text/plain": [
       "<Figure size 640x480 with 1 Axes>"
      ]
     },
     "metadata": {},
     "output_type": "display_data"
    }
   ],
   "source": [
    "import networkx as nx\n",
    "import matplotlib.pyplot as plt\n",
    "\n",
    "# 创建一个无向图\n",
    "G = nx.Graph()\n",
    "\n",
    "# 添加节点\n",
    "G.add_nodes_from([1, 2, 3, 4])\n",
    "\n",
    "# 添加边\n",
    "G.add_edges_from([(1, 2), (2, 3), (3, 4), (4, 1)])\n",
    "\n",
    "# 绘制图形\n",
    "pos = nx.spring_layout(G)  # 使用 Spring layout 算法布局节点\n",
    "nx.draw(G, pos, with_labels=True, node_size=700, node_color='skyblue', font_size=10,\n",
    "        font_color='black', font_weight='bold', edge_color='gray', linewidths=1, alpha=0.7)\n",
    "\n",
    "# 显示图形\n",
    "plt.show()"
   ]
  },
  {
   "cell_type": "markdown",
   "metadata": {},
   "source": [
    "#### 构建开源爱好者认可网络"
   ]
  },
  {
   "cell_type": "markdown",
   "metadata": {},
   "source": [
    "通过nx.DiGraph()构建有向图"
   ]
  },
  {
   "cell_type": "code",
   "execution_count": 210,
   "metadata": {},
   "outputs": [
    {
     "data": {
      "image/png": "[encoded data removed]",
      "text/plain": [
       "<Figure size 640x480 with 1 Axes>"
      ]
     },
     "metadata": {},
     "output_type": "display_data"
    }
   ],
   "source": [
    "import networkx as nx\n",
    "import matplotlib.pyplot as plt\n",
    "\n",
    "users = [0, 1, 2, 3, 4, 5, 6, 7, 8, 9]\n",
    "endorsements = [(0, 1), (1, 0), (0, 2), (2, 0), (1, 2),\n",
    "                (2, 1), (1, 3), (2, 3), (3, 4), (5, 4),\n",
    "                (5, 6), (7, 5), (6, 8), (8, 7), (8, 9)]\n",
    "\n",
    "# 创建一个有向图\n",
    "G = nx.DiGraph()\n",
    "\n",
    "# 添加节点\n",
    "G.add_nodes_from(users)\n",
    "\n",
    "# 添加有向边\n",
    "G.add_edges_from(endorsements)\n",
    "\n",
    "# 绘制图形\n",
    "pos = nx.circular_layout(G)\n",
    "nx.draw(G, pos, with_labels=True, node_color='skyblue', font_size=12, font_color='black',\n",
    "        font_weight='bold', edge_color='gray', linewidths=1, alpha=0.7, arrowsize=20, connectionstyle='arc3,rad=0.1')\n",
    "\n",
    "# 添加标题\n",
    "plt.title('Open Source Endorsement Network')\n",
    "\n",
    "# 显示图形\n",
    "plt.show()"
   ]
  },
  {
   "cell_type": "markdown",
   "metadata": {},
   "source": [
    "#### 计算PageRank"
   ]
  },
  {
   "cell_type": "markdown",
   "metadata": {},
   "source": [
    "通过nx.pagerank()计算有向图的PageRank"
   ]
  },
  {
   "cell_type": "code",
   "execution_count": 211,
   "metadata": {},
   "outputs": [
    {
     "name": "stdout",
     "output_type": "stream",
     "text": [
      "User 0: PageRank = 0.09499069584253748\n",
      "User 1: PageRank = 0.10547659652084884\n",
      "User 2: PageRank = 0.10547659652084884\n",
      "User 3: PageRank = 0.09499069584253748\n",
      "User 4: PageRank = 0.15931683334639937\n",
      "User 5: PageRank = 0.1020112395832942\n",
      "User 6: PageRank = 0.0785753675867465\n",
      "User 7: PageRank = 0.0785753675867465\n",
      "User 8: PageRank = 0.1020112395832942\n",
      "User 9: PageRank = 0.0785753675867465\n"
     ]
    },
    {
     "data": {
      "image/png": "[encoded data removed]",
      "text/plain": [
       "<Figure size 500x500 with 1 Axes>"
      ]
     },
     "metadata": {},
     "output_type": "display_data"
    }
   ],
   "source": [
    "# 设置图形大小\n",
    "plt.figure(figsize=(5, 5))\n",
    "\n",
    "# 计算 PageRank\n",
    "pagerank_values = nx.pagerank(G)\n",
    "\n",
    "# 输出每个节点的 PageRank 值\n",
    "for user, pagerank in pagerank_values.items():\n",
    "    print(f\"User {user}: PageRank = {pagerank}\")\n",
    "\n",
    "# 根据 PageRank 配置节点的大小\n",
    "node_sizes = [pagerank_values[user] * 5000 for user in G.nodes()]\n",
    "\n",
    "# 绘制图形\n",
    "pos = nx.circular_layout(G)\n",
    "nx.draw(G, pos, with_labels=True, node_size=node_sizes, node_color='skyblue', font_size=12, font_color='black',\n",
    "        font_weight='bold', edge_color='gray', linewidths=1, alpha=0.7, arrowsize=20, connectionstyle='arc3,rad=0.1')\n",
    "\n",
    "# 添加标题\n",
    "plt.title('Open Source Endorsement Network with PageRank')\n",
    "\n",
    "# 显示图形\n",
    "plt.show()"
   ]
  },
  {
   "cell_type": "markdown",
   "metadata": {},
   "source": [
    "由于这是开源王国的认可度，因此我们也得到了简易的 **OpenRank**。"
   ]
  }
 ],
 "metadata": {
  "kernelspec": {
   "display_name": "Python 3",
   "language": "python",
   "name": "python3"
  },
  "language_info": {
   "codemirror_mode": {
    "name": "ipython",
    "version": 3
   },
   "file_extension": ".py",
   "mimetype": "text/x-python",
   "name": "python",
   "nbconvert_exporter": "python",
   "pygments_lexer": "ipython3",
   "version": "3.11.5"
  }
 },
 "nbformat": 4,
 "nbformat_minor": 2
}
